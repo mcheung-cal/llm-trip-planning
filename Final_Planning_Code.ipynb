{
  "cells": [
    {
      "cell_type": "markdown",
      "metadata": {
        "id": "FBoomARL_cz9"
      },
      "source": [
        "# 0. Setup: Installing LangChain and LangGraph\n",
        "\n",
        "Run the two cells below to install the necessary dependencies and register your Groq API key:"
      ]
    },
    {
      "cell_type": "code",
      "execution_count": null,
      "metadata": {
        "id": "yVxC3dDl_cXw"
      },
      "outputs": [],
      "source": [
        "%%capture --no-stderr\n",
        "#%pip install --no-cache-dir langchain_core langgraph langchain_groq\n",
        "%pip install -U langchain-openai\n"
      ]
    },
    {
      "cell_type": "code",
      "execution_count": null,
      "metadata": {
        "colab": {
          "base_uri": "https://localhost:8080/"
        },
        "collapsed": true,
        "id": "VbhAL0HT_fMs",
        "outputId": "c4b9abcf-eee7-4d41-8804-08fa037663b2"
      },
      "outputs": [
        {
          "name": "stdout",
          "output_type": "stream",
          "text": [
            "Requirement already satisfied: langchain in /usr/local/lib/python3.10/dist-packages (0.3.9)\n",
            "Collecting langchain-experimental\n",
            "  Downloading langchain_experimental-0.3.3-py3-none-any.whl.metadata (1.7 kB)\n",
            "Requirement already satisfied: PyYAML>=5.3 in /usr/local/lib/python3.10/dist-packages (from langchain) (6.0.2)\n",
            "Requirement already satisfied: SQLAlchemy<3,>=1.4 in /usr/local/lib/python3.10/dist-packages (from langchain) (2.0.36)\n",
            "Requirement already satisfied: aiohttp<4.0.0,>=3.8.3 in /usr/local/lib/python3.10/dist-packages (from langchain) (3.11.9)\n",
            "Requirement already satisfied: async-timeout<5.0.0,>=4.0.0 in /usr/local/lib/python3.10/dist-packages (from langchain) (4.0.3)\n",
            "Requirement already satisfied: langchain-core<0.4.0,>=0.3.21 in /usr/local/lib/python3.10/dist-packages (from langchain) (0.3.21)\n",
            "Requirement already satisfied: langchain-text-splitters<0.4.0,>=0.3.0 in /usr/local/lib/python3.10/dist-packages (from langchain) (0.3.2)\n",
            "Requirement already satisfied: langsmith<0.2.0,>=0.1.17 in /usr/local/lib/python3.10/dist-packages (from langchain) (0.1.147)\n",
            "Requirement already satisfied: numpy<2,>=1.22.4 in /usr/local/lib/python3.10/dist-packages (from langchain) (1.26.4)\n",
            "Requirement already satisfied: pydantic<3.0.0,>=2.7.4 in /usr/local/lib/python3.10/dist-packages (from langchain) (2.10.3)\n",
            "Requirement already satisfied: requests<3,>=2 in /usr/local/lib/python3.10/dist-packages (from langchain) (2.32.3)\n",
            "Requirement already satisfied: tenacity!=8.4.0,<10,>=8.1.0 in /usr/local/lib/python3.10/dist-packages (from langchain) (9.0.0)\n",
            "Collecting langchain-community<0.4.0,>=0.3.0 (from langchain-experimental)\n",
            "  Downloading langchain_community-0.3.9-py3-none-any.whl.metadata (2.9 kB)\n",
            "Requirement already satisfied: aiohappyeyeballs>=2.3.0 in /usr/local/lib/python3.10/dist-packages (from aiohttp<4.0.0,>=3.8.3->langchain) (2.4.4)\n",
            "Requirement already satisfied: aiosignal>=1.1.2 in /usr/local/lib/python3.10/dist-packages (from aiohttp<4.0.0,>=3.8.3->langchain) (1.3.1)\n",
            "Requirement already satisfied: attrs>=17.3.0 in /usr/local/lib/python3.10/dist-packages (from aiohttp<4.0.0,>=3.8.3->langchain) (24.2.0)\n",
            "Requirement already satisfied: frozenlist>=1.1.1 in /usr/local/lib/python3.10/dist-packages (from aiohttp<4.0.0,>=3.8.3->langchain) (1.5.0)\n",
            "Requirement already satisfied: multidict<7.0,>=4.5 in /usr/local/lib/python3.10/dist-packages (from aiohttp<4.0.0,>=3.8.3->langchain) (6.1.0)\n",
            "Requirement already satisfied: propcache>=0.2.0 in /usr/local/lib/python3.10/dist-packages (from aiohttp<4.0.0,>=3.8.3->langchain) (0.2.1)\n",
            "Requirement already satisfied: yarl<2.0,>=1.17.0 in /usr/local/lib/python3.10/dist-packages (from aiohttp<4.0.0,>=3.8.3->langchain) (1.18.3)\n",
            "Collecting dataclasses-json<0.7,>=0.5.7 (from langchain-community<0.4.0,>=0.3.0->langchain-experimental)\n",
            "  Downloading dataclasses_json-0.6.7-py3-none-any.whl.metadata (25 kB)\n",
            "Collecting httpx-sse<0.5.0,>=0.4.0 (from langchain-community<0.4.0,>=0.3.0->langchain-experimental)\n",
            "  Downloading httpx_sse-0.4.0-py3-none-any.whl.metadata (9.0 kB)\n",
            "Collecting pydantic-settings<3.0.0,>=2.4.0 (from langchain-community<0.4.0,>=0.3.0->langchain-experimental)\n",
            "  Downloading pydantic_settings-2.6.1-py3-none-any.whl.metadata (3.5 kB)\n",
            "Requirement already satisfied: jsonpatch<2.0,>=1.33 in /usr/local/lib/python3.10/dist-packages (from langchain-core<0.4.0,>=0.3.21->langchain) (1.33)\n",
            "Requirement already satisfied: packaging<25,>=23.2 in /usr/local/lib/python3.10/dist-packages (from langchain-core<0.4.0,>=0.3.21->langchain) (24.2)\n",
            "Requirement already satisfied: typing-extensions>=4.7 in /usr/local/lib/python3.10/dist-packages (from langchain-core<0.4.0,>=0.3.21->langchain) (4.12.2)\n",
            "Requirement already satisfied: httpx<1,>=0.23.0 in /usr/local/lib/python3.10/dist-packages (from langsmith<0.2.0,>=0.1.17->langchain) (0.28.0)\n",
            "Requirement already satisfied: orjson<4.0.0,>=3.9.14 in /usr/local/lib/python3.10/dist-packages (from langsmith<0.2.0,>=0.1.17->langchain) (3.10.12)\n",
            "Requirement already satisfied: requests-toolbelt<2.0.0,>=1.0.0 in /usr/local/lib/python3.10/dist-packages (from langsmith<0.2.0,>=0.1.17->langchain) (1.0.0)\n",
            "Requirement already satisfied: annotated-types>=0.6.0 in /usr/local/lib/python3.10/dist-packages (from pydantic<3.0.0,>=2.7.4->langchain) (0.7.0)\n",
            "Requirement already satisfied: pydantic-core==2.27.1 in /usr/local/lib/python3.10/dist-packages (from pydantic<3.0.0,>=2.7.4->langchain) (2.27.1)\n",
            "Requirement already satisfied: charset-normalizer<4,>=2 in /usr/local/lib/python3.10/dist-packages (from requests<3,>=2->langchain) (3.4.0)\n",
            "Requirement already satisfied: idna<4,>=2.5 in /usr/local/lib/python3.10/dist-packages (from requests<3,>=2->langchain) (3.10)\n",
            "Requirement already satisfied: urllib3<3,>=1.21.1 in /usr/local/lib/python3.10/dist-packages (from requests<3,>=2->langchain) (2.2.3)\n",
            "Requirement already satisfied: certifi>=2017.4.17 in /usr/local/lib/python3.10/dist-packages (from requests<3,>=2->langchain) (2024.8.30)\n",
            "Requirement already satisfied: greenlet!=0.4.17 in /usr/local/lib/python3.10/dist-packages (from SQLAlchemy<3,>=1.4->langchain) (3.1.1)\n",
            "Collecting marshmallow<4.0.0,>=3.18.0 (from dataclasses-json<0.7,>=0.5.7->langchain-community<0.4.0,>=0.3.0->langchain-experimental)\n",
            "  Downloading marshmallow-3.23.1-py3-none-any.whl.metadata (7.5 kB)\n",
            "Collecting typing-inspect<1,>=0.4.0 (from dataclasses-json<0.7,>=0.5.7->langchain-community<0.4.0,>=0.3.0->langchain-experimental)\n",
            "  Downloading typing_inspect-0.9.0-py3-none-any.whl.metadata (1.5 kB)\n",
            "Requirement already satisfied: anyio in /usr/local/lib/python3.10/dist-packages (from httpx<1,>=0.23.0->langsmith<0.2.0,>=0.1.17->langchain) (3.7.1)\n",
            "Requirement already satisfied: httpcore==1.* in /usr/local/lib/python3.10/dist-packages (from httpx<1,>=0.23.0->langsmith<0.2.0,>=0.1.17->langchain) (1.0.7)\n",
            "Requirement already satisfied: h11<0.15,>=0.13 in /usr/local/lib/python3.10/dist-packages (from httpcore==1.*->httpx<1,>=0.23.0->langsmith<0.2.0,>=0.1.17->langchain) (0.14.0)\n",
            "Requirement already satisfied: jsonpointer>=1.9 in /usr/local/lib/python3.10/dist-packages (from jsonpatch<2.0,>=1.33->langchain-core<0.4.0,>=0.3.21->langchain) (3.0.0)\n",
            "Collecting python-dotenv>=0.21.0 (from pydantic-settings<3.0.0,>=2.4.0->langchain-community<0.4.0,>=0.3.0->langchain-experimental)\n",
            "  Downloading python_dotenv-1.0.1-py3-none-any.whl.metadata (23 kB)\n",
            "Collecting mypy-extensions>=0.3.0 (from typing-inspect<1,>=0.4.0->dataclasses-json<0.7,>=0.5.7->langchain-community<0.4.0,>=0.3.0->langchain-experimental)\n",
            "  Downloading mypy_extensions-1.0.0-py3-none-any.whl.metadata (1.1 kB)\n",
            "Requirement already satisfied: sniffio>=1.1 in /usr/local/lib/python3.10/dist-packages (from anyio->httpx<1,>=0.23.0->langsmith<0.2.0,>=0.1.17->langchain) (1.3.1)\n",
            "Requirement already satisfied: exceptiongroup in /usr/local/lib/python3.10/dist-packages (from anyio->httpx<1,>=0.23.0->langsmith<0.2.0,>=0.1.17->langchain) (1.2.2)\n",
            "Downloading langchain_experimental-0.3.3-py3-none-any.whl (208 kB)\n",
            "\u001b[2K   \u001b[90m━━━━━━━━━━━━━━━━━━━━━━━━━━━━━━━━━━━━━━━━\u001b[0m \u001b[32m209.0/209.0 kB\u001b[0m \u001b[31m5.2 MB/s\u001b[0m eta \u001b[36m0:00:00\u001b[0m\n",
            "\u001b[?25hDownloading langchain_community-0.3.9-py3-none-any.whl (2.4 MB)\n",
            "\u001b[2K   \u001b[90m━━━━━━━━━━━━━━━━━━━━━━━━━━━━━━━━━━━━━━━━\u001b[0m \u001b[32m2.4/2.4 MB\u001b[0m \u001b[31m30.4 MB/s\u001b[0m eta \u001b[36m0:00:00\u001b[0m\n",
            "\u001b[?25hDownloading dataclasses_json-0.6.7-py3-none-any.whl (28 kB)\n",
            "Downloading httpx_sse-0.4.0-py3-none-any.whl (7.8 kB)\n",
            "Downloading pydantic_settings-2.6.1-py3-none-any.whl (28 kB)\n",
            "Downloading marshmallow-3.23.1-py3-none-any.whl (49 kB)\n",
            "\u001b[2K   \u001b[90m━━━━━━━━━━━━━━━━━━━━━━━━━━━━━━━━━━━━━━━━\u001b[0m \u001b[32m49.5/49.5 kB\u001b[0m \u001b[31m2.2 MB/s\u001b[0m eta \u001b[36m0:00:00\u001b[0m\n",
            "\u001b[?25hDownloading python_dotenv-1.0.1-py3-none-any.whl (19 kB)\n",
            "Downloading typing_inspect-0.9.0-py3-none-any.whl (8.8 kB)\n",
            "Downloading mypy_extensions-1.0.0-py3-none-any.whl (4.7 kB)\n",
            "Installing collected packages: python-dotenv, mypy-extensions, marshmallow, httpx-sse, typing-inspect, pydantic-settings, dataclasses-json, langchain-community, langchain-experimental\n",
            "Successfully installed dataclasses-json-0.6.7 httpx-sse-0.4.0 langchain-community-0.3.9 langchain-experimental-0.3.3 marshmallow-3.23.1 mypy-extensions-1.0.0 pydantic-settings-2.6.1 python-dotenv-1.0.1 typing-inspect-0.9.0\n"
          ]
        }
      ],
      "source": [
        "!pip install langchain langchain-experimental"
      ]
    },
    {
      "cell_type": "code",
      "execution_count": null,
      "metadata": {
        "colab": {
          "base_uri": "https://localhost:8080/"
        },
        "id": "5ZMDevhgBYGC",
        "outputId": "aeb2bf34-c122-49ad-e19e-af13f8f2639b"
      },
      "outputs": [
        {
          "name": "stdout",
          "output_type": "stream",
          "text": [
            "Collecting langgraph\n",
            "  Downloading langgraph-0.2.56-py3-none-any.whl.metadata (15 kB)\n",
            "Requirement already satisfied: langchain-core!=0.3.0,!=0.3.1,!=0.3.10,!=0.3.11,!=0.3.12,!=0.3.13,!=0.3.14,!=0.3.2,!=0.3.3,!=0.3.4,!=0.3.5,!=0.3.6,!=0.3.7,!=0.3.8,!=0.3.9,<0.4.0,>=0.2.43 in /usr/local/lib/python3.10/dist-packages (from langgraph) (0.3.21)\n",
            "Collecting langgraph-checkpoint<3.0.0,>=2.0.4 (from langgraph)\n",
            "  Downloading langgraph_checkpoint-2.0.8-py3-none-any.whl.metadata (4.6 kB)\n",
            "Collecting langgraph-sdk<0.2.0,>=0.1.42 (from langgraph)\n",
            "  Downloading langgraph_sdk-0.1.43-py3-none-any.whl.metadata (1.8 kB)\n",
            "Requirement already satisfied: PyYAML>=5.3 in /usr/local/lib/python3.10/dist-packages (from langchain-core!=0.3.0,!=0.3.1,!=0.3.10,!=0.3.11,!=0.3.12,!=0.3.13,!=0.3.14,!=0.3.2,!=0.3.3,!=0.3.4,!=0.3.5,!=0.3.6,!=0.3.7,!=0.3.8,!=0.3.9,<0.4.0,>=0.2.43->langgraph) (6.0.2)\n",
            "Requirement already satisfied: jsonpatch<2.0,>=1.33 in /usr/local/lib/python3.10/dist-packages (from langchain-core!=0.3.0,!=0.3.1,!=0.3.10,!=0.3.11,!=0.3.12,!=0.3.13,!=0.3.14,!=0.3.2,!=0.3.3,!=0.3.4,!=0.3.5,!=0.3.6,!=0.3.7,!=0.3.8,!=0.3.9,<0.4.0,>=0.2.43->langgraph) (1.33)\n",
            "Requirement already satisfied: langsmith<0.2.0,>=0.1.125 in /usr/local/lib/python3.10/dist-packages (from langchain-core!=0.3.0,!=0.3.1,!=0.3.10,!=0.3.11,!=0.3.12,!=0.3.13,!=0.3.14,!=0.3.2,!=0.3.3,!=0.3.4,!=0.3.5,!=0.3.6,!=0.3.7,!=0.3.8,!=0.3.9,<0.4.0,>=0.2.43->langgraph) (0.1.147)\n",
            "Requirement already satisfied: packaging<25,>=23.2 in /usr/local/lib/python3.10/dist-packages (from langchain-core!=0.3.0,!=0.3.1,!=0.3.10,!=0.3.11,!=0.3.12,!=0.3.13,!=0.3.14,!=0.3.2,!=0.3.3,!=0.3.4,!=0.3.5,!=0.3.6,!=0.3.7,!=0.3.8,!=0.3.9,<0.4.0,>=0.2.43->langgraph) (24.2)\n",
            "Requirement already satisfied: pydantic<3.0.0,>=2.5.2 in /usr/local/lib/python3.10/dist-packages (from langchain-core!=0.3.0,!=0.3.1,!=0.3.10,!=0.3.11,!=0.3.12,!=0.3.13,!=0.3.14,!=0.3.2,!=0.3.3,!=0.3.4,!=0.3.5,!=0.3.6,!=0.3.7,!=0.3.8,!=0.3.9,<0.4.0,>=0.2.43->langgraph) (2.10.3)\n",
            "Requirement already satisfied: tenacity!=8.4.0,<10.0.0,>=8.1.0 in /usr/local/lib/python3.10/dist-packages (from langchain-core!=0.3.0,!=0.3.1,!=0.3.10,!=0.3.11,!=0.3.12,!=0.3.13,!=0.3.14,!=0.3.2,!=0.3.3,!=0.3.4,!=0.3.5,!=0.3.6,!=0.3.7,!=0.3.8,!=0.3.9,<0.4.0,>=0.2.43->langgraph) (9.0.0)\n",
            "Requirement already satisfied: typing-extensions>=4.7 in /usr/local/lib/python3.10/dist-packages (from langchain-core!=0.3.0,!=0.3.1,!=0.3.10,!=0.3.11,!=0.3.12,!=0.3.13,!=0.3.14,!=0.3.2,!=0.3.3,!=0.3.4,!=0.3.5,!=0.3.6,!=0.3.7,!=0.3.8,!=0.3.9,<0.4.0,>=0.2.43->langgraph) (4.12.2)\n",
            "Requirement already satisfied: msgpack<2.0.0,>=1.1.0 in /usr/local/lib/python3.10/dist-packages (from langgraph-checkpoint<3.0.0,>=2.0.4->langgraph) (1.1.0)\n",
            "Requirement already satisfied: httpx>=0.25.2 in /usr/local/lib/python3.10/dist-packages (from langgraph-sdk<0.2.0,>=0.1.42->langgraph) (0.28.0)\n",
            "Requirement already satisfied: orjson>=3.10.1 in /usr/local/lib/python3.10/dist-packages (from langgraph-sdk<0.2.0,>=0.1.42->langgraph) (3.10.12)\n",
            "Requirement already satisfied: anyio in /usr/local/lib/python3.10/dist-packages (from httpx>=0.25.2->langgraph-sdk<0.2.0,>=0.1.42->langgraph) (3.7.1)\n",
            "Requirement already satisfied: certifi in /usr/local/lib/python3.10/dist-packages (from httpx>=0.25.2->langgraph-sdk<0.2.0,>=0.1.42->langgraph) (2024.8.30)\n",
            "Requirement already satisfied: httpcore==1.* in /usr/local/lib/python3.10/dist-packages (from httpx>=0.25.2->langgraph-sdk<0.2.0,>=0.1.42->langgraph) (1.0.7)\n",
            "Requirement already satisfied: idna in /usr/local/lib/python3.10/dist-packages (from httpx>=0.25.2->langgraph-sdk<0.2.0,>=0.1.42->langgraph) (3.10)\n",
            "Requirement already satisfied: h11<0.15,>=0.13 in /usr/local/lib/python3.10/dist-packages (from httpcore==1.*->httpx>=0.25.2->langgraph-sdk<0.2.0,>=0.1.42->langgraph) (0.14.0)\n",
            "Requirement already satisfied: jsonpointer>=1.9 in /usr/local/lib/python3.10/dist-packages (from jsonpatch<2.0,>=1.33->langchain-core!=0.3.0,!=0.3.1,!=0.3.10,!=0.3.11,!=0.3.12,!=0.3.13,!=0.3.14,!=0.3.2,!=0.3.3,!=0.3.4,!=0.3.5,!=0.3.6,!=0.3.7,!=0.3.8,!=0.3.9,<0.4.0,>=0.2.43->langgraph) (3.0.0)\n",
            "Requirement already satisfied: requests<3,>=2 in /usr/local/lib/python3.10/dist-packages (from langsmith<0.2.0,>=0.1.125->langchain-core!=0.3.0,!=0.3.1,!=0.3.10,!=0.3.11,!=0.3.12,!=0.3.13,!=0.3.14,!=0.3.2,!=0.3.3,!=0.3.4,!=0.3.5,!=0.3.6,!=0.3.7,!=0.3.8,!=0.3.9,<0.4.0,>=0.2.43->langgraph) (2.32.3)\n",
            "Requirement already satisfied: requests-toolbelt<2.0.0,>=1.0.0 in /usr/local/lib/python3.10/dist-packages (from langsmith<0.2.0,>=0.1.125->langchain-core!=0.3.0,!=0.3.1,!=0.3.10,!=0.3.11,!=0.3.12,!=0.3.13,!=0.3.14,!=0.3.2,!=0.3.3,!=0.3.4,!=0.3.5,!=0.3.6,!=0.3.7,!=0.3.8,!=0.3.9,<0.4.0,>=0.2.43->langgraph) (1.0.0)\n",
            "Requirement already satisfied: annotated-types>=0.6.0 in /usr/local/lib/python3.10/dist-packages (from pydantic<3.0.0,>=2.5.2->langchain-core!=0.3.0,!=0.3.1,!=0.3.10,!=0.3.11,!=0.3.12,!=0.3.13,!=0.3.14,!=0.3.2,!=0.3.3,!=0.3.4,!=0.3.5,!=0.3.6,!=0.3.7,!=0.3.8,!=0.3.9,<0.4.0,>=0.2.43->langgraph) (0.7.0)\n",
            "Requirement already satisfied: pydantic-core==2.27.1 in /usr/local/lib/python3.10/dist-packages (from pydantic<3.0.0,>=2.5.2->langchain-core!=0.3.0,!=0.3.1,!=0.3.10,!=0.3.11,!=0.3.12,!=0.3.13,!=0.3.14,!=0.3.2,!=0.3.3,!=0.3.4,!=0.3.5,!=0.3.6,!=0.3.7,!=0.3.8,!=0.3.9,<0.4.0,>=0.2.43->langgraph) (2.27.1)\n",
            "Requirement already satisfied: charset-normalizer<4,>=2 in /usr/local/lib/python3.10/dist-packages (from requests<3,>=2->langsmith<0.2.0,>=0.1.125->langchain-core!=0.3.0,!=0.3.1,!=0.3.10,!=0.3.11,!=0.3.12,!=0.3.13,!=0.3.14,!=0.3.2,!=0.3.3,!=0.3.4,!=0.3.5,!=0.3.6,!=0.3.7,!=0.3.8,!=0.3.9,<0.4.0,>=0.2.43->langgraph) (3.4.0)\n",
            "Requirement already satisfied: urllib3<3,>=1.21.1 in /usr/local/lib/python3.10/dist-packages (from requests<3,>=2->langsmith<0.2.0,>=0.1.125->langchain-core!=0.3.0,!=0.3.1,!=0.3.10,!=0.3.11,!=0.3.12,!=0.3.13,!=0.3.14,!=0.3.2,!=0.3.3,!=0.3.4,!=0.3.5,!=0.3.6,!=0.3.7,!=0.3.8,!=0.3.9,<0.4.0,>=0.2.43->langgraph) (2.2.3)\n",
            "Requirement already satisfied: sniffio>=1.1 in /usr/local/lib/python3.10/dist-packages (from anyio->httpx>=0.25.2->langgraph-sdk<0.2.0,>=0.1.42->langgraph) (1.3.1)\n",
            "Requirement already satisfied: exceptiongroup in /usr/local/lib/python3.10/dist-packages (from anyio->httpx>=0.25.2->langgraph-sdk<0.2.0,>=0.1.42->langgraph) (1.2.2)\n",
            "Downloading langgraph-0.2.56-py3-none-any.whl (126 kB)\n",
            "\u001b[2K   \u001b[90m━━━━━━━━━━━━━━━━━━━━━━━━━━━━━━━━━━━━━━━━\u001b[0m \u001b[32m126.8/126.8 kB\u001b[0m \u001b[31m4.2 MB/s\u001b[0m eta \u001b[36m0:00:00\u001b[0m\n",
            "\u001b[?25hDownloading langgraph_checkpoint-2.0.8-py3-none-any.whl (35 kB)\n",
            "Downloading langgraph_sdk-0.1.43-py3-none-any.whl (31 kB)\n",
            "Installing collected packages: langgraph-sdk, langgraph-checkpoint, langgraph\n",
            "Successfully installed langgraph-0.2.56 langgraph-checkpoint-2.0.8 langgraph-sdk-0.1.43\n"
          ]
        }
      ],
      "source": [
        "pip install -U langgraph"
      ]
    },
    {
      "cell_type": "code",
      "execution_count": null,
      "metadata": {
        "id": "zhpcBjGs_gYB"
      },
      "outputs": [],
      "source": []
    },
    {
      "cell_type": "code",
      "execution_count": null,
      "metadata": {
        "colab": {
          "base_uri": "https://localhost:8080/",
          "height": 52
        },
        "id": "-cnMm-ZP_hhu",
        "outputId": "1a095979-229c-4c9c-a7ad-d9c8cda47897"
      },
      "outputs": [
        {
          "data": {
            "application/vnd.google.colaboratory.intrinsic+json": {
              "type": "string"
            },
            "text/plain": [
              "'\\nfrom getpass import getpass\\nimport os\\nos.environ[\"GROQ_API_KEY\"] = getpass(\"Provide your Groq API Key and hit \\'Enter\\'\")\\n'"
            ]
          },
          "execution_count": 12,
          "metadata": {},
          "output_type": "execute_result"
        }
      ],
      "source": [
        "# code for groq key\n",
        "\"\"\"\n",
        "from getpass import getpass\n",
        "import os\n",
        "os.environ[\"GROQ_API_KEY\"] = getpass(\"Provide your Groq API Key and hit 'Enter'\")\n",
        "\"\"\""
      ]
    },
    {
      "cell_type": "code",
      "execution_count": null,
      "metadata": {
        "id": "691VeBCo_irD"
      },
      "outputs": [],
      "source": [
        "import pandas as pd\n",
        "#from langchain_groq import ChatGroq\n",
        "from langchain_openai import ChatOpenAI\n",
        "import openai"
      ]
    },
    {
      "cell_type": "code",
      "execution_count": null,
      "metadata": {
        "id": "u0Wbt26oidQ-"
      },
      "outputs": [],
      "source": []
    },
    {
      "cell_type": "code",
      "execution_count": null,
      "metadata": {
        "id": "e42OMN0o_ORf"
      },
      "outputs": [],
      "source": [
        "# requirements.txt\n",
        "%%writefile requirements.txt\n",
        "\n",
        "<contents of your requiements.txt>"
      ]
    },
    {
      "cell_type": "markdown",
      "metadata": {
        "id": "LVKslMwXC1GU"
      },
      "source": [
        "# 1. Loading the datasets\n",
        "* TO-DO: make synthetic data using Chat-GPT"
      ]
    },
    {
      "cell_type": "code",
      "execution_count": null,
      "metadata": {
        "colab": {
          "base_uri": "https://localhost:8080/"
        },
        "id": "KpKe3q1VDA57",
        "outputId": "371d25b1-76e4-4f20-c5e4-7ef5c9451973"
      },
      "outputs": [
        {
          "name": "stdout",
          "output_type": "stream",
          "text": [
            "Mounted at /content/drive/\n"
          ]
        }
      ],
      "source": [
        "# uncomment last two lines and run this cell to mount drive.\n",
        "# make sure to save the student-2024-fall-ucal folder as a shortcut to your drive\n",
        "#otherwise the file paths below will not work\n",
        "\n",
        "from google.colab import drive\n",
        "drive.mount('/content/drive/')"
      ]
    },
    {
      "cell_type": "code",
      "execution_count": null,
      "metadata": {
        "colab": {
          "base_uri": "https://localhost:8080/"
        },
        "id": "TqcJg_gwDFtf",
        "outputId": "3da8b97c-d9fc-44bc-9b65-f32e08984dcc"
      },
      "outputs": [
        {
          "name": "stdout",
          "output_type": "stream",
          "text": [
            "/content/drive/.shortcut-targets-by-id/1Rq001SFXrYKhYCSEjBlxgE_hNHlwMqi_/student-2024-fall-ucal/Databases\n"
          ]
        }
      ],
      "source": [
        "%cd /content/drive/MyDrive/student-2024-fall-ucal/Databases/"
      ]
    },
    {
      "cell_type": "code",
      "execution_count": null,
      "metadata": {
        "colab": {
          "base_uri": "https://localhost:8080/",
          "height": 282
        },
        "id": "Z4qScoF3DIFL",
        "outputId": "8241a7f0-3736-474f-d0aa-15b6dcff52a5"
      },
      "outputs": [
        {
          "data": {
            "application/vnd.google.colaboratory.intrinsic+json": {
              "summary": "{\n  \"name\": \"cal_events\",\n  \"rows\": 31,\n  \"fields\": [\n    {\n      \"column\": \"Start date-time\",\n      \"properties\": {\n        \"dtype\": \"object\",\n        \"num_unique_values\": 29,\n        \"samples\": [\n          \"11/13/2024 18:00:00\",\n          \"10/31/2024 22:00:00\",\n          \"10/11/2024 8:00:00\"\n        ],\n        \"semantic_type\": \"\",\n        \"description\": \"\"\n      }\n    },\n    {\n      \"column\": \"End date-time\",\n      \"properties\": {\n        \"dtype\": \"object\",\n        \"num_unique_values\": 28,\n        \"samples\": [\n          \"10/8/2024 18:00:00\",\n          \"10/23/2024 12:00:00\",\n          \"10/7/2024 22:00:00\"\n        ],\n        \"semantic_type\": \"\",\n        \"description\": \"\"\n      }\n    },\n    {\n      \"column\": \"Location Name\",\n      \"properties\": {\n        \"dtype\": \"string\",\n        \"num_unique_values\": 26,\n        \"samples\": [\n          \"Evans Hall Room 60\",\n          \"Fox Theater\",\n          \"Soda Hall Room 510\"\n        ],\n        \"semantic_type\": \"\",\n        \"description\": \"\"\n      }\n    },\n    {\n      \"column\": \"Location Address\",\n      \"properties\": {\n        \"dtype\": \"string\",\n        \"num_unique_values\": 23,\n        \"samples\": [\n          \"2367 Shattuck Ave., Berkeley, CA 94704\",\n          \"Hearst Greek Theatre, 2001 Gayley Rd, Berkeley, CA 94720\",\n          \"2551 Hearst Ave, Berkeley, CA 94709\"\n        ],\n        \"semantic_type\": \"\",\n        \"description\": \"\"\n      }\n    },\n    {\n      \"column\": \"Event title\",\n      \"properties\": {\n        \"dtype\": \"string\",\n        \"num_unique_values\": 31,\n        \"samples\": [\n          \"Bizerkeley Vegan Food Festival\",\n          \"2024 Fall ASUC Startup Fair\",\n          \"October Open Mic - Tiny Dorm\"\n        ],\n        \"semantic_type\": \"\",\n        \"description\": \"\"\n      }\n    },\n    {\n      \"column\": \"Event description\",\n      \"properties\": {\n        \"dtype\": \"string\",\n        \"num_unique_values\": 31,\n        \"samples\": [\n          \"This vegan festival celebrates plant-based cuisine with over 100 vendors showcasing food, beverages, and cruelty-free products. It also features live entertainment and games for the entire family.\",\n          \"Welcome to the 2024 Fall ASUC Startup Fair!\\n\\nThe event is primarily open to UC Berkeley students, scholars, and entrepreneurs around UC Berkeley campus including local businesses and alumni. It mainly focuses on providing opportunities for attending startups to increase their exposures on campus, test their products with potential customer groups, recruit students to accelerate their development, and explore investment opportunities from various campus resources (Incubators, VCs, etc.). There will be no charges for all people who are interested to participate in this fair.\\n\\n\\ud83d\\udcc5Date & Time: Oct 23, 2-6PM (please make sure that your company can attend for at least 2 consecutive hours)\\n\\ud83d\\udccdLocation: Senate Chamber, Eshleman Hall (2465 Bancroft Way)\\n\\u2764\\ufe0fEligibility: We would require the startup to at least have a MVP ready to put into beta testing. We would also kindly encourage you to imply the stage of your company so that we can optimize your fair experience!\\n\\ud83c\\udf71Catering: We provide charcuterie, snacks, and water (you can also find them around the building).\\n\\ud83c\\udfeeCultural Inclusivity: As a strong advocate for multiculturalism, we warmly welcome all cultural groups and entrepreneurs from all cultural backgrounds to join our event.\\nFor more information, please follow us on Instagram @senator.annabelwang\\nStartup Sign-up: https://forms.gle/eboRiuz9ATTqMwcP8\\nStudent / Bay Area Scholar Sign-up: https://forms.gle/ChtGTHnAZTt5EiZq8\\nInvestor / Alumni: Sign up directly through Eventbrite.\\nIf you're joining us from around the Bay Area, please fill out this form so we can reimburse your parking fee.\\n\",\n          \"MUSIC LOVERS! Tiny Dorms\\u2019s October Open Mic is here! \\ud83e\\udd2f Get ready to sing your hearts out and finally prove to your friends that you can actually play guitar and didn\\u2019t just learn two chords after watching a YouTube cover at 2am. \\ud83c\\udfb8\\n\\nTickets are in the link in bio, slots fill fast!!! RSVP to secure your spot. DM us for any other questions!!! See you there!!!\"\n        ],\n        \"semantic_type\": \"\",\n        \"description\": \"\"\n      }\n    },\n    {\n      \"column\": \"Event tags\",\n      \"properties\": {\n        \"dtype\": \"string\",\n        \"num_unique_values\": 30,\n        \"samples\": [\n          \"Food, foodie, local food, sustainable, family-friendly, live music, Free entry\",\n          \"Computer Science, Course planning, advising, EECS\",\n          \"Short Films, Student Films, Movies, Film Screening\"\n        ],\n        \"semantic_type\": \"\",\n        \"description\": \"\"\n      }\n    },\n    {\n      \"column\": \"Target audience\",\n      \"properties\": {\n        \"dtype\": \"string\",\n        \"num_unique_values\": 16,\n        \"samples\": [\n          \"minority in EECS/Computer Science, junior transfer student, enrolled in CS 61C, CS162, CS186, CS161, CS152, CS168)\",\n          \"Open to all\",\n          \"All EECS students, open to all\"\n        ],\n        \"semantic_type\": \"\",\n        \"description\": \"\"\n      }\n    },\n    {\n      \"column\": \"Budget\",\n      \"properties\": {\n        \"dtype\": \"category\",\n        \"num_unique_values\": 8,\n        \"samples\": [\n          \"40\",\n          \"50\",\n          \"0\"\n        ],\n        \"semantic_type\": \"\",\n        \"description\": \"\"\n      }\n    }\n  ]\n}",
              "type": "dataframe",
              "variable_name": "cal_events"
            },
            "text/html": [
              "\n",
              "  <div id=\"df-bce374ad-5823-4032-9173-df40db57f760\" class=\"colab-df-container\">\n",
              "    <div>\n",
              "<style scoped>\n",
              "    .dataframe tbody tr th:only-of-type {\n",
              "        vertical-align: middle;\n",
              "    }\n",
              "\n",
              "    .dataframe tbody tr th {\n",
              "        vertical-align: top;\n",
              "    }\n",
              "\n",
              "    .dataframe thead th {\n",
              "        text-align: right;\n",
              "    }\n",
              "</style>\n",
              "<table border=\"1\" class=\"dataframe\">\n",
              "  <thead>\n",
              "    <tr style=\"text-align: right;\">\n",
              "      <th></th>\n",
              "      <th>Start date-time</th>\n",
              "      <th>End date-time</th>\n",
              "      <th>Location Name</th>\n",
              "      <th>Location Address</th>\n",
              "      <th>Event title</th>\n",
              "      <th>Event description</th>\n",
              "      <th>Event tags</th>\n",
              "      <th>Target audience</th>\n",
              "      <th>Budget</th>\n",
              "    </tr>\n",
              "  </thead>\n",
              "  <tbody>\n",
              "    <tr>\n",
              "      <th>0</th>\n",
              "      <td>10/11/2024 15:00:00</td>\n",
              "      <td>10/12/2024 16:00:00</td>\n",
              "      <td>Soda Hall Room 510</td>\n",
              "      <td>2551 Hearst Ave, Berkeley, CA 94709</td>\n",
              "      <td>Data4All Undergraduate Teaching</td>\n",
              "      <td>DataCookies (October Edition): Data4All Underg...</td>\n",
              "      <td>Data Science, Teaching, minority in EECS/Compu...</td>\n",
              "      <td>minority in EECS/Computer Science, junior tran...</td>\n",
              "      <td>0</td>\n",
              "    </tr>\n",
              "    <tr>\n",
              "      <th>1</th>\n",
              "      <td>10/12/2024 19:30:00</td>\n",
              "      <td>10/12/2024 22:30:00</td>\n",
              "      <td>Memorial Stadium</td>\n",
              "      <td>210 Stadium Rim Way, Berkeley, CA 94720</td>\n",
              "      <td>8 Miami Hurricanes v California Golden Bears</td>\n",
              "      <td>Football Game</td>\n",
              "      <td>College Sports, Football, School Spirit</td>\n",
              "      <td>Open to all</td>\n",
              "      <td>40</td>\n",
              "    </tr>\n",
              "    <tr>\n",
              "      <th>2</th>\n",
              "      <td>10/13/2024 13:00:00</td>\n",
              "      <td>10/13/2024 16:00:00</td>\n",
              "      <td>The Woz</td>\n",
              "      <td>1860 Le Roy Ave, Berkeley, CA 94720</td>\n",
              "      <td>[HKN] Course Planning Workshop</td>\n",
              "      <td>Need help deciding what courses to take next s...</td>\n",
              "      <td>Computer Science, Course planning, advising, c...</td>\n",
              "      <td>open to all, targeting CS/EECS majors</td>\n",
              "      <td>0</td>\n",
              "    </tr>\n",
              "  </tbody>\n",
              "</table>\n",
              "</div>\n",
              "    <div class=\"colab-df-buttons\">\n",
              "\n",
              "  <div class=\"colab-df-container\">\n",
              "    <button class=\"colab-df-convert\" onclick=\"convertToInteractive('df-bce374ad-5823-4032-9173-df40db57f760')\"\n",
              "            title=\"Convert this dataframe to an interactive table.\"\n",
              "            style=\"display:none;\">\n",
              "\n",
              "  <svg xmlns=\"http://www.w3.org/2000/svg\" height=\"24px\" viewBox=\"0 -960 960 960\">\n",
              "    <path d=\"M120-120v-720h720v720H120Zm60-500h600v-160H180v160Zm220 220h160v-160H400v160Zm0 220h160v-160H400v160ZM180-400h160v-160H180v160Zm440 0h160v-160H620v160ZM180-180h160v-160H180v160Zm440 0h160v-160H620v160Z\"/>\n",
              "  </svg>\n",
              "    </button>\n",
              "\n",
              "  <style>\n",
              "    .colab-df-container {\n",
              "      display:flex;\n",
              "      gap: 12px;\n",
              "    }\n",
              "\n",
              "    .colab-df-convert {\n",
              "      background-color: #E8F0FE;\n",
              "      border: none;\n",
              "      border-radius: 50%;\n",
              "      cursor: pointer;\n",
              "      display: none;\n",
              "      fill: #1967D2;\n",
              "      height: 32px;\n",
              "      padding: 0 0 0 0;\n",
              "      width: 32px;\n",
              "    }\n",
              "\n",
              "    .colab-df-convert:hover {\n",
              "      background-color: #E2EBFA;\n",
              "      box-shadow: 0px 1px 2px rgba(60, 64, 67, 0.3), 0px 1px 3px 1px rgba(60, 64, 67, 0.15);\n",
              "      fill: #174EA6;\n",
              "    }\n",
              "\n",
              "    .colab-df-buttons div {\n",
              "      margin-bottom: 4px;\n",
              "    }\n",
              "\n",
              "    [theme=dark] .colab-df-convert {\n",
              "      background-color: #3B4455;\n",
              "      fill: #D2E3FC;\n",
              "    }\n",
              "\n",
              "    [theme=dark] .colab-df-convert:hover {\n",
              "      background-color: #434B5C;\n",
              "      box-shadow: 0px 1px 3px 1px rgba(0, 0, 0, 0.15);\n",
              "      filter: drop-shadow(0px 1px 2px rgba(0, 0, 0, 0.3));\n",
              "      fill: #FFFFFF;\n",
              "    }\n",
              "  </style>\n",
              "\n",
              "    <script>\n",
              "      const buttonEl =\n",
              "        document.querySelector('#df-bce374ad-5823-4032-9173-df40db57f760 button.colab-df-convert');\n",
              "      buttonEl.style.display =\n",
              "        google.colab.kernel.accessAllowed ? 'block' : 'none';\n",
              "\n",
              "      async function convertToInteractive(key) {\n",
              "        const element = document.querySelector('#df-bce374ad-5823-4032-9173-df40db57f760');\n",
              "        const dataTable =\n",
              "          await google.colab.kernel.invokeFunction('convertToInteractive',\n",
              "                                                    [key], {});\n",
              "        if (!dataTable) return;\n",
              "\n",
              "        const docLinkHtml = 'Like what you see? Visit the ' +\n",
              "          '<a target=\"_blank\" href=https://colab.research.google.com/notebooks/data_table.ipynb>data table notebook</a>'\n",
              "          + ' to learn more about interactive tables.';\n",
              "        element.innerHTML = '';\n",
              "        dataTable['output_type'] = 'display_data';\n",
              "        await google.colab.output.renderOutput(dataTable, element);\n",
              "        const docLink = document.createElement('div');\n",
              "        docLink.innerHTML = docLinkHtml;\n",
              "        element.appendChild(docLink);\n",
              "      }\n",
              "    </script>\n",
              "  </div>\n",
              "\n",
              "\n",
              "<div id=\"df-1c15a67d-f913-4172-b5e2-57479cc483a1\">\n",
              "  <button class=\"colab-df-quickchart\" onclick=\"quickchart('df-1c15a67d-f913-4172-b5e2-57479cc483a1')\"\n",
              "            title=\"Suggest charts\"\n",
              "            style=\"display:none;\">\n",
              "\n",
              "<svg xmlns=\"http://www.w3.org/2000/svg\" height=\"24px\"viewBox=\"0 0 24 24\"\n",
              "     width=\"24px\">\n",
              "    <g>\n",
              "        <path d=\"M19 3H5c-1.1 0-2 .9-2 2v14c0 1.1.9 2 2 2h14c1.1 0 2-.9 2-2V5c0-1.1-.9-2-2-2zM9 17H7v-7h2v7zm4 0h-2V7h2v10zm4 0h-2v-4h2v4z\"/>\n",
              "    </g>\n",
              "</svg>\n",
              "  </button>\n",
              "\n",
              "<style>\n",
              "  .colab-df-quickchart {\n",
              "      --bg-color: #E8F0FE;\n",
              "      --fill-color: #1967D2;\n",
              "      --hover-bg-color: #E2EBFA;\n",
              "      --hover-fill-color: #174EA6;\n",
              "      --disabled-fill-color: #AAA;\n",
              "      --disabled-bg-color: #DDD;\n",
              "  }\n",
              "\n",
              "  [theme=dark] .colab-df-quickchart {\n",
              "      --bg-color: #3B4455;\n",
              "      --fill-color: #D2E3FC;\n",
              "      --hover-bg-color: #434B5C;\n",
              "      --hover-fill-color: #FFFFFF;\n",
              "      --disabled-bg-color: #3B4455;\n",
              "      --disabled-fill-color: #666;\n",
              "  }\n",
              "\n",
              "  .colab-df-quickchart {\n",
              "    background-color: var(--bg-color);\n",
              "    border: none;\n",
              "    border-radius: 50%;\n",
              "    cursor: pointer;\n",
              "    display: none;\n",
              "    fill: var(--fill-color);\n",
              "    height: 32px;\n",
              "    padding: 0;\n",
              "    width: 32px;\n",
              "  }\n",
              "\n",
              "  .colab-df-quickchart:hover {\n",
              "    background-color: var(--hover-bg-color);\n",
              "    box-shadow: 0 1px 2px rgba(60, 64, 67, 0.3), 0 1px 3px 1px rgba(60, 64, 67, 0.15);\n",
              "    fill: var(--button-hover-fill-color);\n",
              "  }\n",
              "\n",
              "  .colab-df-quickchart-complete:disabled,\n",
              "  .colab-df-quickchart-complete:disabled:hover {\n",
              "    background-color: var(--disabled-bg-color);\n",
              "    fill: var(--disabled-fill-color);\n",
              "    box-shadow: none;\n",
              "  }\n",
              "\n",
              "  .colab-df-spinner {\n",
              "    border: 2px solid var(--fill-color);\n",
              "    border-color: transparent;\n",
              "    border-bottom-color: var(--fill-color);\n",
              "    animation:\n",
              "      spin 1s steps(1) infinite;\n",
              "  }\n",
              "\n",
              "  @keyframes spin {\n",
              "    0% {\n",
              "      border-color: transparent;\n",
              "      border-bottom-color: var(--fill-color);\n",
              "      border-left-color: var(--fill-color);\n",
              "    }\n",
              "    20% {\n",
              "      border-color: transparent;\n",
              "      border-left-color: var(--fill-color);\n",
              "      border-top-color: var(--fill-color);\n",
              "    }\n",
              "    30% {\n",
              "      border-color: transparent;\n",
              "      border-left-color: var(--fill-color);\n",
              "      border-top-color: var(--fill-color);\n",
              "      border-right-color: var(--fill-color);\n",
              "    }\n",
              "    40% {\n",
              "      border-color: transparent;\n",
              "      border-right-color: var(--fill-color);\n",
              "      border-top-color: var(--fill-color);\n",
              "    }\n",
              "    60% {\n",
              "      border-color: transparent;\n",
              "      border-right-color: var(--fill-color);\n",
              "    }\n",
              "    80% {\n",
              "      border-color: transparent;\n",
              "      border-right-color: var(--fill-color);\n",
              "      border-bottom-color: var(--fill-color);\n",
              "    }\n",
              "    90% {\n",
              "      border-color: transparent;\n",
              "      border-bottom-color: var(--fill-color);\n",
              "    }\n",
              "  }\n",
              "</style>\n",
              "\n",
              "  <script>\n",
              "    async function quickchart(key) {\n",
              "      const quickchartButtonEl =\n",
              "        document.querySelector('#' + key + ' button');\n",
              "      quickchartButtonEl.disabled = true;  // To prevent multiple clicks.\n",
              "      quickchartButtonEl.classList.add('colab-df-spinner');\n",
              "      try {\n",
              "        const charts = await google.colab.kernel.invokeFunction(\n",
              "            'suggestCharts', [key], {});\n",
              "      } catch (error) {\n",
              "        console.error('Error during call to suggestCharts:', error);\n",
              "      }\n",
              "      quickchartButtonEl.classList.remove('colab-df-spinner');\n",
              "      quickchartButtonEl.classList.add('colab-df-quickchart-complete');\n",
              "    }\n",
              "    (() => {\n",
              "      let quickchartButtonEl =\n",
              "        document.querySelector('#df-1c15a67d-f913-4172-b5e2-57479cc483a1 button');\n",
              "      quickchartButtonEl.style.display =\n",
              "        google.colab.kernel.accessAllowed ? 'block' : 'none';\n",
              "    })();\n",
              "  </script>\n",
              "</div>\n",
              "\n",
              "    </div>\n",
              "  </div>\n"
            ],
            "text/plain": [
              "       Start date-time        End date-time       Location Name  \\\n",
              "0  10/11/2024 15:00:00  10/12/2024 16:00:00  Soda Hall Room 510   \n",
              "1  10/12/2024 19:30:00  10/12/2024 22:30:00    Memorial Stadium   \n",
              "2  10/13/2024 13:00:00  10/13/2024 16:00:00             The Woz   \n",
              "\n",
              "                          Location Address  \\\n",
              "0      2551 Hearst Ave, Berkeley, CA 94709   \n",
              "1  210 Stadium Rim Way, Berkeley, CA 94720   \n",
              "2      1860 Le Roy Ave, Berkeley, CA 94720   \n",
              "\n",
              "                                    Event title  \\\n",
              "0               Data4All Undergraduate Teaching   \n",
              "1  8 Miami Hurricanes v California Golden Bears   \n",
              "2                [HKN] Course Planning Workshop   \n",
              "\n",
              "                                   Event description  \\\n",
              "0  DataCookies (October Edition): Data4All Underg...   \n",
              "1                                      Football Game   \n",
              "2  Need help deciding what courses to take next s...   \n",
              "\n",
              "                                          Event tags  \\\n",
              "0  Data Science, Teaching, minority in EECS/Compu...   \n",
              "1            College Sports, Football, School Spirit   \n",
              "2  Computer Science, Course planning, advising, c...   \n",
              "\n",
              "                                     Target audience Budget  \n",
              "0  minority in EECS/Computer Science, junior tran...      0  \n",
              "1                                        Open to all     40  \n",
              "2              open to all, targeting CS/EECS majors      0  "
            ]
          },
          "execution_count": 17,
          "metadata": {},
          "output_type": "execute_result"
        }
      ],
      "source": [
        "\n",
        "import pandas as pd\n",
        "\n",
        "cal_events = pd.read_csv('/content/drive/MyDrive/student-2024-fall-ucal/Databases/cal_events.csv')\n",
        "cal_events.head(3)"
      ]
    },
    {
      "cell_type": "code",
      "execution_count": null,
      "metadata": {
        "id": "CFNuYvXLDLZR"
      },
      "outputs": [],
      "source": [
        "user_persona = pd.read_csv('/content/drive/MyDrive/student-2024-fall-ucal/Databases/user_persona.csv')"
      ]
    },
    {
      "cell_type": "code",
      "execution_count": null,
      "metadata": {
        "colab": {
          "base_uri": "https://localhost:8080/",
          "height": 216
        },
        "id": "4lC2GmqZDNmG",
        "outputId": "866f75cb-9b07-49b1-92a9-73f5ed162813"
      },
      "outputs": [
        {
          "data": {
            "application/vnd.google.colaboratory.intrinsic+json": {
              "summary": "{\n  \"name\": \"user_persona\",\n  \"rows\": 41,\n  \"fields\": [\n    {\n      \"column\": \"UUID\",\n      \"properties\": {\n        \"dtype\": \"number\",\n        \"std\": 11,\n        \"min\": 1,\n        \"max\": 41,\n        \"num_unique_values\": 41,\n        \"samples\": [\n          25,\n          14,\n          9\n        ],\n        \"semantic_type\": \"\",\n        \"description\": \"\"\n      }\n    },\n    {\n      \"column\": \"Name\",\n      \"properties\": {\n        \"dtype\": \"string\",\n        \"num_unique_values\": 41,\n        \"samples\": [\n          \"Kevin Cozner\",\n          \"Phoebe Buffay\",\n          \"Zoe Turner\"\n        ],\n        \"semantic_type\": \"\",\n        \"description\": \"\"\n      }\n    },\n    {\n      \"column\": \"Username\",\n      \"properties\": {\n        \"dtype\": \"string\",\n        \"num_unique_values\": 41,\n        \"samples\": [\n          \"kevin_cozner\",\n          \"phoebe_buffay\",\n          \"zoe_turner\"\n        ],\n        \"semantic_type\": \"\",\n        \"description\": \"\"\n      }\n    },\n    {\n      \"column\": \"School Year\",\n      \"properties\": {\n        \"dtype\": \"category\",\n        \"num_unique_values\": 6,\n        \"samples\": [\n          \"School Year\",\n          \"Senior\",\n          \"Junior\"\n        ],\n        \"semantic_type\": \"\",\n        \"description\": \"\"\n      }\n    },\n    {\n      \"column\": \"Major\",\n      \"properties\": {\n        \"dtype\": \"string\",\n        \"num_unique_values\": 24,\n        \"samples\": [\n          \"Sociology\",\n          \"Legal Studies\",\n          \"Data Science\"\n        ],\n        \"semantic_type\": \"\",\n        \"description\": \"\"\n      }\n    },\n    {\n      \"column\": \"Event Preferences\",\n      \"properties\": {\n        \"dtype\": \"category\",\n        \"num_unique_values\": 8,\n        \"samples\": [\n          \"Concerts, Student Events\",\n          \"Foodies, Student Events\",\n          \"Foodies, Concerts\"\n        ],\n        \"semantic_type\": \"\",\n        \"description\": \"\"\n      }\n    },\n    {\n      \"column\": \"Foodie Budget\",\n      \"properties\": {\n        \"dtype\": \"category\",\n        \"num_unique_values\": 4,\n        \"samples\": [\n          \"$30-50\",\n          \"$50+\",\n          \"$15-30\"\n        ],\n        \"semantic_type\": \"\",\n        \"description\": \"\"\n      }\n    },\n    {\n      \"column\": \"Concert Budget\",\n      \"properties\": {\n        \"dtype\": \"category\",\n        \"num_unique_values\": 3,\n        \"samples\": [\n          \"$20-50\",\n          \"$50-100\",\n          \"Under $20\"\n        ],\n        \"semantic_type\": \"\",\n        \"description\": \"\"\n      }\n    },\n    {\n      \"column\": \"Free vs Paid Events\",\n      \"properties\": {\n        \"dtype\": \"category\",\n        \"num_unique_values\": 4,\n        \"samples\": [\n          \"Mostly Free\",\n          \"Open to Paid Events\",\n          \"Occasional Paid\"\n        ],\n        \"semantic_type\": \"\",\n        \"description\": \"\"\n      }\n    },\n    {\n      \"column\": \"Preferred Day\",\n      \"properties\": {\n        \"dtype\": \"category\",\n        \"num_unique_values\": 2,\n        \"samples\": [\n          \"Weekdays\",\n          \"Weekends\"\n        ],\n        \"semantic_type\": \"\",\n        \"description\": \"\"\n      }\n    },\n    {\n      \"column\": \"Preferred Time of Day\",\n      \"properties\": {\n        \"dtype\": \"category\",\n        \"num_unique_values\": 12,\n        \"samples\": [\n          \"Afternoon, Evening\",\n          \"Evening, Night\"\n        ],\n        \"semantic_type\": \"\",\n        \"description\": \"\"\n      }\n    },\n    {\n      \"column\": \"Location Preference\",\n      \"properties\": {\n        \"dtype\": \"category\",\n        \"num_unique_values\": 3,\n        \"samples\": [\n          \"Walking distance\",\n          \"On-campus\"\n        ],\n        \"semantic_type\": \"\",\n        \"description\": \"\"\n      }\n    },\n    {\n      \"column\": \"Hobbies\",\n      \"properties\": {\n        \"dtype\": \"string\",\n        \"num_unique_values\": 41,\n        \"samples\": [\n          \"Poetry, Fine Dining\",\n          \"Singing, Guitar\"\n        ],\n        \"semantic_type\": \"\",\n        \"description\": \"\"\n      }\n    }\n  ]\n}",
              "type": "dataframe",
              "variable_name": "user_persona"
            },
            "text/html": [
              "\n",
              "  <div id=\"df-7fcefc84-fe88-4848-9ced-16bdebbf8e9a\" class=\"colab-df-container\">\n",
              "    <div>\n",
              "<style scoped>\n",
              "    .dataframe tbody tr th:only-of-type {\n",
              "        vertical-align: middle;\n",
              "    }\n",
              "\n",
              "    .dataframe tbody tr th {\n",
              "        vertical-align: top;\n",
              "    }\n",
              "\n",
              "    .dataframe thead th {\n",
              "        text-align: right;\n",
              "    }\n",
              "</style>\n",
              "<table border=\"1\" class=\"dataframe\">\n",
              "  <thead>\n",
              "    <tr style=\"text-align: right;\">\n",
              "      <th></th>\n",
              "      <th>UUID</th>\n",
              "      <th>Name</th>\n",
              "      <th>Username</th>\n",
              "      <th>School Year</th>\n",
              "      <th>Major</th>\n",
              "      <th>Event Preferences</th>\n",
              "      <th>Foodie Budget</th>\n",
              "      <th>Concert Budget</th>\n",
              "      <th>Free vs Paid Events</th>\n",
              "      <th>Preferred Day</th>\n",
              "      <th>Preferred Time of Day</th>\n",
              "      <th>Location Preference</th>\n",
              "      <th>Hobbies</th>\n",
              "    </tr>\n",
              "  </thead>\n",
              "  <tbody>\n",
              "    <tr>\n",
              "      <th>0</th>\n",
              "      <td>1</td>\n",
              "      <td>Jane Doe</td>\n",
              "      <td>jane_doe</td>\n",
              "      <td>School Year</td>\n",
              "      <td>Data Science</td>\n",
              "      <td>Foodies, Concerts</td>\n",
              "      <td>$15-30</td>\n",
              "      <td>$20-50</td>\n",
              "      <td>Occasional Paid</td>\n",
              "      <td>Weekends</td>\n",
              "      <td>Evenings</td>\n",
              "      <td>Walking distance</td>\n",
              "      <td>Cooking, Art, Music Festivals</td>\n",
              "    </tr>\n",
              "    <tr>\n",
              "      <th>1</th>\n",
              "      <td>2</td>\n",
              "      <td>John Smith</td>\n",
              "      <td>john_smith</td>\n",
              "      <td>Senior</td>\n",
              "      <td>Computer Science</td>\n",
              "      <td>Concerts, Student Events</td>\n",
              "      <td>$30-50</td>\n",
              "      <td>$50-100</td>\n",
              "      <td>Mostly Free</td>\n",
              "      <td>Weekdays</td>\n",
              "      <td>Mornings</td>\n",
              "      <td>On-campus</td>\n",
              "      <td>Sports, Movie Nights</td>\n",
              "    </tr>\n",
              "  </tbody>\n",
              "</table>\n",
              "</div>\n",
              "    <div class=\"colab-df-buttons\">\n",
              "\n",
              "  <div class=\"colab-df-container\">\n",
              "    <button class=\"colab-df-convert\" onclick=\"convertToInteractive('df-7fcefc84-fe88-4848-9ced-16bdebbf8e9a')\"\n",
              "            title=\"Convert this dataframe to an interactive table.\"\n",
              "            style=\"display:none;\">\n",
              "\n",
              "  <svg xmlns=\"http://www.w3.org/2000/svg\" height=\"24px\" viewBox=\"0 -960 960 960\">\n",
              "    <path d=\"M120-120v-720h720v720H120Zm60-500h600v-160H180v160Zm220 220h160v-160H400v160Zm0 220h160v-160H400v160ZM180-400h160v-160H180v160Zm440 0h160v-160H620v160ZM180-180h160v-160H180v160Zm440 0h160v-160H620v160Z\"/>\n",
              "  </svg>\n",
              "    </button>\n",
              "\n",
              "  <style>\n",
              "    .colab-df-container {\n",
              "      display:flex;\n",
              "      gap: 12px;\n",
              "    }\n",
              "\n",
              "    .colab-df-convert {\n",
              "      background-color: #E8F0FE;\n",
              "      border: none;\n",
              "      border-radius: 50%;\n",
              "      cursor: pointer;\n",
              "      display: none;\n",
              "      fill: #1967D2;\n",
              "      height: 32px;\n",
              "      padding: 0 0 0 0;\n",
              "      width: 32px;\n",
              "    }\n",
              "\n",
              "    .colab-df-convert:hover {\n",
              "      background-color: #E2EBFA;\n",
              "      box-shadow: 0px 1px 2px rgba(60, 64, 67, 0.3), 0px 1px 3px 1px rgba(60, 64, 67, 0.15);\n",
              "      fill: #174EA6;\n",
              "    }\n",
              "\n",
              "    .colab-df-buttons div {\n",
              "      margin-bottom: 4px;\n",
              "    }\n",
              "\n",
              "    [theme=dark] .colab-df-convert {\n",
              "      background-color: #3B4455;\n",
              "      fill: #D2E3FC;\n",
              "    }\n",
              "\n",
              "    [theme=dark] .colab-df-convert:hover {\n",
              "      background-color: #434B5C;\n",
              "      box-shadow: 0px 1px 3px 1px rgba(0, 0, 0, 0.15);\n",
              "      filter: drop-shadow(0px 1px 2px rgba(0, 0, 0, 0.3));\n",
              "      fill: #FFFFFF;\n",
              "    }\n",
              "  </style>\n",
              "\n",
              "    <script>\n",
              "      const buttonEl =\n",
              "        document.querySelector('#df-7fcefc84-fe88-4848-9ced-16bdebbf8e9a button.colab-df-convert');\n",
              "      buttonEl.style.display =\n",
              "        google.colab.kernel.accessAllowed ? 'block' : 'none';\n",
              "\n",
              "      async function convertToInteractive(key) {\n",
              "        const element = document.querySelector('#df-7fcefc84-fe88-4848-9ced-16bdebbf8e9a');\n",
              "        const dataTable =\n",
              "          await google.colab.kernel.invokeFunction('convertToInteractive',\n",
              "                                                    [key], {});\n",
              "        if (!dataTable) return;\n",
              "\n",
              "        const docLinkHtml = 'Like what you see? Visit the ' +\n",
              "          '<a target=\"_blank\" href=https://colab.research.google.com/notebooks/data_table.ipynb>data table notebook</a>'\n",
              "          + ' to learn more about interactive tables.';\n",
              "        element.innerHTML = '';\n",
              "        dataTable['output_type'] = 'display_data';\n",
              "        await google.colab.output.renderOutput(dataTable, element);\n",
              "        const docLink = document.createElement('div');\n",
              "        docLink.innerHTML = docLinkHtml;\n",
              "        element.appendChild(docLink);\n",
              "      }\n",
              "    </script>\n",
              "  </div>\n",
              "\n",
              "\n",
              "<div id=\"df-892d940c-ed62-431a-b075-1f5b493dfb57\">\n",
              "  <button class=\"colab-df-quickchart\" onclick=\"quickchart('df-892d940c-ed62-431a-b075-1f5b493dfb57')\"\n",
              "            title=\"Suggest charts\"\n",
              "            style=\"display:none;\">\n",
              "\n",
              "<svg xmlns=\"http://www.w3.org/2000/svg\" height=\"24px\"viewBox=\"0 0 24 24\"\n",
              "     width=\"24px\">\n",
              "    <g>\n",
              "        <path d=\"M19 3H5c-1.1 0-2 .9-2 2v14c0 1.1.9 2 2 2h14c1.1 0 2-.9 2-2V5c0-1.1-.9-2-2-2zM9 17H7v-7h2v7zm4 0h-2V7h2v10zm4 0h-2v-4h2v4z\"/>\n",
              "    </g>\n",
              "</svg>\n",
              "  </button>\n",
              "\n",
              "<style>\n",
              "  .colab-df-quickchart {\n",
              "      --bg-color: #E8F0FE;\n",
              "      --fill-color: #1967D2;\n",
              "      --hover-bg-color: #E2EBFA;\n",
              "      --hover-fill-color: #174EA6;\n",
              "      --disabled-fill-color: #AAA;\n",
              "      --disabled-bg-color: #DDD;\n",
              "  }\n",
              "\n",
              "  [theme=dark] .colab-df-quickchart {\n",
              "      --bg-color: #3B4455;\n",
              "      --fill-color: #D2E3FC;\n",
              "      --hover-bg-color: #434B5C;\n",
              "      --hover-fill-color: #FFFFFF;\n",
              "      --disabled-bg-color: #3B4455;\n",
              "      --disabled-fill-color: #666;\n",
              "  }\n",
              "\n",
              "  .colab-df-quickchart {\n",
              "    background-color: var(--bg-color);\n",
              "    border: none;\n",
              "    border-radius: 50%;\n",
              "    cursor: pointer;\n",
              "    display: none;\n",
              "    fill: var(--fill-color);\n",
              "    height: 32px;\n",
              "    padding: 0;\n",
              "    width: 32px;\n",
              "  }\n",
              "\n",
              "  .colab-df-quickchart:hover {\n",
              "    background-color: var(--hover-bg-color);\n",
              "    box-shadow: 0 1px 2px rgba(60, 64, 67, 0.3), 0 1px 3px 1px rgba(60, 64, 67, 0.15);\n",
              "    fill: var(--button-hover-fill-color);\n",
              "  }\n",
              "\n",
              "  .colab-df-quickchart-complete:disabled,\n",
              "  .colab-df-quickchart-complete:disabled:hover {\n",
              "    background-color: var(--disabled-bg-color);\n",
              "    fill: var(--disabled-fill-color);\n",
              "    box-shadow: none;\n",
              "  }\n",
              "\n",
              "  .colab-df-spinner {\n",
              "    border: 2px solid var(--fill-color);\n",
              "    border-color: transparent;\n",
              "    border-bottom-color: var(--fill-color);\n",
              "    animation:\n",
              "      spin 1s steps(1) infinite;\n",
              "  }\n",
              "\n",
              "  @keyframes spin {\n",
              "    0% {\n",
              "      border-color: transparent;\n",
              "      border-bottom-color: var(--fill-color);\n",
              "      border-left-color: var(--fill-color);\n",
              "    }\n",
              "    20% {\n",
              "      border-color: transparent;\n",
              "      border-left-color: var(--fill-color);\n",
              "      border-top-color: var(--fill-color);\n",
              "    }\n",
              "    30% {\n",
              "      border-color: transparent;\n",
              "      border-left-color: var(--fill-color);\n",
              "      border-top-color: var(--fill-color);\n",
              "      border-right-color: var(--fill-color);\n",
              "    }\n",
              "    40% {\n",
              "      border-color: transparent;\n",
              "      border-right-color: var(--fill-color);\n",
              "      border-top-color: var(--fill-color);\n",
              "    }\n",
              "    60% {\n",
              "      border-color: transparent;\n",
              "      border-right-color: var(--fill-color);\n",
              "    }\n",
              "    80% {\n",
              "      border-color: transparent;\n",
              "      border-right-color: var(--fill-color);\n",
              "      border-bottom-color: var(--fill-color);\n",
              "    }\n",
              "    90% {\n",
              "      border-color: transparent;\n",
              "      border-bottom-color: var(--fill-color);\n",
              "    }\n",
              "  }\n",
              "</style>\n",
              "\n",
              "  <script>\n",
              "    async function quickchart(key) {\n",
              "      const quickchartButtonEl =\n",
              "        document.querySelector('#' + key + ' button');\n",
              "      quickchartButtonEl.disabled = true;  // To prevent multiple clicks.\n",
              "      quickchartButtonEl.classList.add('colab-df-spinner');\n",
              "      try {\n",
              "        const charts = await google.colab.kernel.invokeFunction(\n",
              "            'suggestCharts', [key], {});\n",
              "      } catch (error) {\n",
              "        console.error('Error during call to suggestCharts:', error);\n",
              "      }\n",
              "      quickchartButtonEl.classList.remove('colab-df-spinner');\n",
              "      quickchartButtonEl.classList.add('colab-df-quickchart-complete');\n",
              "    }\n",
              "    (() => {\n",
              "      let quickchartButtonEl =\n",
              "        document.querySelector('#df-892d940c-ed62-431a-b075-1f5b493dfb57 button');\n",
              "      quickchartButtonEl.style.display =\n",
              "        google.colab.kernel.accessAllowed ? 'block' : 'none';\n",
              "    })();\n",
              "  </script>\n",
              "</div>\n",
              "\n",
              "    </div>\n",
              "  </div>\n"
            ],
            "text/plain": [
              "   UUID        Name    Username  School Year             Major  \\\n",
              "0     1    Jane Doe    jane_doe  School Year      Data Science   \n",
              "1     2  John Smith  john_smith       Senior  Computer Science   \n",
              "\n",
              "          Event Preferences Foodie Budget Concert Budget Free vs Paid Events  \\\n",
              "0         Foodies, Concerts        $15-30         $20-50     Occasional Paid   \n",
              "1  Concerts, Student Events        $30-50        $50-100         Mostly Free   \n",
              "\n",
              "  Preferred Day Preferred Time of Day Location Preference  \\\n",
              "0      Weekends              Evenings    Walking distance   \n",
              "1      Weekdays              Mornings           On-campus   \n",
              "\n",
              "                         Hobbies  \n",
              "0  Cooking, Art, Music Festivals  \n",
              "1           Sports, Movie Nights  "
            ]
          },
          "execution_count": 19,
          "metadata": {},
          "output_type": "execute_result"
        }
      ],
      "source": [
        "user_persona.head(2)"
      ]
    },
    {
      "cell_type": "code",
      "execution_count": null,
      "metadata": {
        "id": "xh994mLXFBXn"
      },
      "outputs": [],
      "source": [
        "# Converting the user persona CSV to json to better deal with variable types\n",
        "# TO-DO: is it possible to store the user persona in json format from the login/signup page?\n",
        "import csv\n",
        "\n",
        "with open('/content/drive/MyDrive/student-2024-fall-ucal/Databases/user_persona.csv', 'r') as f:\n",
        "    reader = csv.DictReader(f)\n",
        "    json_user_data = list(reader)\n",
        "\n",
        "import json\n",
        "\n",
        "# Convert lists stored as strings back to actual lists\n",
        "for item in json_user_data:\n",
        "    item['Event Preferences'] = item['Event Preferences'].split(',')\n",
        "    item['Hobbies'] = item['Hobbies'].split(',')\n",
        "    if item.get('favoriteCuisines'):\n",
        "        item['favoriteCuisines'] = item['favoriteCuisines'].split(',')\n",
        "    if item.get('musicGenres'):\n",
        "        item['musicGenres'] = item['musicGenres'].split(',')\n",
        "\n",
        "# Optionally, write to a JSON file\n",
        "with open('user_personas.json', 'w') as f:\n",
        "    json.dump(json_user_data, f)"
      ]
    },
    {
      "cell_type": "markdown",
      "metadata": {
        "id": "sx-Toiyp_n94"
      },
      "source": [
        "# 2. Loading the User Persona\n",
        "*   TO-DO later: need to get the user persona from a database.\n",
        "*   For now, we made up an example user persona to test our feedback agents\n"
      ]
    },
    {
      "cell_type": "code",
      "execution_count": null,
      "metadata": {
        "id": "eByH4Qer_ylC"
      },
      "outputs": [],
      "source": [
        "# import necessary libraries for the user persona\n",
        "from dataclasses import dataclass, field\n",
        "from typing import List, Optional"
      ]
    },
    {
      "cell_type": "code",
      "execution_count": null,
      "metadata": {
        "id": "XHcwhd_AADxf"
      },
      "outputs": [],
      "source": [
        "# Definition of the user persona class\n",
        "\n",
        "@dataclass\n",
        "class UserPersona:\n",
        "    uuid: str\n",
        "    name: str\n",
        "    username: str\n",
        "    schoolyear: int\n",
        "    major: str\n",
        "    event_preferences: List[str]  # Snake_case\n",
        "    free_vs_paid_events: str\n",
        "    preferred_day: str\n",
        "    preferred_time_of_day: str\n",
        "    location_preference: str\n",
        "    hobbies: List[str]\n",
        "    message_history: Optional[List[str]] = field(default = None)\n",
        "    foodie_budget: Optional[str] = field(default = None)\n",
        "    concert_budget: Optional[str] = field(default = None)\n",
        "    favoriteCuisines: Optional[List[str]] = field(default = None)\n",
        "    musicGenres: Optional[List[str]] = field(default=None)\n",
        "\n",
        "    \"\"\"\n",
        "    other things to add in later\n",
        "    password, gender, ethnicity, transfer, student_orgs\n",
        "    message_history: List[str]\n",
        "    \"\"\""
      ]
    },
    {
      "cell_type": "code",
      "execution_count": null,
      "metadata": {
        "id": "8KFX4uNKAGO5"
      },
      "outputs": [],
      "source": [
        "# Given someone's uuid, this function deserializes the json data and returns a user persona\n",
        "def deserialize_user_persona(data):\n",
        "    return UserPersona(\n",
        "        uuid=data[\"UUID\"],\n",
        "        name=data[\"Name\"],\n",
        "        username=data[\"Username\"],\n",
        "        schoolyear=data[\"School Year\"],\n",
        "        major=data[\"Major\"],\n",
        "        event_preferences=data[\"Event Preferences\"],\n",
        "        foodie_budget=data.get(\"Foodie Budget\"),\n",
        "        concert_budget=data.get(\"Concert Budget\"),\n",
        "        free_vs_paid_events=data[\"Free vs Paid Events\"],\n",
        "        preferred_day=data[\"Preferred Day\"],\n",
        "        preferred_time_of_day=data[\"Preferred Time of Day\"],\n",
        "        location_preference=data[\"Location Preference\"],\n",
        "        hobbies=data[\"Hobbies\"],\n",
        "        message_history=data.get(\"message_history\"),  # Use .get() for optional fields\n",
        "        favoriteCuisines=data.get(\"favoriteCuisines\"),\n",
        "        musicGenres=data.get(\"musicGenres\")\n",
        "    )\n"
      ]
    },
    {
      "cell_type": "code",
      "execution_count": null,
      "metadata": {
        "colab": {
          "base_uri": "https://localhost:8080/"
        },
        "id": "BJVnHPxbAhRu",
        "outputId": "5f2f34da-84fb-46c1-9421-9357652785c4"
      },
      "outputs": [
        {
          "name": "stdout",
          "output_type": "stream",
          "text": [
            "UserPersona(uuid='1', name='Jane Doe', username='jane_doe', schoolyear='School Year', major='Data Science', event_preferences=['Foodies', ' Concerts'], free_vs_paid_events='Occasional Paid', preferred_day='Weekends', preferred_time_of_day='Evenings', location_preference='Walking distance', hobbies=['Cooking', ' Art', ' Music Festivals'], message_history=None, foodie_budget='$15-30', concert_budget='$20-50', favoriteCuisines=None, musicGenres=None)\n"
          ]
        }
      ],
      "source": [
        "# Step 1: Locate Jane Doe's data\n",
        "jane_doe_data = next((item for item in json_user_data if item['Name'] == 'Jane Doe'), None)\n",
        "\n",
        "# Step 2: Deserialize Jane Doe's user persona\n",
        "if jane_doe_data:\n",
        "    jane_persona = deserialize_user_persona(jane_doe_data)\n",
        "    # Now you can use 'jane_persona' as needed\n",
        "    print(jane_persona)\n",
        "else:\n",
        "    print(\"Jane Doe not found in data\")"
      ]
    },
    {
      "cell_type": "markdown",
      "metadata": {
        "id": "adrZatLoCLbt"
      },
      "source": [
        "# 3. Fetching all potential events for the User based on their calendar\n",
        "\n",
        "Since working with gcal API is difficult, we will ask the user to input their availability for the next week beforehand"
      ]
    },
    {
      "cell_type": "code",
      "execution_count": null,
      "metadata": {
        "id": "_-MnoZplBXjC"
      },
      "outputs": [],
      "source": [
        "from dataclasses import dataclass\n",
        "from datetime import datetime, timedelta\n",
        "import pandas as pd\n",
        "from typing import List, Dict\n",
        "\n",
        "@dataclass\n",
        "class TimeWindow:\n",
        "    start: datetime\n",
        "    end: datetime\n",
        "\n",
        "@dataclass\n",
        "class CalendarAvailability:\n",
        "    \"\"\"Represents a user's calendar availability\"\"\"\n",
        "    user_id: str\n",
        "    free_windows: List[TimeWindow]\n",
        "\n",
        "    @classmethod\n",
        "    def from_calendar_data(cls, user_id: str, calendar_data: List[Dict[str, str]]):\n",
        "        \"\"\"\n",
        "        Create availability from calendar data in format:\n",
        "        [\n",
        "            {\n",
        "                \"start\": \"2024-11-08 18:00:00\",\n",
        "                \"end\": \"2024-11-09 00:00:00\"\n",
        "            },\n",
        "            ...\n",
        "        ]\n",
        "        \"\"\"\n",
        "        windows = [\n",
        "            TimeWindow(\n",
        "                start=pd.to_datetime(slot[\"start\"]),\n",
        "                end=pd.to_datetime(slot[\"end\"])\n",
        "            )\n",
        "            for slot in calendar_data\n",
        "        ]\n",
        "        return cls(user_id=user_id, free_windows=windows)\n",
        "\n",
        "class CalendarMatcher:\n",
        "    def __init__(self, events_df: pd.DataFrame):\n",
        "        \"\"\"\n",
        "        Initialize with events database.\n",
        "        \"\"\"\n",
        "        self.events_df = events_df\n",
        "\n",
        "    def preprocess_events(self) -> pd.DataFrame:\n",
        "        \"\"\"Convert datetime strings to datetime objects.\"\"\"\n",
        "        events = self.events_df.copy()\n",
        "        events['start_datetime'] = pd.to_datetime(events['Start date-time'])\n",
        "        events['end_datetime'] = pd.to_datetime(events['End date-time'])\n",
        "        return events\n",
        "\n",
        "    def find_available_events(self, availability: CalendarAvailability, buffer_minutes: int = 30) -> List[Dict]:\n",
        "        \"\"\"\n",
        "        Find events that fit within the user's available time windows.\n",
        "        \"\"\"\n",
        "        events = self.preprocess_events()\n",
        "        buffer = timedelta(minutes=buffer_minutes)\n",
        "        matching_events = []\n",
        "\n",
        "        for window in availability.free_windows:\n",
        "            # Add buffer to window edges\n",
        "            window_start = window.start + buffer\n",
        "            window_end = window.end - buffer\n",
        "\n",
        "            # Find events that fit within this window\n",
        "            window_matches = events[\n",
        "                (events['start_datetime'] >= window_start) &\n",
        "                (events['end_datetime'] <= window_end)\n",
        "            ]\n",
        "\n",
        "            # Convert matching events to dict format\n",
        "            for _, event in window_matches.iterrows():\n",
        "                matching_events.append({\n",
        "                    'title': event['Event title'],\n",
        "                    'start': event['start_datetime'],\n",
        "                    'end': event['end_datetime'],\n",
        "                    'location': event['Location Name'],\n",
        "                    'description': event['Event description'],\n",
        "                    'location address': event['Location Address'],\n",
        "                    'target_audience': event[\"Target audience\"],\n",
        "                    'budget': event['Budget']\n",
        "                })\n",
        "\n",
        "        return matching_events\n",
        "\n",
        "# Example usage showing how to use with external data:\n",
        "def demonstrate_matcher_with_data(events_df: pd.DataFrame, user_calendar_data: List[Dict[str, str]], user_id: str):\n",
        "    \"\"\"\n",
        "    Demonstrate matcher using external calendar data.\n",
        "\n",
        "    Args:\n",
        "        events_df: DataFrame containing event information\n",
        "        user_calendar_data: List of free time slots from user's calendar\n",
        "        user_id: Identifier for the user\n",
        "    \"\"\"\n",
        "    # Create availability from calendar data\n",
        "    availability = CalendarAvailability.from_calendar_data(user_id, user_calendar_data)\n",
        "\n",
        "    # Initialize matcher and find available events\n",
        "    matcher = CalendarMatcher(events_df)\n",
        "    available_events = matcher.find_available_events(availability)\n",
        "\n",
        "    return available_events"
      ]
    },
    {
      "cell_type": "code",
      "execution_count": null,
      "metadata": {
        "id": "jgSNovvbCpFS"
      },
      "outputs": [],
      "source": [
        "# Create some sample user availability for a busy student - from any calendar integration\n",
        "sample_calendar_data = [\n",
        "    {\n",
        "        # Thursday evening\n",
        "        \"start\": \"2024-10-10 17:00:00\",\n",
        "        \"end\": \"2024-10-10 22:00:00\"\n",
        "    },\n",
        "    {\n",
        "        # Friday afternoon/evening\n",
        "        \"start\": \"2024-10-11 14:00:00\",\n",
        "        \"end\": \"2024-10-11 23:00:00\"\n",
        "    },\n",
        "    {\n",
        "        # Saturday whole day\n",
        "        \"start\": \"2024-10-12 10:00:00\",\n",
        "        \"end\": \"2024-10-12 23:00:00\"\n",
        "    }\n",
        "]"
      ]
    },
    {
      "cell_type": "code",
      "execution_count": null,
      "metadata": {
        "id": "KFsXxn9K38G2"
      },
      "outputs": [],
      "source": [
        "# available all the time\n",
        "sample_calendar_data1 = [\n",
        "    {\"start\": \"8/20/2021 23:00:00\",\n",
        "     \"end\": \"10/20/2021 23:00:00\",\n",
        "    },\n",
        "    {\"start\": \"10/21/2021 09:00:00\",\n",
        "     \"end\": \"11/20/2024 23:00:00\",\n",
        "    }\n",
        "]"
      ]
    },
    {
      "cell_type": "code",
      "execution_count": null,
      "metadata": {
        "collapsed": true,
        "id": "KQGL5Ri6IXLZ"
      },
      "outputs": [],
      "source": [
        "# Initialize and run the matcher\n",
        "availability = CalendarAvailability.from_calendar_data(\"student123\", sample_calendar_data1)\n",
        "matcher = CalendarMatcher(cal_events)\n",
        "available_events = matcher.find_available_events(availability)\n",
        "\n",
        "# Print results in a readable format\n",
        "#print(\"Available events for your schedule:\")\n",
        "#for event in available_events:\n",
        "#    print(f\"\\nEvent: {event['title']}\")\n",
        "#    print(f\"Time: {event['start'].strftime('%A, %B %d at %I:%M %p')} - {event['end'].strftime('%I:%M %p')}\")\n",
        "#    print(f\"Location: {event['location']}\")\n",
        "#    print(\"-\" * 50)"
      ]
    },
    {
      "cell_type": "code",
      "execution_count": null,
      "metadata": {
        "colab": {
          "base_uri": "https://localhost:8080/"
        },
        "collapsed": true,
        "id": "bIylvwEL5xK5",
        "outputId": "708dbfa9-bb8e-4dfa-8711-5a614e7bc05f"
      },
      "outputs": [
        {
          "data": {
            "text/plain": [
              "[{'title': 'Data4All Undergraduate Teaching',\n",
              "  'start': Timestamp('2024-10-11 15:00:00'),\n",
              "  'end': Timestamp('2024-10-12 16:00:00'),\n",
              "  'location': 'Soda Hall Room 510',\n",
              "  'description': 'DataCookies (October Edition): Data4All Undergraduate Teaching. Are you interested in undergraduate teaching? Do you identify as a minority in EECS/Computer Science and/or a junior transfer student? Join us on Friday October 11th (3-4pm)  for a panel on How to get involved in undergraduate teaching.\\nWe invite students enrolled in computer systems classes (CS61C, CS162, CS186, CS161, CS152, CS168) to attend the next DataCookies event! Meet up with like minded students and find out more about what undergraduate teaching is like at Berkeley. You’ll hear from sophomores, juniors and seniors about when and how they got involved. It is never too early.\\nThe event will take place in Soda 510. Refreshments will be provided.  There will be a period of mingling followed by a panel. The event is meant to be informal. There are no stupid questions!\\nData4All is a new initiative led by Lisa Yan and Natacha Crooks targeted towards increasing participation, retention, and engagement of URM students in Systems at UC Berkeley. If you’d like to sign up for our announcement list, please register here: https://eecs.link/data4all.\\nDataCookies events will feature invited speakers/panels once a month on Fridays, 3-4 PM.\\nDataCookies 1:  Speed Study Meetups (Sept 4th)\\nDataCookies 2:  How to get involved in undergraduate teaching (Oct 11th)\\nDataCookies 3:  Startup Founder (Date TBD)',\n",
              "  'location address': '2551 Hearst Ave, Berkeley, CA 94709',\n",
              "  'target_audience': 'minority in EECS/Computer Science, junior transfer student, enrolled in CS 61C, CS162, CS186, CS161, CS152, CS168)',\n",
              "  'budget': '0'},\n",
              " {'title': '8 Miami Hurricanes v California Golden Bears',\n",
              "  'start': Timestamp('2024-10-12 19:30:00'),\n",
              "  'end': Timestamp('2024-10-12 22:30:00'),\n",
              "  'location': 'Memorial Stadium',\n",
              "  'description': 'Football Game',\n",
              "  'location address': '210 Stadium Rim Way, Berkeley, CA 94720',\n",
              "  'target_audience': 'Open to all',\n",
              "  'budget': '40'},\n",
              " {'title': '[HKN] Course Planning Workshop',\n",
              "  'start': Timestamp('2024-10-13 13:00:00'),\n",
              "  'end': Timestamp('2024-10-13 16:00:00'),\n",
              "  'location': 'The Woz',\n",
              "  'description': 'Need help deciding what courses to take next semester? HKN, IEEE, CSM, AWE, and SWE are holding a course planning workshop with experienced students in all different areas of EECS to give advice on signing up for classes. Come to the Woz on Sun. October 13th at 1-4pm. There will be food! Bring your friends!',\n",
              "  'location address': '1860 Le Roy Ave, Berkeley, CA 94720',\n",
              "  'target_audience': 'open to all, targeting CS/EECS majors',\n",
              "  'budget': '0'},\n",
              " {'title': 'Info-Session w/ TSMC',\n",
              "  'start': Timestamp('2024-10-07 17:30:00'),\n",
              "  'end': Timestamp('2024-10-07 19:00:00'),\n",
              "  'location': 'The Woz',\n",
              "  'description': 'TSMC will be on campus on TONIGHT (Monday, October 7) to hold an information session (light meal served) from 5:30-7:00pm at The Wozniak Lounge. We hope to see you there!\\n\\nStudents of all majors, including EE, CS, Chemistry/Chemical Engineering, Physics, Mechanical Engineering, Industrial Engineering, and non-STEM students, are invited to attend our info session to learn more about the company, our innovative work, and career opportunities we provide in our global locations.',\n",
              "  'location address': '1860 Le Roy Ave, Berkeley, CA 94720',\n",
              "  'target_audience': 'open to all',\n",
              "  'budget': '0'},\n",
              " {'title': 'EECS Colloquium | Disruptive Innovation and Collaboration to Sustain the AI Revolution',\n",
              "  'start': Timestamp('2024-10-16 14:00:00'),\n",
              "  'end': Timestamp('2024-10-16 15:00:00'),\n",
              "  'location': 'Banatao Auditorium',\n",
              "  'description': 'Steady advancement in microelectronics technology over the past six decades have had transformative impact on life in modern society, as they have enabled exponential growth in information collection and processing, ushering in the age of artificial intelligence. Challenges for sustaining the AI revolution will require disruptive innovation and collaboration to overcome. This talk will give some examples of such opportunities to drive continued progress in our increasingly technology-dependent world.\\n\\nTsu-Jae King Liu is Dean and Roy W. Carlson Professor of Engineering at UC Berkeley, where she has conducted research and taught courses on semiconductor devices and technology since 1996. She is a Fellow of the Institute for Electrical and Electronic Engineers (IEEE) and the National Academy of Inventors, as well as an elected member of the U.S. National Academy of Engineering. She also serves on the Board of Directors for Intel Corp. and MaxLinear Inc. Her awards include the DARPA Significant Technical Achievement Award for development of the FinFET (the transistor design used in all leading-edge computer chips today), and the IEEE Founders Medal for leadership in the advancement and commercialization of nanometer semiconductor technologies and the promotion of microelectronics workforce development.\\n',\n",
              "  'location address': '310 Sutardja Dai Hall Berkeley, CA 94720',\n",
              "  'target_audience': 'All EECS faculty and students',\n",
              "  'budget': '0'},\n",
              " {'title': 'New Silicon Initiative: Women in Hardware Technologies Speaker Series',\n",
              "  'start': Timestamp('2024-10-10 15:00:00'),\n",
              "  'end': Timestamp('2024-10-10 16:00:00'),\n",
              "  'location': 'Online',\n",
              "  'description': 'You’re invited to a special guest lecture with Jennifer Donnelly, senior director of design verification for Apple’s silicon engineering team. Learn about Jennifer’s career journey and what it’s like to be at the forefront of innovation at Apple.',\n",
              "  'location address': 'Online',\n",
              "  'target_audience': 'All EECS students, open to all',\n",
              "  'budget': '0'},\n",
              " {'title': '[HKN] Zip Infosession',\n",
              "  'start': Timestamp('2024-10-10 17:00:00'),\n",
              "  'end': Timestamp('2024-10-10 18:00:00'),\n",
              "  'location': 'Banatao Auditorium',\n",
              "  'description': 'Tech talk, recruiting, free food! Come to Banatao Auditorium on this Thursday, 10/10 at 5pm for free food + a fireside chat with Zip (fintech unicorn startup)! Hear stories from Zip engineers and Berkeley alumni talking about growth, go-to-market, engineering challenges, and their career journeys! Free food--',\n",
              "  'location address': '310 Sutardja Dai Hall Berkeley, CA 94720',\n",
              "  'target_audience': 'Open to all',\n",
              "  'budget': '0'},\n",
              " {'title': '[HKN] Hardware Career Fair',\n",
              "  'start': Timestamp('2024-10-15 12:00:00'),\n",
              "  'end': Timestamp('2024-10-15 16:00:00'),\n",
              "  'location': 'East Pauley Ballroom',\n",
              "  'description': 'Looking to jumpstart your career in hardware engineering or explore new opportunities in the field? Join us at the Hardware Career Fair on October 15 in East Pauley Ballroom, where top hardware companies will be recruiting for both intern and new grad talent. Bring your resume and take the next step in your hardware career journey!\\n',\n",
              "  'location address': '2495 Bancroft Way, Berkeley, CA 94720',\n",
              "  'target_audience': 'Hardware engineering students',\n",
              "  'budget': '0'},\n",
              " {'title': '[HKN] Build Your Own Boba',\n",
              "  'start': Timestamp('2024-10-10 14:00:00'),\n",
              "  'end': Timestamp('2024-10-10 16:00:00'),\n",
              "  'location': 'Wozniak Terrace',\n",
              "  'description': \"Get ready for a DIY boba event open to all students! Join HKN and other students on Thursday, October 10 from 2-4 PM at the Wozniak Terrace to enjoy some free delicious bubble tea. It's a laid-back event where you can socialize with others or just get some work done while enjoying a refreshing beverage. Hope to see you there!\",\n",
              "  'location address': '1860 Le Roy Ave, Berkeley, CA 94720',\n",
              "  'target_audience': 'Open to all',\n",
              "  'budget': '0'},\n",
              " {'title': 'Codeium Tech Talk',\n",
              "  'start': Timestamp('2024-10-07 20:00:00'),\n",
              "  'end': Timestamp('2024-10-07 22:00:00'),\n",
              "  'location': 'VLSB Room 2050',\n",
              "  'description': 'Codeium is hosting an upcoming tech talk / recruiting event next Monday, October 7, from 8-10PM in Valley Life Sciences Building 2050! There will be free food, free merch, and a chance to network with Codeium engineers.\\n\\nCodeium is building one of the leading AI code completion tools. As of August, it became one of Silicon Valley’s most recent unicorns by raising $150 million Series C funding at a valuation of $1.25 billion. Get to know the team, learn about the technical challenges they face in their day-to-day work, and find out what they’re looking for in this recruiting cycle!\\n\\nIf you’re interested in attending, please fill out our RSVP form and resume drop. Feel free to forward this to anyone you think might enjoy the event.\\n\\nWe look forward to seeing you there!',\n",
              "  'location address': 'Harmon Way, Berkeley, CA 94720',\n",
              "  'target_audience': 'Open to all',\n",
              "  'budget': '0'},\n",
              " {'title': 'UC Berkeley MA Statistics Program Overview',\n",
              "  'start': Timestamp('2024-10-08 16:00:00'),\n",
              "  'end': Timestamp('2024-10-08 18:00:00'),\n",
              "  'location': 'Evans Hall Room 60',\n",
              "  'description': \"Are you an undergraduate student at UC Berkeley considering a future in statistics and data science? Maybe you are a PhD student looking to add the MA Statistics degree? Join us for an informative session on the MA Statistics program at UC Berkeley! This event is designed to provide an in-depth look at the program, including its curriculum, admission requirements, and the diverse career opportunities it offers. Hear from current students and faculty, get your questions answered, and network with like-minded peers. Light refreshments will be provided. Don't miss this opportunity to explore the next step in your academic journey!\\n\",\n",
              "  'location address': 'University Dr, Berkeley, CA 94720',\n",
              "  'target_audience': 'All interested in MA Statistics program',\n",
              "  'budget': '0'},\n",
              " {'title': '10/11 Career Fair - Berkeley Space Symposium',\n",
              "  'start': Timestamp('2024-10-11 11:00:00'),\n",
              "  'end': Timestamp('2024-10-11 17:30:00'),\n",
              "  'location': 'Pauley Ballroom',\n",
              "  'description': 'The 2024 Berkeley Space Symposium is taking place on Friday, October 11th! Hosted by NewSpace@Berkeley and sponsored by ADDMAN, Blue Origin, and Redwire, this exciting event will be held at Pauley Ballroom from 11 AM - 5:30 PM. Whether you’re passionate about space or looking for internships and full-time opportunities related to EE and/or CS, this is a fantastic event for you. With a keynote address by Will Marshall, CEO and Founder of Planet, and 15+ companies attending to recruit students, including Varda, Vast, NASA Ames, Planet, and more, there are plenty of chances to connect with industry professionals.\\n\\nIn addition to the career fair, we’re offering limited speed mentoring sessions where you can receive valuable insights from prominent figures in the space community and exclusively network with them before the event officially begins. If you are interested, please write \"MUSKMELON\" in the promo code section on the eventbrite when registering. Berkeley’s aerospace clubs will also be showcasing their groundbreaking projects.\\n\\nPlus, we’ll be hosting a special drawing with amazing space-themed prizes! The top prizes are a FREE pair of AirPods Max, The Milky Way Galaxy Lego Set, and The Original Astronaut Pen alongside other exciting items such as space pens, posters, and more. Make sure to RSVP on Handshake and don\\'t miss this incredible opportunity to network, explore careers in space, and win great prizes!',\n",
              "  'location address': '2495 Bancroft Way, Berkeley, CA 94720',\n",
              "  'target_audience': 'Open to all',\n",
              "  'budget': '0'},\n",
              " {'title': 'The Berkeley Project',\n",
              "  'start': Timestamp('2024-10-11 08:00:00'),\n",
              "  'end': Timestamp('2024-10-11 15:00:00'),\n",
              "  'location': 'Upper Sproul Plaza',\n",
              "  'description': 'Every semester, The Berkeley Project hosts the largest volunteer event on campus that aims to forge a closer relationship between the campus and the Berkeley community. Led by their site leaders, volunteers go to sites throughout Berkeley to volunteer on Berkeley Project Day. This semester, we will be hosting Berkeley Project Day on Saturday, November 2nd! If you have any questions, please reach out to our Volunteer Committee at volunteer@berkeleyproject.org.\\n\\n IMPORTANT Deadlines:\\nSite Leader (SL) – Friday, October 4th\\nVolunteer – Friday, October 11th\\nOrganization Sign Up – Friday, October 11th',\n",
              "  'location address': 'Martin Luther King Jr Student Union Asuc, 2495 Bancroft Way, Berkeley, CA 94720',\n",
              "  'target_audience': 'Open to all',\n",
              "  'budget': '0'},\n",
              " {'title': 'Niki at The Greek Theatre',\n",
              "  'start': Timestamp('2024-10-03 17:50:00'),\n",
              "  'end': Timestamp('2024-10-03 21:00:00'),\n",
              "  'location': 'The Greek Theatre ',\n",
              "  'description': 'This time, she ain\\'t keeping this lowkey! Just in, one of the world\\'s biggest rising singer-songwriters just announced her biggest tour yet - visiting over 40 countries in a headlining global trek. NIKI is set to celebrate the release of her upcoming new album \"Buzz\" coming out on August 9th. After getting us feelin\\' like it\\'s every summertime, she\\'s set to dazzle listeners with an album teased to be her most ambitious yet. The album comes two years since the release of her sophomore LP \"Nicole\". It will feature her folk-rock lead single \"Too Much Of A Good Thing\". Part of the \"High School in Jakarta\" singer\\'s BUZZ WORLD TOUR is a special stop at Greek Theatre Berkeley on Thursday, October 3. As the 88rising artist makes headlines once again, her new album is expected to usher in a new NIKI vibe, driven by her teased folk-rock inspired album, Buzz. For now, we\\'ve got Too Much Of A Good Thing, so book those tickets now!',\n",
              "  'location address': 'Hearst Greek Theatre, 2001 Gayley Rd, Berkeley, CA 94720',\n",
              "  'target_audience': 'Open to all',\n",
              "  'budget': '70'},\n",
              " {'title': 'Cal Climbing x B-Side ',\n",
              "  'start': Timestamp('2024-10-19 19:00:00'),\n",
              "  'end': Timestamp('2024-10-19 23:59:00'),\n",
              "  'location': '2205 Blake St',\n",
              "  'description': 'Boom💥Cal Climbing x B-Side band night\\n\\nMark your calendars for October 19th. Featuring sets from @pleaselaughband, @amidnightmirage, @thirddwheel, + @stantonnn\\n\\n$5 cover. Drinks provided 🍻\\n\\nPull up to 2205 Blake St for THE band night of the semester. \\U0001faf5 You won’t want to miss it',\n",
              "  'location address': '2205 Blake St, Berkeley, CA',\n",
              "  'target_audience': 'open to all',\n",
              "  'budget': '5'},\n",
              " {'title': '2024 Fall ASUC Startup Fair',\n",
              "  'start': Timestamp('2024-10-23 14:00:00'),\n",
              "  'end': Timestamp('2024-10-23 18:00:00'),\n",
              "  'location': 'Senate Chamber, Eshleman Hall',\n",
              "  'description': \"Welcome to the 2024 Fall ASUC Startup Fair!\\n\\nThe event is primarily open to UC Berkeley students, scholars, and entrepreneurs around UC Berkeley campus including local businesses and alumni. It mainly focuses on providing opportunities for attending startups to increase their exposures on campus, test their products with potential customer groups, recruit students to accelerate their development, and explore investment opportunities from various campus resources (Incubators, VCs, etc.). There will be no charges for all people who are interested to participate in this fair.\\n\\n📅Date & Time: Oct 23, 2-6PM (please make sure that your company can attend for at least 2 consecutive hours)\\n📍Location: Senate Chamber, Eshleman Hall (2465 Bancroft Way)\\n❤️Eligibility: We would require the startup to at least have a MVP ready to put into beta testing. We would also kindly encourage you to imply the stage of your company so that we can optimize your fair experience!\\n🍱Catering: We provide charcuterie, snacks, and water (you can also find them around the building).\\n🏮Cultural Inclusivity: As a strong advocate for multiculturalism, we warmly welcome all cultural groups and entrepreneurs from all cultural backgrounds to join our event.\\nFor more information, please follow us on Instagram @senator.annabelwang\\nStartup Sign-up: https://forms.gle/eboRiuz9ATTqMwcP8\\nStudent / Bay Area Scholar Sign-up: https://forms.gle/ChtGTHnAZTt5EiZq8\\nInvestor / Alumni: Sign up directly through Eventbrite.\\nIf you're joining us from around the Bay Area, please fill out this form so we can reimburse your parking fee.\\n\",\n",
              "  'location address': '2465 Bancroft Way Berkeley, CA 94704',\n",
              "  'target_audience': 'Open to all',\n",
              "  'budget': '0'},\n",
              " {'title': 'EE/CS Course Planning Workshop',\n",
              "  'start': Timestamp('2024-10-13 13:00:00'),\n",
              "  'end': Timestamp('2024-10-13 16:00:00'),\n",
              "  'location': 'The Woz',\n",
              "  'description': 'Need help deciding what courses to take next semester? HKN, CSM, IEEE, AWE, and SWE are holding a course planning workshop with experienced students in all different areas of EECS to give advice on signing up for classes. Come to the Woz on Sunday 10/13 at 1-4pm. There will be food! Bring your friends!\\n',\n",
              "  'location address': '1860 Le Roy Ave, Berkeley, CA 94720',\n",
              "  'target_audience': 'Open to all',\n",
              "  'budget': '0'},\n",
              " {'title': \"The GodFathers Present Five Nights at Freddy's\",\n",
              "  'start': Timestamp('2024-10-31 22:00:00'),\n",
              "  'end': Timestamp('2024-11-01 02:00:00'),\n",
              "  'location': '2539 Benvenue Ave, Berkeley, CA',\n",
              "  'description': 'BACK BY POPULAR DEMAND‼️The Godfathers present: FIVE NIGHTS AT FREDDYS HALLOWEEN RAGER🎉OCTOBER 31st.\\n2539 Benvenue Ave, Berkeley, CA.\\nPresale tickets on sale now! Link in BIO!\\nPresale: $5\\nDay of: $10\\nIn collaboration with @poppincal\\n… Trick or Drink .. or you’re fucking scared‼️🧟\\u200d♂️\\nPC: @nicholesarchives',\n",
              "  'location address': '2539 Benvenue Ave, Berkeley, CA',\n",
              "  'target_audience': 'Black & Latinx Community, Open to All',\n",
              "  'budget': '10'},\n",
              " {'title': 'Votechella concert Featuring the Dare & DJ Mandy',\n",
              "  'start': Timestamp('2024-10-11 17:00:00'),\n",
              "  'end': Timestamp('2024-10-11 19:00:00'),\n",
              "  'location': 'Lower Sproul',\n",
              "  'description': '🎵 💚 SEND THEM TO THE DARE, YEAH, I THINK HE’S WITH IT💚 🎵\\n\\nGet ready! BRAT Summer may be over, but BRAT FALL is just starting and we’re serving up something MAJOR 😏💅. The Dare is pulling up for an exclusive live performance @ Lower Sproul on October 11th…and it’s giving BRAT. 🎤✨\\n\\nAND, we have our very own DJ MANDY as the opener😼We know y’all been waiting for this collab🔥SO TAP IN!\\n\\nBrought to you in collaboration with @asuceavp , where we’re not just turning up—we’re turning OUT! Don’t forget to vote this upcoming election, brats. 🗳️💖\\n\\nGrab your Cal ID, bring your best vibes, and let’s light up Lower Sproul like the legends we are. 🔥✨\\n\\n💬 In the comments, tell us what ur fit is about to look like 👀🔥 See you there…💚\\n\\n🎨 @scaaamlikely\\n\\nEVENT DETAILZ:\\nFriday, October 11th\\n5-7PM\\nLower Sproul\\nFREE W/ CAL ID',\n",
              "  'location address': 'Martin Luther King Jr Student Union Asuc, 2495 Bancroft Way, Berkeley, CA 94720',\n",
              "  'target_audience': 'Berkeley Students',\n",
              "  'budget': '0'},\n",
              " {'title': 'Shannon and the Clams Concert',\n",
              "  'start': Timestamp('2024-10-19 20:00:00'),\n",
              "  'end': Timestamp('2024-10-19 23:00:00'),\n",
              "  'location': 'Fox Theater',\n",
              "  'description': 'Shannon and the Clams are coming to the Fox Theater at 8PM! Known for their unique blend of retro rock ‘n’ roll, garage punk, and soulful vibes, this Oakland-based band always brings an unforgettable show',\n",
              "  'location address': '1807 Telegraph Ave, Oakland, CA 94612',\n",
              "  'target_audience': 'Open to all',\n",
              "  'budget': '50'},\n",
              " {'title': 'John Summit Concert',\n",
              "  'start': Timestamp('2024-10-19 20:00:00'),\n",
              "  'end': Timestamp('2024-10-19 23:59:00'),\n",
              "  'location': 'Cow Palace',\n",
              "  'description': 'Chicago native John Summit\\'s rise to prominence is a testament to the power of hard work and creative passion – but what truly sets him apart is his infectious energy and boundless enthusiasm. Whether he’s playing a sold-out festival or an intimate club, John Summit is always the life of the party, bringing his signature brand of high-octane spirit to every set.\\n\\nWith over 500 million global streams on Spotify alone, John has garnered a massive following of 7 million+ monthly listeners and a dedicated fanbase. And yet, behind the larger-than-life persona lies a relatable, down-to-earth artist who once worked as a CPA by day and taught YouTube music production tutorials by night. This duality is reflected in his music, which manages to be both accessible yet complex.\\n\\nJohn Summit\\'s desire for artistic freedom led him to launch his own record label and events brand, Experts Only. The label\\'s ethos of \"music without limits\" reflects John’s refusal to be pigeonholed and his willingness to experiment with a variety of sounds and styles. Through Experts Only, John is set to throw one-of-a-kind events in unique locations worldwide creating a community of like-minded artists and fans, united by their love of boundary-pushing dance music and unforgettable live event experiences.',\n",
              "  'location address': '2600 Geneva Ave, Daly City, CA 94014',\n",
              "  'target_audience': 'Open to all',\n",
              "  'budget': '100'},\n",
              " {'title': 'Royel Otis Concert',\n",
              "  'start': Timestamp('2024-10-18 20:00:00'),\n",
              "  'end': Timestamp('2024-10-18 23:00:00'),\n",
              "  'location': 'Fox Theater',\n",
              "  'description': 'The Australian indie duo, Royel Otis, is coming to @foxoakland!! Take a break from studying and leave CAMPUS for a bit to hear their debut album, PRITTS & PRATTS live 🎸🎸 ',\n",
              "  'location address': '1807 Telegraph Ave, Oakland, CA 94612',\n",
              "  'target_audience': 'Open to all',\n",
              "  'budget': '50'},\n",
              " {'title': 'Trick or Trivia',\n",
              "  'start': Timestamp('2024-10-28 19:00:00'),\n",
              "  'end': Timestamp('2024-10-28 21:00:00'),\n",
              "  'location': 'Cornerstone',\n",
              "  'description': 'TRICK OR TRIVIA - SUPERB BAR TRIVIA @ Cornerstone',\n",
              "  'location address': '2367 Shattuck Ave., Berkeley, CA 94704',\n",
              "  'target_audience': 'Berkeley Students',\n",
              "  'budget': '0'},\n",
              " {'title': 'October Open Mic - Tiny Dorm',\n",
              "  'start': Timestamp('2024-10-16 20:00:00'),\n",
              "  'end': Timestamp('2024-10-16 22:00:00'),\n",
              "  'location': 'The Metropolitan, 2nd Floor',\n",
              "  'description': 'MUSIC LOVERS! Tiny Dorms’s October Open Mic is here! 🤯 Get ready to sing your hearts out and finally prove to your friends that you can actually play guitar and didn’t just learn two chords after watching a YouTube cover at 2am. 🎸\\n\\nTickets are in the link in bio, slots fill fast!!! RSVP to secure your spot. DM us for any other questions!!! See you there!!!',\n",
              "  'location address': '2301 Durant Ave, Berkeley, CA 9470',\n",
              "  'target_audience': 'Open to all, Berkeley Students',\n",
              "  'budget': '0'},\n",
              " {'title': 'Cap Club - Fall 2024 Premiere',\n",
              "  'start': Timestamp('2024-10-12 17:30:00'),\n",
              "  'end': Timestamp('2024-10-12 20:30:00'),\n",
              "  'location': 'Dwinelle 155',\n",
              "  'description': 'Our first premiere for FALL 2024 is coming soon! Come and watch incredible short films made by UC Berkeley students!\\n\\nAdmission is free and open to the public!\\n\\nSaturday, October 12th\\nDoors open @ 5PM\\nScreenings start @ 5:30PM',\n",
              "  'location address': 'South Dr, Berkeley, CA 94720',\n",
              "  'target_audience': 'Open to all',\n",
              "  'budget': '0'},\n",
              " {'title': 'BKAA x KASA Career Panel',\n",
              "  'start': Timestamp('2024-10-18 17:00:00'),\n",
              "  'end': Timestamp('2024-10-18 19:00:00'),\n",
              "  'location': 'Dwinelle 105',\n",
              "  'description': 'it’s time for our annual career panel with @bkaa_official !! come out to this amazing opportunity to meet with accomplished alumni and other students! make sure to fill out the RSVP form (tinyurl.com/kasaxbkaa) and we’ll see you there :)\\n—\\n📆 October 18th (Friday) @ 5-7pm\\n📍 Dwinelle 105\\n👔 Business casual\\n✅ tinyurl.com/kasaxbkaa',\n",
              "  'location address': 'South Dr, Berkeley, CA 94720',\n",
              "  'target_audience': 'Open to all, Berkeley Students, Korean-American Community ',\n",
              "  'budget': '0'},\n",
              " {'title': 'Bizerkeley Vegan Food Festival',\n",
              "  'start': Timestamp('2024-10-22 12:00:00'),\n",
              "  'end': Timestamp('2024-10-22 20:00:00'),\n",
              "  'location': 'Civic Center Park',\n",
              "  'description': 'This vegan festival celebrates plant-based cuisine with over 100 vendors showcasing food, beverages, and cruelty-free products. It also features live entertainment and games for the entire family.',\n",
              "  'location address': '2151 Martin Luther King Jr. Way, Berkeley, CA 94704',\n",
              "  'target_audience': 'Open to all, Berkeley Students, Vegans, vegetarians, foodies, health-conscious individuals, families',\n",
              "  'budget': '0'},\n",
              " {'title': 'Berkeley Harvest Festival',\n",
              "  'start': Timestamp('2024-10-23 12:00:00'),\n",
              "  'end': Timestamp('2024-10-23 12:00:00'),\n",
              "  'location': 'Cedar Rose Park',\n",
              "  'description': 'A fall celebration featuring a food contest, live music, and community activities. This event highlights local produce, sustainable food practices, and family-friendly fun.',\n",
              "  'location address': '1300 Rose St, Berkeley, CA 94702',\n",
              "  'target_audience': 'Open to all, Foodies, Families, Berkeley Students',\n",
              "  'budget': '0'},\n",
              " {'title': 'East Asian Night Market',\n",
              "  'start': Timestamp('2024-11-13 18:00:00'),\n",
              "  'end': Timestamp('2024-11-13 21:00:00'),\n",
              "  'location': 'Upper Sproul Plaza',\n",
              "  'description': \"Picture this: sizzling dumplings, bubble tea that's as sweet as your wildest dreams, and ramen that'll warm your soul. But it’s not just about the food—expect jaw-dropping performances, games, and all the cultural vibes that will make you feel like you’ve stepped into a bustling street market in Tokyo or Taipei. 🍜🎶🎉\",\n",
              "  'location address': '2030 Addison Street Berkeley, California 94704',\n",
              "  'target_audience': 'Open to all, Foodies, Berkeley Students',\n",
              "  'budget': '0'},\n",
              " {'title': 'Dosas and Mimosas',\n",
              "  'start': Timestamp('2024-04-17 19:00:00'),\n",
              "  'end': Timestamp('2024-04-17 22:00:00'),\n",
              "  'location': 'Krutch Theatre',\n",
              "  'description': 'Seen the news lately? You’ll want to know what the rest of the ton is talking about…Dosas & Mimosas! Our latest event is this Wednesday, April 17th from 7-10 PM at Krutch Theatre! Featuring performances from Maya, z, deewani, natya, raas, naach, laya, and dilse. So get your tickets now for a night of delectable food, drinks, and more.',\n",
              "  'location address': '2601 Warring St, Berkeley, CA 94720',\n",
              "  'target_audience': 'Open to all',\n",
              "  'budget': '$10'}]"
            ]
          },
          "execution_count": 29,
          "metadata": {},
          "output_type": "execute_result"
        }
      ],
      "source": [
        "available_events"
      ]
    },
    {
      "cell_type": "code",
      "execution_count": null,
      "metadata": {
        "id": "KDucIRp95XRi"
      },
      "outputs": [],
      "source": [
        "# Make an availableEvents dataclass\n",
        "\n",
        "from pydantic import BaseModel, Field\n",
        "from typing import Optional, List\n",
        "from datetime import datetime\n",
        "\n",
        "# Define EventData model\n",
        "class EventData(BaseModel):\n",
        "    title: str\n",
        "    start: datetime\n",
        "    end: datetime\n",
        "    location: str\n",
        "    description: str\n",
        "    location_address: str = Field(..., alias=\"location address\")\n",
        "    target_audience: str\n",
        "    budget: str"
      ]
    },
    {
      "cell_type": "markdown",
      "metadata": {
        "id": "mamxP5piK0Lp"
      },
      "source": [
        "# 4. Dispatcher Agent that decides which worker agents to call for a given user persona\n",
        "* Since we have many worker agents, not all of them may be necessary for making event recommendations.\n",
        "* This reflection agent will decide which worker agents are relevant to call and call them\n",
        "* Output: event recommendations from all the worker agents they decided to call\n",
        "* TO-DO: code the dispatcher agent\n",
        "\n"
      ]
    },
    {
      "cell_type": "code",
      "execution_count": null,
      "metadata": {
        "id": "CAE56f2fo9fs"
      },
      "outputs": [],
      "source": [
        "import regex as re"
      ]
    },
    {
      "cell_type": "code",
      "execution_count": null,
      "metadata": {
        "collapsed": true,
        "id": "J31-244QJ2O6"
      },
      "outputs": [],
      "source": [
        "# necessary classes for prompting\n",
        "\n",
        "from langchain.prompts import PromptTemplate\n",
        "from langchain.chains import LLMChain\n",
        "from langchain_core.prompts.chat import ChatPromptTemplate\n",
        "from langchain_core.output_parsers import StrOutputParser\n",
        "\n",
        "# necessary classes for having a state\n",
        "from langgraph.graph import StateGraph, START, END\n",
        "from langgraph.graph.state import CompiledStateGraph\n",
        "from langgraph.checkpoint.memory import MemorySaver\n",
        "from langchain_core.runnables import RunnableConfig\n",
        "from langgraph.errors import GraphRecursionError\n"
      ]
    },
    {
      "cell_type": "code",
      "execution_count": null,
      "metadata": {
        "colab": {
          "base_uri": "https://localhost:8080/"
        },
        "id": "6OVvd-Zf9i6f",
        "outputId": "505d8fe3-fc13-46aa-e735-f06ec8209d29"
      },
      "outputs": [
        {
          "name": "stdout",
          "output_type": "stream",
          "text": [
            "Requirement already satisfied: httpx in /usr/local/lib/python3.10/dist-packages (0.28.1)\n",
            "Requirement already satisfied: anyio in /usr/local/lib/python3.10/dist-packages (from httpx) (3.7.1)\n",
            "Requirement already satisfied: certifi in /usr/local/lib/python3.10/dist-packages (from httpx) (2024.8.30)\n",
            "Requirement already satisfied: httpcore==1.* in /usr/local/lib/python3.10/dist-packages (from httpx) (1.0.7)\n",
            "Requirement already satisfied: idna in /usr/local/lib/python3.10/dist-packages (from httpx) (3.10)\n",
            "Requirement already satisfied: h11<0.15,>=0.13 in /usr/local/lib/python3.10/dist-packages (from httpcore==1.*->httpx) (0.14.0)\n",
            "Requirement already satisfied: sniffio>=1.1 in /usr/local/lib/python3.10/dist-packages (from anyio->httpx) (1.3.1)\n",
            "Requirement already satisfied: exceptiongroup in /usr/local/lib/python3.10/dist-packages (from anyio->httpx) (1.2.2)\n",
            "\u001b[31mERROR: Exception:\n",
            "Traceback (most recent call last):\n",
            "  File \"/usr/local/lib/python3.10/dist-packages/pip/_vendor/packaging/requirements.py\", line 36, in __init__\n",
            "    parsed = _parse_requirement(requirement_string)\n",
            "  File \"/usr/local/lib/python3.10/dist-packages/pip/_vendor/packaging/_parser.py\", line 62, in parse_requirement\n",
            "    return _parse_requirement(Tokenizer(source, rules=DEFAULT_RULES))\n",
            "  File \"/usr/local/lib/python3.10/dist-packages/pip/_vendor/packaging/_parser.py\", line 77, in _parse_requirement\n",
            "    extras = _parse_extras(tokenizer)\n",
            "  File \"/usr/local/lib/python3.10/dist-packages/pip/_vendor/packaging/_parser.py\", line 164, in _parse_extras\n",
            "    with tokenizer.enclosing_tokens(\n",
            "  File \"/usr/lib/python3.10/contextlib.py\", line 142, in __exit__\n",
            "    next(self.gen)\n",
            "  File \"/usr/local/lib/python3.10/dist-packages/pip/_vendor/packaging/_tokenizer.py\", line 189, in enclosing_tokens\n",
            "    self.raise_syntax_error(\n",
            "  File \"/usr/local/lib/python3.10/dist-packages/pip/_vendor/packaging/_tokenizer.py\", line 167, in raise_syntax_error\n",
            "    raise ParserSyntaxError(\n",
            "pip._vendor.packaging._tokenizer.ParserSyntaxError: Expected matching RIGHT_BRACKET for LEFT_BRACKET, after extras\n",
            "    placeholder[httpx=0.27.2]\n",
            "               ~~~~~~^\n",
            "\n",
            "The above exception was the direct cause of the following exception:\n",
            "\n",
            "Traceback (most recent call last):\n",
            "  File \"/usr/local/lib/python3.10/dist-packages/pip/_internal/cli/base_command.py\", line 179, in exc_logging_wrapper\n",
            "    status = run_func(*args)\n",
            "  File \"/usr/local/lib/python3.10/dist-packages/pip/_internal/cli/req_command.py\", line 67, in wrapper\n",
            "    return func(self, options, args)\n",
            "  File \"/usr/local/lib/python3.10/dist-packages/pip/_internal/commands/install.py\", line 342, in run\n",
            "    reqs = self.get_requirements(args, options, finder, session)\n",
            "  File \"/usr/local/lib/python3.10/dist-packages/pip/_internal/cli/req_command.py\", line 233, in get_requirements\n",
            "    req_to_add = install_req_from_line(\n",
            "  File \"/usr/local/lib/python3.10/dist-packages/pip/_internal/req/constructors.py\", line 405, in install_req_from_line\n",
            "    parts = parse_req_from_line(name, line_source)\n",
            "  File \"/usr/local/lib/python3.10/dist-packages/pip/_internal/req/constructors.py\", line 353, in parse_req_from_line\n",
            "    extras = convert_extras(extras_as_string)\n",
            "  File \"/usr/local/lib/python3.10/dist-packages/pip/_internal/req/constructors.py\", line 59, in convert_extras\n",
            "    return get_requirement(\"placeholder\" + extras.lower()).extras\n",
            "  File \"/usr/local/lib/python3.10/dist-packages/pip/_internal/utils/packaging.py\", line 45, in get_requirement\n",
            "    return Requirement(req_string)\n",
            "  File \"/usr/local/lib/python3.10/dist-packages/pip/_vendor/packaging/requirements.py\", line 38, in __init__\n",
            "    raise InvalidRequirement(str(e)) from e\n",
            "pip._vendor.packaging.requirements.InvalidRequirement: Expected matching RIGHT_BRACKET for LEFT_BRACKET, after extras\n",
            "    placeholder[httpx=0.27.2]\n",
            "               ~~~~~~^\u001b[0m\u001b[31m\n",
            "\u001b[0m"
          ]
        }
      ],
      "source": [
        "!pip install --upgrade httpx\n",
        "!pip install --upgrade --no-cache-dir \"openai[httpx=0.27.2]\""
      ]
    },
    {
      "cell_type": "code",
      "execution_count": null,
      "metadata": {
        "colab": {
          "base_uri": "https://localhost:8080/",
          "height": 391
        },
        "id": "cMl7xA0V-KZ7",
        "outputId": "4759a6ef-67c1-4a54-8720-6e6d39bd8e80"
      },
      "outputs": [
        {
          "ename": "TypeError",
          "evalue": "Client.__init__() got an unexpected keyword argument 'proxies'",
          "output_type": "error",
          "traceback": [
            "\u001b[0;31m---------------------------------------------------------------------------\u001b[0m",
            "\u001b[0;31mTypeError\u001b[0m                                 Traceback (most recent call last)",
            "\u001b[0;32m<ipython-input-42-ffe1d0d3c0b4>\u001b[0m in \u001b[0;36m<cell line: 2>\u001b[0;34m()\u001b[0m\n\u001b[1;32m      1\u001b[0m \u001b[0;31m# initialize the open AI LLM that the worker agents will use\u001b[0m\u001b[0;34m\u001b[0m\u001b[0;34m\u001b[0m\u001b[0m\n\u001b[0;32m----> 2\u001b[0;31m llm = ChatOpenAI(\n\u001b[0m\u001b[1;32m      3\u001b[0m     \u001b[0mmodel\u001b[0m\u001b[0;34m=\u001b[0m\u001b[0;34m\"gpt-4o\"\u001b[0m\u001b[0;34m,\u001b[0m \u001b[0;31m# The name of the language model to use\u001b[0m\u001b[0;34m\u001b[0m\u001b[0;34m\u001b[0m\u001b[0m\n\u001b[1;32m      4\u001b[0m     \u001b[0mtemperature\u001b[0m\u001b[0;34m=\u001b[0m\u001b[0;36m0\u001b[0m\u001b[0;34m,\u001b[0m\u001b[0;34m\u001b[0m\u001b[0;34m\u001b[0m\u001b[0m\n\u001b[1;32m      5\u001b[0m     \u001b[0mmax_tokens\u001b[0m\u001b[0;34m=\u001b[0m\u001b[0;32mNone\u001b[0m\u001b[0;34m,\u001b[0m\u001b[0;34m\u001b[0m\u001b[0;34m\u001b[0m\u001b[0m\n",
            "\u001b[0;32m/usr/local/lib/python3.10/dist-packages/langchain_core/load/serializable.py\u001b[0m in \u001b[0;36m__init__\u001b[0;34m(self, *args, **kwargs)\u001b[0m\n\u001b[1;32m    123\u001b[0m     \u001b[0;32mdef\u001b[0m \u001b[0m__init__\u001b[0m\u001b[0;34m(\u001b[0m\u001b[0mself\u001b[0m\u001b[0;34m,\u001b[0m \u001b[0;34m*\u001b[0m\u001b[0margs\u001b[0m\u001b[0;34m:\u001b[0m \u001b[0mAny\u001b[0m\u001b[0;34m,\u001b[0m \u001b[0;34m**\u001b[0m\u001b[0mkwargs\u001b[0m\u001b[0;34m:\u001b[0m \u001b[0mAny\u001b[0m\u001b[0;34m)\u001b[0m \u001b[0;34m->\u001b[0m \u001b[0;32mNone\u001b[0m\u001b[0;34m:\u001b[0m\u001b[0;34m\u001b[0m\u001b[0;34m\u001b[0m\u001b[0m\n\u001b[1;32m    124\u001b[0m         \u001b[0;34m\"\"\"\"\"\"\u001b[0m\u001b[0;34m\u001b[0m\u001b[0;34m\u001b[0m\u001b[0m\n\u001b[0;32m--> 125\u001b[0;31m         \u001b[0msuper\u001b[0m\u001b[0;34m(\u001b[0m\u001b[0;34m)\u001b[0m\u001b[0;34m.\u001b[0m\u001b[0m__init__\u001b[0m\u001b[0;34m(\u001b[0m\u001b[0;34m*\u001b[0m\u001b[0margs\u001b[0m\u001b[0;34m,\u001b[0m \u001b[0;34m**\u001b[0m\u001b[0mkwargs\u001b[0m\u001b[0;34m)\u001b[0m\u001b[0;34m\u001b[0m\u001b[0;34m\u001b[0m\u001b[0m\n\u001b[0m\u001b[1;32m    126\u001b[0m \u001b[0;34m\u001b[0m\u001b[0m\n\u001b[1;32m    127\u001b[0m     \u001b[0;34m@\u001b[0m\u001b[0mclassmethod\u001b[0m\u001b[0;34m\u001b[0m\u001b[0;34m\u001b[0m\u001b[0m\n",
            "    \u001b[0;31m[... skipping hidden 1 frame]\u001b[0m\n",
            "\u001b[0;32m/usr/local/lib/python3.10/dist-packages/langchain_openai/chat_models/base.py\u001b[0m in \u001b[0;36mvalidate_environment\u001b[0;34m(self)\u001b[0m\n\u001b[1;32m    549\u001b[0m                 \u001b[0mself\u001b[0m\u001b[0;34m.\u001b[0m\u001b[0mhttp_client\u001b[0m \u001b[0;34m=\u001b[0m \u001b[0mhttpx\u001b[0m\u001b[0;34m.\u001b[0m\u001b[0mClient\u001b[0m\u001b[0;34m(\u001b[0m\u001b[0mproxy\u001b[0m\u001b[0;34m=\u001b[0m\u001b[0mself\u001b[0m\u001b[0;34m.\u001b[0m\u001b[0mopenai_proxy\u001b[0m\u001b[0;34m)\u001b[0m\u001b[0;34m\u001b[0m\u001b[0;34m\u001b[0m\u001b[0m\n\u001b[1;32m    550\u001b[0m             \u001b[0msync_specific\u001b[0m \u001b[0;34m=\u001b[0m \u001b[0;34m{\u001b[0m\u001b[0;34m\"http_client\"\u001b[0m\u001b[0;34m:\u001b[0m \u001b[0mself\u001b[0m\u001b[0;34m.\u001b[0m\u001b[0mhttp_client\u001b[0m\u001b[0;34m}\u001b[0m\u001b[0;34m\u001b[0m\u001b[0;34m\u001b[0m\u001b[0m\n\u001b[0;32m--> 551\u001b[0;31m             \u001b[0mself\u001b[0m\u001b[0;34m.\u001b[0m\u001b[0mroot_client\u001b[0m \u001b[0;34m=\u001b[0m \u001b[0mopenai\u001b[0m\u001b[0;34m.\u001b[0m\u001b[0mOpenAI\u001b[0m\u001b[0;34m(\u001b[0m\u001b[0;34m**\u001b[0m\u001b[0mclient_params\u001b[0m\u001b[0;34m,\u001b[0m \u001b[0;34m**\u001b[0m\u001b[0msync_specific\u001b[0m\u001b[0;34m)\u001b[0m  \u001b[0;31m# type: ignore[arg-type]\u001b[0m\u001b[0;34m\u001b[0m\u001b[0;34m\u001b[0m\u001b[0m\n\u001b[0m\u001b[1;32m    552\u001b[0m             \u001b[0mself\u001b[0m\u001b[0;34m.\u001b[0m\u001b[0mclient\u001b[0m \u001b[0;34m=\u001b[0m \u001b[0mself\u001b[0m\u001b[0;34m.\u001b[0m\u001b[0mroot_client\u001b[0m\u001b[0;34m.\u001b[0m\u001b[0mchat\u001b[0m\u001b[0;34m.\u001b[0m\u001b[0mcompletions\u001b[0m\u001b[0;34m\u001b[0m\u001b[0;34m\u001b[0m\u001b[0m\n\u001b[1;32m    553\u001b[0m         \u001b[0;32mif\u001b[0m \u001b[0;32mnot\u001b[0m \u001b[0mself\u001b[0m\u001b[0;34m.\u001b[0m\u001b[0masync_client\u001b[0m\u001b[0;34m:\u001b[0m\u001b[0;34m\u001b[0m\u001b[0;34m\u001b[0m\u001b[0m\n",
            "\u001b[0;32m/usr/local/lib/python3.10/dist-packages/openai/_client.py\u001b[0m in \u001b[0;36m__init__\u001b[0;34m(self, api_key, organization, project, base_url, timeout, max_retries, default_headers, default_query, http_client, _strict_response_validation)\u001b[0m\n\u001b[1;32m    121\u001b[0m             \u001b[0mbase_url\u001b[0m \u001b[0;34m=\u001b[0m \u001b[0;34mf\"https://api.openai.com/v1\"\u001b[0m\u001b[0;34m\u001b[0m\u001b[0;34m\u001b[0m\u001b[0m\n\u001b[1;32m    122\u001b[0m \u001b[0;34m\u001b[0m\u001b[0m\n\u001b[0;32m--> 123\u001b[0;31m         super().__init__(\n\u001b[0m\u001b[1;32m    124\u001b[0m             \u001b[0mversion\u001b[0m\u001b[0;34m=\u001b[0m\u001b[0m__version__\u001b[0m\u001b[0;34m,\u001b[0m\u001b[0;34m\u001b[0m\u001b[0;34m\u001b[0m\u001b[0m\n\u001b[1;32m    125\u001b[0m             \u001b[0mbase_url\u001b[0m\u001b[0;34m=\u001b[0m\u001b[0mbase_url\u001b[0m\u001b[0;34m,\u001b[0m\u001b[0;34m\u001b[0m\u001b[0;34m\u001b[0m\u001b[0m\n",
            "\u001b[0;32m/usr/local/lib/python3.10/dist-packages/openai/_base_client.py\u001b[0m in \u001b[0;36m__init__\u001b[0;34m(self, version, base_url, max_retries, timeout, transport, proxies, limits, http_client, custom_headers, custom_query, _strict_response_validation)\u001b[0m\n\u001b[1;32m    855\u001b[0m             \u001b[0mmax_retries\u001b[0m\u001b[0;34m=\u001b[0m\u001b[0mmax_retries\u001b[0m\u001b[0;34m,\u001b[0m\u001b[0;34m\u001b[0m\u001b[0;34m\u001b[0m\u001b[0m\n\u001b[1;32m    856\u001b[0m             \u001b[0mcustom_query\u001b[0m\u001b[0;34m=\u001b[0m\u001b[0mcustom_query\u001b[0m\u001b[0;34m,\u001b[0m\u001b[0;34m\u001b[0m\u001b[0;34m\u001b[0m\u001b[0m\n\u001b[0;32m--> 857\u001b[0;31m             \u001b[0mcustom_headers\u001b[0m\u001b[0;34m=\u001b[0m\u001b[0mcustom_headers\u001b[0m\u001b[0;34m,\u001b[0m\u001b[0;34m\u001b[0m\u001b[0;34m\u001b[0m\u001b[0m\n\u001b[0m\u001b[1;32m    858\u001b[0m             \u001b[0m_strict_response_validation\u001b[0m\u001b[0;34m=\u001b[0m\u001b[0m_strict_response_validation\u001b[0m\u001b[0;34m,\u001b[0m\u001b[0;34m\u001b[0m\u001b[0;34m\u001b[0m\u001b[0m\n\u001b[1;32m    859\u001b[0m         )\n",
            "\u001b[0;32m/usr/local/lib/python3.10/dist-packages/openai/_base_client.py\u001b[0m in \u001b[0;36m__init__\u001b[0;34m(self, **kwargs)\u001b[0m\n\u001b[1;32m    753\u001b[0m         \u001b[0mkwargs\u001b[0m\u001b[0;34m.\u001b[0m\u001b[0msetdefault\u001b[0m\u001b[0;34m(\u001b[0m\u001b[0;34m\"limits\"\u001b[0m\u001b[0;34m,\u001b[0m \u001b[0mDEFAULT_CONNECTION_LIMITS\u001b[0m\u001b[0;34m)\u001b[0m\u001b[0;34m\u001b[0m\u001b[0;34m\u001b[0m\u001b[0m\n\u001b[1;32m    754\u001b[0m         \u001b[0mkwargs\u001b[0m\u001b[0;34m.\u001b[0m\u001b[0msetdefault\u001b[0m\u001b[0;34m(\u001b[0m\u001b[0;34m\"follow_redirects\"\u001b[0m\u001b[0;34m,\u001b[0m \u001b[0;32mTrue\u001b[0m\u001b[0;34m)\u001b[0m\u001b[0;34m\u001b[0m\u001b[0;34m\u001b[0m\u001b[0m\n\u001b[0;32m--> 755\u001b[0;31m         \u001b[0msuper\u001b[0m\u001b[0;34m(\u001b[0m\u001b[0;34m)\u001b[0m\u001b[0;34m.\u001b[0m\u001b[0m__init__\u001b[0m\u001b[0;34m(\u001b[0m\u001b[0;34m**\u001b[0m\u001b[0mkwargs\u001b[0m\u001b[0;34m)\u001b[0m\u001b[0;34m\u001b[0m\u001b[0;34m\u001b[0m\u001b[0m\n\u001b[0m\u001b[1;32m    756\u001b[0m \u001b[0;34m\u001b[0m\u001b[0m\n\u001b[1;32m    757\u001b[0m \u001b[0;34m\u001b[0m\u001b[0m\n",
            "\u001b[0;31mTypeError\u001b[0m: Client.__init__() got an unexpected keyword argument 'proxies'"
          ]
        }
      ],
      "source": [
        "# initialize the open AI LLM that the worker agents will use\n",
        "llm = ChatOpenAI(\n",
        "    model=\"gpt-4o\", # The name of the language model to use\n",
        "    temperature=0,\n",
        "    max_tokens=None,\n",
        "    timeout=None,\n",
        "    max_retries=2,\n",
        "    api_key = OPENAI_API_KEY\n",
        ")"
      ]
    },
    {
      "cell_type": "code",
      "execution_count": null,
      "metadata": {
        "id": "yDAVbRmoJmch"
      },
      "outputs": [],
      "source": [
        "# initialize the Groq LLM that the worker agents will use\n",
        "\"\"\"\n",
        "llm = ChatGroq(\n",
        "    model=\"llama3-70b-8192\", # The name of the language model to use\n",
        "    temperature=0.0, # Controls how deterministic the LLM is in choosing the next token\n",
        "    timeout=None, # How long should a request wait for a resonse\n",
        "    max_retries=2 # How many times should we retry a request\n",
        ")\n",
        "\"\"\""
      ]
    },
    {
      "cell_type": "code",
      "execution_count": null,
      "metadata": {
        "id": "wE-D5CrJbL0g"
      },
      "outputs": [],
      "source": [
        "from typing import Annotated, Sequence\n",
        "from typing import TypedDict\n",
        "import operator\n",
        "from typing_extensions import Literal"
      ]
    },
    {
      "cell_type": "code",
      "execution_count": null,
      "metadata": {
        "id": "5KTjcMn1bQKB"
      },
      "outputs": [],
      "source": [
        "# new class state\n",
        "\n",
        "class State(TypedDict):\n",
        "    user_persona: UserPersona\n",
        "    agentsToInvoke: List[str]\n",
        "    available_events: List[EventData]\n",
        "    feedback: Optional[str]\n",
        "    eventRecommendations: Annotated[list, operator.add]\n",
        "    messageHistory: Annotated[list, operator.add]\n",
        "    current_draft: int\n",
        "    feedback: Optional[str]\n",
        "    grade: Optional[int]\n",
        "    #threshold: int = 95\n",
        "    #max_drafts: int = 3\n",
        "    #current_draft: int = 0"
      ]
    },
    {
      "cell_type": "code",
      "execution_count": null,
      "metadata": {
        "id": "B5gcmf906Joi"
      },
      "outputs": [],
      "source": [
        "tempState = State(user_persona=jane_persona, agentsToInvoke=[], available_events=available_events,\n",
        "      messageHistory=[], eventRecommendations=[])"
      ]
    },
    {
      "cell_type": "code",
      "execution_count": null,
      "metadata": {
        "id": "HxT9W-9c6hgv"
      },
      "outputs": [],
      "source": [
        "tempState[\"messageHistory\"].append(\"hi\")\n",
        "tempState[\"messageHistory\"]"
      ]
    },
    {
      "cell_type": "code",
      "execution_count": null,
      "metadata": {
        "id": "qIScKck2g0Rn"
      },
      "outputs": [],
      "source": [
        "tempState[\"eventRecommendations\"].append(\"foo\")"
      ]
    },
    {
      "cell_type": "code",
      "execution_count": null,
      "metadata": {
        "id": "P6AvrOhfg7PC"
      },
      "outputs": [],
      "source": [
        "tempState[\"eventRecommendations\"]"
      ]
    },
    {
      "cell_type": "code",
      "execution_count": null,
      "metadata": {
        "id": "yudroDezvLgd"
      },
      "outputs": [],
      "source": [
        "# global list of all worker agents\n",
        "workerAgentsList = [\"foodie\", \"concerts\"]\n",
        "workerAgentsList"
      ]
    },
    {
      "cell_type": "code",
      "execution_count": null,
      "metadata": {
        "id": "jRfAMoXvKiDy"
      },
      "outputs": [],
      "source": [
        "dispatcherAgent_prompt = \"\"\"\n",
        "    You oversee a team of event recommender agents who each specialize in recommending specific types of events.\n",
        "\n",
        "    Your job is to decide which event recommenders to activate for a certain User Persona\n",
        "\n",
        "    Rules:\n",
        "    - You can ONLY output event recommenderes that are in the ListOfEventRecommenders\n",
        "\n",
        "    You must generate a response in the following List format:\n",
        "    [agent1name, agent2name, agent3name, ....]\n",
        "\"\"\"\n",
        "\n",
        "dispatcher_prompt_template = ChatPromptTemplate.from_messages([\n",
        "    (\"system\", dispatcherAgent_prompt),\n",
        "    (\"human\", \"User Persona:\\n{UserPersona}\\n\\n ListOfEventRecommenders:\\n{workerAgentsList}\")\n",
        "])"
      ]
    },
    {
      "cell_type": "code",
      "execution_count": null,
      "metadata": {
        "id": "5pwXFk9Iy_7v"
      },
      "outputs": [],
      "source": [
        "dispatcher_agent = (dispatcher_prompt_template | llm)"
      ]
    },
    {
      "cell_type": "code",
      "execution_count": null,
      "metadata": {
        "id": "KzIZ_jO6xlwm"
      },
      "outputs": [],
      "source": [
        "# test out the dispatcher chain\n",
        "prompt = dict(UserPersona = jane_persona,\n",
        "              workerAgentsList = workerAgentsList)\n",
        "dispatcher_agent_response = dispatcher_agent.invoke(prompt)\n",
        "print(dispatcher_agent_response.content)"
      ]
    },
    {
      "cell_type": "code",
      "execution_count": null,
      "metadata": {
        "id": "V9E_wlEOLrJn"
      },
      "outputs": [],
      "source": [
        "type(dispatcher_agent_response.content)"
      ]
    },
    {
      "cell_type": "code",
      "execution_count": null,
      "metadata": {
        "id": "fnqunBLnLt-l"
      },
      "outputs": [],
      "source": [
        "import ast"
      ]
    },
    {
      "cell_type": "code",
      "execution_count": null,
      "metadata": {
        "id": "8IeQljvDLxo0"
      },
      "outputs": [],
      "source": [
        "actual_list = ast.literal_eval(dispatcher_agent_response.content)\n",
        "\n",
        "print(actual_list)  # Output: ['foodie', 'concerts']\n",
        "print(type(actual_list))  # Output: <class 'list'>"
      ]
    },
    {
      "cell_type": "code",
      "execution_count": null,
      "metadata": {
        "id": "o89j0ONeLhYY"
      },
      "outputs": [],
      "source": []
    },
    {
      "cell_type": "code",
      "execution_count": null,
      "metadata": {
        "id": "3WTn5uPWfkoY"
      },
      "outputs": [],
      "source": [
        "import ast\n",
        "def dispatcherAgentNode(state: State, config: RunnableConfig) -> State:\n",
        "  \"\"\"\n",
        "  This node is responsible for taking in a user persona and invoking the propert worker agents\n",
        "  \"\"\"\n",
        "\n",
        "  agent = config[\"configurable\"][\"agents\"][\"dispatcher\"]\n",
        "  prompt = dict(\n",
        "      UserPersona = state.get(\"user_persona\"),\n",
        "      workerAgentsList = workerAgentsList # this is a global variable\n",
        "  )\n",
        "  # invoke the agent to decide which worker agents to activate\n",
        "  response = agent.invoke(prompt)\n",
        "  print(response.content) # this is the list of agents to invoke\n",
        "  state[\"agentsToInvoke\"] = ast.literal_eval(response.content)\n",
        "  state[\"current_draft\"] = 0\n",
        "  #print(\"input into agentsToInokve: \", response.content)\n",
        "  #print(\"state agents to invoke: \", state.get(\"agentsToInvoke\"))\n",
        "\n",
        "\n",
        "  return state"
      ]
    },
    {
      "cell_type": "markdown",
      "metadata": {
        "id": "eTrVKjpoIheX"
      },
      "source": [
        "# 5. Initalize many worker events that make specific event recommendations\n",
        "* right now we only have food and concerts\n",
        "* TO-DO: make more worker agents\n",
        "* active, crafty, flim, reading, activism, volunteering,"
      ]
    },
    {
      "cell_type": "code",
      "execution_count": null,
      "metadata": {
        "id": "bjbwhqtjmj9O"
      },
      "outputs": [],
      "source": [
        "# make a global variable for the userPersona throughout the chain since it doesn't change anyways\n",
        "userPersonaCurr = jane_persona"
      ]
    },
    {
      "cell_type": "markdown",
      "metadata": {
        "id": "7VGEindQJm4y"
      },
      "source": [
        "### 4.1: Food worker agent"
      ]
    },
    {
      "cell_type": "code",
      "execution_count": null,
      "metadata": {
        "id": "pOdspkH3JoUb"
      },
      "outputs": [],
      "source": [
        "# defined a foodie agent prompt\n",
        "foodie_agent_prompt = \"\"\"\n",
        "You are an expert in the foodie and culinary scene of Berkeley, California, and the surrounding Bay Area (including San Francisco, Oakland, Emeryville, San Jose, and Cupertino).\n",
        "\n",
        "Rules:\n",
        "- Think through your feedback and recommendations step by step\n",
        "\n",
        "User Profile:\n",
        "- favoriteCuisines: {favoriteCuisines}\n",
        "- Budget Range: {foodie_budget}\n",
        "Event Data: {event_data}\n",
        "\n",
        "\n",
        "Guidelines for Recommendations:\n",
        "\n",
        "Relevance: Choose events that align with the user's preferences and budget range, unless an event is exceptionally relevant in other ways.\n",
        "Diversity: Aim to recommend a variety of food experiences or events, such as tastings, grand openings, or cultural food festivals.\n",
        "Budget: Ensure most recommendations fit within the user’s budget. If an event has no cost information, recommend it if it aligns with the user's preferences.\n",
        "\n",
        "Output:\n",
        "Provide three recommended events as described.\n",
        "\"\"\"\n",
        "\n",
        "foodie_agent_prompt_templae = ChatPromptTemplate.from_messages([\n",
        "    (\"system\", foodie_agent_prompt),\n",
        "    (\"human\", \"favoriteCuisines:\\n{favoriteCuisines}\\n\\nfoodie_budget:\\n{foodie_budget}\\n\\nevent_data:{event_data}\")\n",
        "    ])\n",
        "\n",
        "foodie_agent = (foodie_agent_prompt_templae | llm)"
      ]
    },
    {
      "cell_type": "code",
      "execution_count": null,
      "metadata": {
        "id": "icnSZGv11Wcv"
      },
      "outputs": [],
      "source": [
        "def foodieNode(state: State, config: RunnableConfig):\n",
        "  \"\"\"\n",
        "  This node is responsible for taking in events and fields from a userPersona to generate specific event recommendations for food\n",
        "  \"\"\"\n",
        "  agent = config[\"configurable\"][\"agents\"][\"foodie\"]\n",
        "\n",
        "  userPersona = state.get(\"user_persona\")\n",
        "  prompt = dict(\n",
        "      favoriteCuisines = userPersona.favoriteCuisines,\n",
        "      foodie_budget = userPersona.foodie_budget,\n",
        "      event_data = state.get(\"available_events\"),\n",
        "  )\n",
        "  response = agent.invoke(prompt)\n",
        "  print(\"food node recommendations: \", response.content)\n",
        "  #state[\"eventRecommendations\"].append(response.content)\n",
        "  print(\"foodie node event recommendations: \", state.get(\"eventRecommendations\"))\n",
        "\n",
        "  print(\"foodie node state: \", state)\n",
        "  return {\"eventRecommendations\": [response.content]}"
      ]
    },
    {
      "cell_type": "markdown",
      "metadata": {
        "id": "06Dfuw4_KQuQ"
      },
      "source": [
        "### 4.2: Concert worker agent"
      ]
    },
    {
      "cell_type": "code",
      "execution_count": null,
      "metadata": {
        "id": "UInJhmeiKNDM"
      },
      "outputs": [],
      "source": [
        "concerts_agent_prompt = \"\"\"\n",
        "    You are a music events expert for the Bay Area, specializing in personalized recommendations.\n",
        "\n",
        "    Rules:\n",
        "    - Think through your feedback and recommendations step by step\n",
        "\n",
        "    User Profile:\n",
        "    Music Genres: {musicGenres}\n",
        "    Budget Range: {budget_range}\n",
        "\n",
        "    Event Data: {event_data}\n",
        "\n",
        "\n",
        "    Guidelines for Recommendations:\n",
        "    Genre Alignment: Prioritize events that match the user’s preferred genres. If no exact genre matches are available, recommend events that would likely appeal to the user based on their demographic information (e.g., age, gender).\n",
        "    Budget Consideration: Ensure that most events fit within the user’s budget. If budget data is missing for an event, still consider it if it strongly aligns with the user’s musical interests.\n",
        "    Diversity: Include a mix of events, such as live performances, festivals, or intimate acoustic sessions, to enrich the user’s music experience.\n",
        "\n",
        "    Output:\n",
        "    Provide three recommended events as described.\n",
        "\n",
        "\"\"\"\n",
        "\n",
        "concert_agent_prompt_template = ChatPromptTemplate.from_messages([\n",
        "    (\"system\", concerts_agent_prompt),\n",
        "    (\"human\", \"musicGenres:\\n{musicGenres}\\n\\budget_range:\\n{budget_range}\\n\\nevent_data:{event_data}\")\n",
        "    ])\n",
        "\n",
        "concert_agent = (concert_agent_prompt_template | llm)"
      ]
    },
    {
      "cell_type": "code",
      "execution_count": null,
      "metadata": {
        "id": "cn8Ojovxvrw9"
      },
      "outputs": [],
      "source": [
        "\n",
        "def concertNode(state: State, config: RunnableConfig):\n",
        "  \"\"\"\n",
        "  This node is responsible for taking in events and fields from a userPersona to generate specific event recommendations for food\n",
        "  \"\"\"\n",
        "\n",
        "  agent = config[\"configurable\"][\"agents\"][\"concerts\"]\n",
        "  userPersona = state.get(\"user_persona\")\n",
        "  prompt = dict(\n",
        "      musicGenres = userPersona.musicGenres,\n",
        "      budget_range = userPersona.concert_budget,\n",
        "      event_data = state.get(\"available_events\"),\n",
        "  )\n",
        "  response = agent.invoke(prompt)\n",
        "  print(\"concert Nodes recs: \", response.content)\n",
        "  #state.get(\"eventRecommendations\").append(response.content)\n",
        "\n",
        "  print(\"append to message history and event Recommendations\")\n",
        "  print(\"concert node event recommendations: \", state.get(\"eventRecommendations\"))\n",
        "\n",
        "  print(\"concert node state: \", state)\n",
        "  return {\"eventRecommendations\": [response.content]}"
      ]
    },
    {
      "cell_type": "code",
      "execution_count": null,
      "metadata": {
        "id": "helT9ItjkOgS"
      },
      "outputs": [],
      "source": []
    },
    {
      "cell_type": "markdown",
      "metadata": {
        "id": "OTShWArAmJqN"
      },
      "source": [
        "# Curator Agent\n",
        "* This agent takes in all recommended events from the worker events and decides which to recommend to the user\n",
        "* These decisions are based on the user profile and some hard constraints of the user"
      ]
    },
    {
      "cell_type": "code",
      "execution_count": null,
      "metadata": {
        "id": "22alQzEtmhMg"
      },
      "outputs": [],
      "source": [
        "curatorAgent_prompt = \"\"\"\n",
        "    You take in event recommendations from many different event specialist (foodie, concerts, crafts, etc).\n",
        "    Your job is to decide which events to recommend to the user.\n",
        "\n",
        "    Rules:\n",
        "    - Recommend only the top 3 events that the user will most enjoy\n",
        "    - The user must be the target audience for these events. If the user is not the target audience, it will make them uncomfortable\n",
        "    - Recommend events that the user would enjoy the most based on their user profile\n",
        "\n",
        "    User Profile:\n",
        "    {UserPersona}\n",
        "\n",
        "    Event Recommendations:\n",
        "    {eventRecommendations}\n",
        "\n",
        "    Feedback:\n",
        "    {feedback}\n",
        "\n",
        "\"\"\"\n",
        "\n",
        "curator_prompt_template = ChatPromptTemplate.from_messages([\n",
        "    (\"system\", curatorAgent_prompt),\n",
        "    (\"human\", \"User Persona:\\n{UserPersona}\\nEvent Recommendations:\\n{eventRecommendations}\\nfeedback:\\n{Feedback}\")\n",
        "])"
      ]
    },
    {
      "cell_type": "code",
      "execution_count": null,
      "metadata": {
        "id": "kYVtLdOus-RA"
      },
      "outputs": [],
      "source": [
        "curator_agent = (curator_prompt_template | llm)"
      ]
    },
    {
      "cell_type": "code",
      "execution_count": null,
      "metadata": {
        "id": "tBRLbZES9QpU"
      },
      "outputs": [],
      "source": [
        "def curatorNode(state: State, config: RunnableConfig) -> State:\n",
        "  \"\"\"\n",
        "  This node is responsible for taking in event recommendations and then making final event recommendations based on the user persona\n",
        "  \"\"\"\n",
        "\n",
        "  agent = config[\"configurable\"][\"agents\"][\"curator\"]\n",
        "  print(\"in curator Node\")\n",
        "  prompt = dict(\n",
        "      UserPersona = state.get(\"user_persona\"),\n",
        "      eventRecommendations = state.get(\"eventRecommendations\"),\n",
        "      feedback = state.get(\"feedback\")\n",
        "  )\n",
        "  response = agent.invoke(prompt)\n",
        "  print(\"curator agent response: \", response.content)\n",
        "  state.get(\"messageHistory\").append(response.content)\n",
        "  state[\"current_draft\"] += 1\n",
        "  print(\"curator recommendations: \", response.content)\n",
        "  return state"
      ]
    },
    {
      "cell_type": "markdown",
      "metadata": {
        "id": "ft31TeIcRWJT"
      },
      "source": [
        "# Curator Feedback Agent\n",
        "This node gives feedback to the curator agent"
      ]
    },
    {
      "cell_type": "code",
      "execution_count": null,
      "metadata": {
        "id": "U6KsUEGIk9Sy"
      },
      "outputs": [],
      "source": [
        "from pydantic import BaseModel, Field"
      ]
    },
    {
      "cell_type": "code",
      "execution_count": null,
      "metadata": {
        "id": "uE7Um554lAFI"
      },
      "outputs": [],
      "source": [
        "class ReflectionState(BaseModel):\n",
        "  grade: int = Field(description=\"The grade of the event recommendations out of 5, with 5 being a perfect score\")"
      ]
    },
    {
      "cell_type": "code",
      "execution_count": null,
      "metadata": {
        "id": "oU0KSV2IUivk"
      },
      "outputs": [],
      "source": [
        "curatorFeedback_prompt = \"\"\" You are a seasoned events recommender who is able to curate events for people based on their interests.\n",
        "Your goal is to give feedback to the curator agent to ensure that the best events are getting recommended for the user out of all the available events\n",
        "\n",
        "You must generate a response in the following JSON format:\n",
        "{{\n",
        "  \"feedback\": \"Your feedback to the curator agent on what went well, what didn't, and how they can improve the event recommendations.\",\n",
        "  \"grade\": \"The grade of the event recommendations out of 5, with 5 being a perfect score\"\n",
        "}}\n",
        "\n",
        "Think things through step-by-step\n",
        "\"\"\"\n",
        "\n",
        "curatorFeedback_prompt_template = ChatPromptTemplate.from_messages([\n",
        "    (\"system\", curatorFeedback_prompt),\n",
        "    (\"human\", \"User Persona:\\n{UserPersona}\\nEvent Recommendations:\\n{eventRecommendations}\\nCurator Agent recommendations:\\n{messageHistory}\")\n",
        "])"
      ]
    },
    {
      "cell_type": "code",
      "execution_count": null,
      "metadata": {
        "id": "MjLeSxDgmIMg"
      },
      "outputs": [],
      "source": [
        "curatorFeedback_chain = (curatorFeedback_prompt_template | llm)"
      ]
    },
    {
      "cell_type": "code",
      "execution_count": null,
      "metadata": {
        "id": "SVKMpngJmP7D"
      },
      "outputs": [],
      "source": [
        "def curatorFeedback(state: State, config: RunnableConfig) -> State:\n",
        "  \"\"\"This node is responsible for critiquing the output of the curator node and providing constructive feedback\n",
        "  \"\"\"\n",
        "  print(\"At the editor node\")\n",
        "  agent = config[\"configurable\"][\"agents\"][\"curatorFeedback\"]\n",
        "  prompt = dict(\n",
        "      UserPersona = state.get(\"user_persona\"),\n",
        "      eventRecommendations = state.get(\"eventRecommendations\"),\n",
        "      messageHistory = state.get(\"messageHistory\")\n",
        "  )\n",
        "  response = agent.invoke(prompt)\n",
        "  state.feedback = response.feedback\n",
        "  state.grade = response.grade\n",
        "  print(\"this is the feedback: \", state.feedback)\n",
        "  print(\"this is the grade: \", state.grade)\n",
        "  return state"
      ]
    },
    {
      "cell_type": "markdown",
      "metadata": {
        "id": "ktcaIIx9RbKb"
      },
      "source": [
        "# Events Writer Agent\n",
        "This event takes in the final events recommendations and packages them into an exciting manner for the user"
      ]
    },
    {
      "cell_type": "code",
      "execution_count": null,
      "metadata": {
        "id": "GF8yX1rHSx_D"
      },
      "outputs": [],
      "source": [
        "eventsWriter_prompt = \"\"\"\n",
        "    You take in event recommendations from the curator Agent (which is inside the messageHistory) and write them in an exciting manner to the user to take in.\n",
        "\n",
        "    Rules:\n",
        "    - Must include the date and time of each event\n",
        "    - Include a short description of why the event would be exciting to the user and what the event is about\n",
        "\n",
        "    User Profile:\n",
        "    {UserPersona}\n",
        "\n",
        "    Final Event Recommendations:\n",
        "    {messageHistory}\n",
        "\n",
        "\"\"\"\n",
        "\n",
        "eventsWriter_prompt_template = ChatPromptTemplate.from_messages([\n",
        "    (\"system\", eventsWriter_prompt),\n",
        "    (\"human\", \"User Persona:\\n{UserPersona}\\nFinal Event Recommendations:\\n{messageHistory}\")\n",
        "])"
      ]
    },
    {
      "cell_type": "code",
      "execution_count": null,
      "metadata": {
        "id": "nkAk4dV3s__P"
      },
      "outputs": [],
      "source": [
        "eventsWriter_agent = (eventsWriter_prompt_template | llm)"
      ]
    },
    {
      "cell_type": "code",
      "execution_count": null,
      "metadata": {
        "id": "a-vUSUFzU6s5"
      },
      "outputs": [],
      "source": [
        "def eventsWriterNode(state: State, config: RunnableConfig) -> State:\n",
        "  \"\"\"\n",
        "  This node is responsible for taking in event recommendations and then making final event recommendations based on the user persona\n",
        "  \"\"\"\n",
        "  agent = config[\"configurable\"][\"agents\"][\"eventsWriter\"]\n",
        "  prompt = dict(\n",
        "      UserPersona = state.get(\"user_persona\"),\n",
        "      messageHistory = state.get(\"messageHistory\")\n",
        "  )\n",
        "  response = agent.invoke(prompt)\n",
        "  state.get(\"messageHistory\").append(response.content)\n",
        "  print(\"Final Event recommendations: \", response.content)\n",
        "  return state"
      ]
    },
    {
      "cell_type": "code",
      "execution_count": null,
      "metadata": {
        "id": "lcZGRQ4Vs1aP"
      },
      "outputs": [],
      "source": [
        "curator_agent = (curator_prompt_template | llm)"
      ]
    },
    {
      "cell_type": "markdown",
      "metadata": {
        "id": "JACbzlvpIpZG"
      },
      "source": [
        "# 7. Putting the graph together"
      ]
    },
    {
      "cell_type": "code",
      "execution_count": null,
      "metadata": {
        "id": "VckZZj2vIqwV"
      },
      "outputs": [],
      "source": [
        "graph_builder = StateGraph(State)"
      ]
    },
    {
      "cell_type": "code",
      "execution_count": null,
      "metadata": {
        "colab": {
          "base_uri": "https://localhost:8080/"
        },
        "collapsed": true,
        "id": "FNpgKy2-rzdm",
        "outputId": "518f520b-7ec6-41de-884a-7968a41f7f0a"
      },
      "outputs": [
        {
          "data": {
            "text/plain": [
              "<langgraph.graph.state.StateGraph at 0x7f9cf6b8ee90>"
            ]
          },
          "execution_count": 319,
          "metadata": {},
          "output_type": "execute_result"
        }
      ],
      "source": [
        "# Add the nodes\n",
        "graph_builder.add_node(\"dispatcher\", dispatcherAgentNode)\n",
        "graph_builder.add_node(\"foodie\", foodieNode)\n",
        "graph_builder.add_node(\"concerts\", concertNode)\n",
        "#graph_builder.add_node(\"merger\", mergerNode)\n",
        "graph_builder.add_node(\"curator\", curatorNode)\n",
        "graph_builder.add_node(\"eventsWriter\", eventsWriterNode)\n"
      ]
    },
    {
      "cell_type": "code",
      "execution_count": null,
      "metadata": {
        "colab": {
          "base_uri": "https://localhost:8080/"
        },
        "id": "IcW5hCkvwNDS",
        "outputId": "ac7b72ba-e9bb-4751-8b91-d5d2e67e63d9"
      },
      "outputs": [
        {
          "data": {
            "text/plain": [
              "<langgraph.graph.state.StateGraph at 0x7f9cf6b8ee90>"
            ]
          },
          "execution_count": 320,
          "metadata": {},
          "output_type": "execute_result"
        }
      ],
      "source": [
        "graph_builder.set_entry_point(\"dispatcher\")"
      ]
    },
    {
      "cell_type": "code",
      "execution_count": null,
      "metadata": {
        "id": "ou7-Bh64lxft"
      },
      "outputs": [],
      "source": [
        "def activate_nodes(state: State) -> Sequence[str]:\n",
        "  if state.get(\"agentsToInvoke\") is None:\n",
        "    return END\n",
        "  else:\n",
        "    return state.get(\"agentsToInvoke\")\n",
        "\n",
        "workerAgents = [\"foodie\", \"concerts\"]"
      ]
    },
    {
      "cell_type": "code",
      "execution_count": null,
      "metadata": {
        "id": "NTeqt69pnGxP"
      },
      "outputs": [],
      "source": [
        "graph_builder.add_conditional_edges(\"dispatcher\", activate_nodes, workerAgents)\n",
        "\n",
        "for node in workerAgents:\n",
        "  graph_builder.add_edge(node, \"curator\")"
      ]
    },
    {
      "cell_type": "code",
      "execution_count": null,
      "metadata": {
        "id": "xIB-_a1KnT_q"
      },
      "outputs": [],
      "source": [
        "def rewrite_or_submit(state: State) -> Literal[\"eventsWriter\", END]:\n",
        "  if state.grade >= 95 or state.current_draft >= 3:\n",
        "    print(state.draft)\n",
        "    return END\n",
        "  else:\n",
        "    return \"eventsWriter\""
      ]
    },
    {
      "cell_type": "code",
      "execution_count": null,
      "metadata": {
        "colab": {
          "base_uri": "https://localhost:8080/"
        },
        "id": "7YKwfdl0sm3l",
        "outputId": "baee7226-4594-4651-e9d3-acd817ff393a"
      },
      "outputs": [
        {
          "data": {
            "text/plain": [
              "<langgraph.graph.state.StateGraph at 0x7f9cf6b8ee90>"
            ]
          },
          "execution_count": 323,
          "metadata": {},
          "output_type": "execute_result"
        }
      ],
      "source": [
        "graph_builder.add_edge(\"curator\", \"curatorFeedback\")\n",
        "graph_builder.add_edge(\"curatorFeedback\", rewrite_or_submit)\n",
        "graph_builder.add_edge(\"curatorFeedback\", \"eventsWriter\")\n",
        "graph_builder.add_edge(\"eventsWriter\", END)"
      ]
    },
    {
      "cell_type": "code",
      "execution_count": null,
      "metadata": {
        "id": "vs_eTtDFsVZt"
      },
      "outputs": [],
      "source": [
        "graph_config = {\n",
        "    \"configurable\": {\n",
        "        # You can add items to pass into your nodes using this config.\n",
        "        # This is a preferred method of injecting dependencies into your\n",
        "        # node functions\n",
        "        \"agents\": {\n",
        "            \"dispatcher\": dispatcher_agent,\n",
        "            \"foodie\": foodie_agent,\n",
        "            \"concerts\": concert_agent,\n",
        "            \"curator\": curator_agent,\n",
        "            \"eventsWriter\": eventsWriter_agent\n",
        "        },\n",
        "        # The thread_id is used to help persist the state across sessions.\n",
        "        # It identifies the state that is associated with the given thread\n",
        "        \"thread_id\": \"test_thread\"\n",
        "    },\n",
        "    # Controls the total number of times nodes can execute during a cycle\n",
        "    # before the graph hits its max recursion depth\n",
        "    # Note: A GraphRecursionError is thrown when this happens. You should add\n",
        "    # logic to catch this error so that your applications can fail gracefully\n",
        "    \"recursion_limit\": 11\n",
        "}"
      ]
    },
    {
      "cell_type": "code",
      "execution_count": null,
      "metadata": {
        "id": "8Sgk9Mi-svhC"
      },
      "outputs": [],
      "source": [
        "# Add memory to persist the state and compile the graph\n",
        "memory = MemorySaver()\n",
        "graph = graph_builder.compile(checkpointer=memory)"
      ]
    },
    {
      "cell_type": "code",
      "execution_count": null,
      "metadata": {
        "id": "2X1lBNEAItRw"
      },
      "outputs": [],
      "source": [
        "from IPython.display import Image, display\n",
        "from langgraph.graph.state import CompiledStateGraph\n",
        "\n",
        "def print_graph(graph: CompiledStateGraph) -> None:\n",
        "  try:\n",
        "    display(Image(graph.get_graph().draw_mermaid_png()))\n",
        "  except Exception:\n",
        "    pass"
      ]
    },
    {
      "cell_type": "code",
      "execution_count": null,
      "metadata": {
        "colab": {
          "base_uri": "https://localhost:8080/",
          "height": 548
        },
        "id": "NMrzrGpMIus0",
        "outputId": "dc71cf3d-9674-4cbb-f8be-ef9e8d85d53d"
      },
      "outputs": [
        {
          "data": {
            "image/png": "[encoded data removed]",
            "text/plain": [
              "<IPython.core.display.Image object>"
            ]
          },
          "metadata": {},
          "output_type": "display_data"
        }
      ],
      "source": [
        "print_graph(graph)"
      ]
    },
    {
      "cell_type": "code",
      "execution_count": null,
      "metadata": {
        "colab": {
          "base_uri": "https://localhost:8080/"
        },
        "collapsed": true,
        "id": "4vnAMa43sSC0",
        "outputId": "48d5b4e7-f1ba-406b-9525-b8dab20dd59e"
      },
      "outputs": [
        {
          "name": "stdout",
          "output_type": "stream",
          "text": [
            "['foodie', 'concerts']\n",
            "concert Nodes recs:  Based on your budget range of $20-50 and the available events, here are three recommended music events that fit within your budget and offer a diverse experience:\n",
            "\n",
            "1. **Shannon and the Clams Concert**\n",
            "   - **Date & Time:** October 19, 2024, 8:00 PM - 11:00 PM\n",
            "   - **Location:** Fox Theater, 1807 Telegraph Ave, Oakland, CA 94612\n",
            "   - **Description:** Enjoy a unique blend of retro rock ‘n’ roll, garage punk, and soulful vibes with this Oakland-based band. Known for their unforgettable shows, Shannon and the Clams offer a lively and engaging performance.\n",
            "   - **Budget:** $50\n",
            "\n",
            "2. **Royel Otis Concert**\n",
            "   - **Date & Time:** October 18, 2024, 8:00 PM - 11:00 PM\n",
            "   - **Location:** Fox Theater, 1807 Telegraph Ave, Oakland, CA 94612\n",
            "   - **Description:** Experience the Australian indie duo, Royel Otis, live as they perform their debut album, PRITTS & PRATTS. This event is a great opportunity to enjoy indie music and take a break from the usual routine.\n",
            "   - **Budget:** $50\n",
            "\n",
            "3. **Cal Climbing x B-Side Band Night**\n",
            "   - **Date & Time:** October 19, 2024, 7:00 PM - 11:59 PM\n",
            "   - **Location:** 2205 Blake St, Berkeley, CA\n",
            "   - **Description:** Join the Cal Climbing x B-Side band night featuring sets from various bands. This event offers a casual and fun atmosphere with a $5 cover charge and drinks provided, making it an affordable and enjoyable night out.\n",
            "   - **Budget:** $5\n",
            "\n",
            "These events provide a mix of genres and settings, from indie and retro rock to a local band night, ensuring a varied musical experience within your budget.\n",
            "append to message history and event Recommendations\n",
            "concert node event recommendations:  []\n",
            "concert node state:  {'user_persona': UserPersona(uuid='1', name='Jane Doe', username='jane_doe', schoolyear='School Year', major='Data Science', event_preferences=['Foodies', ' Concerts'], free_vs_paid_events='Occasional Paid', preferred_day='Weekends', preferred_time_of_day='Evenings', location_preference='Walking distance', hobbies=['Cooking', ' Art', ' Music Festivals'], message_history=None, foodie_budget='$15-30', concert_budget='$20-50', favoriteCuisines=None, musicGenres=None), 'agentsToInvoke': ['foodie', 'concerts'], 'available_events': [{'title': 'Data4All Undergraduate Teaching', 'start': Timestamp('2024-10-11 15:00:00'), 'end': Timestamp('2024-10-12 16:00:00'), 'location': 'Soda Hall Room 510', 'description': 'DataCookies (October Edition): Data4All Undergraduate Teaching. Are you interested in undergraduate teaching? Do you identify as a minority in EECS/Computer Science and/or a junior transfer student? Join us on Friday October 11th (3-4pm)  for a panel on How to get involved in undergraduate teaching.\\nWe invite students enrolled in computer systems classes (CS61C, CS162, CS186, CS161, CS152, CS168) to attend the next DataCookies event! Meet up with like minded students and find out more about what undergraduate teaching is like at Berkeley. You’ll hear from sophomores, juniors and seniors about when and how they got involved. It is never too early.\\nThe event will take place in Soda 510. Refreshments will be provided.  There will be a period of mingling followed by a panel. The event is meant to be informal. There are no stupid questions!\\nData4All is a new initiative led by Lisa Yan and Natacha Crooks targeted towards increasing participation, retention, and engagement of URM students in Systems at UC Berkeley. If you’d like to sign up for our announcement list, please register here: https://eecs.link/data4all.\\nDataCookies events will feature invited speakers/panels once a month on Fridays, 3-4 PM.\\nDataCookies 1:  Speed Study Meetups (Sept 4th)\\nDataCookies 2:  How to get involved in undergraduate teaching (Oct 11th)\\nDataCookies 3:  Startup Founder (Date TBD)', 'location address': '2551 Hearst Ave, Berkeley, CA 94709', 'target_audience': 'minority in EECS/Computer Science, junior transfer student, enrolled in CS 61C, CS162, CS186, CS161, CS152, CS168)', 'budget': '0'}, {'title': '8 Miami Hurricanes v California Golden Bears', 'start': Timestamp('2024-10-12 19:30:00'), 'end': Timestamp('2024-10-12 22:30:00'), 'location': 'Memorial Stadium', 'description': 'Football Game', 'location address': '210 Stadium Rim Way, Berkeley, CA 94720', 'target_audience': 'Open to all', 'budget': '40'}, {'title': '[HKN] Course Planning Workshop', 'start': Timestamp('2024-10-13 13:00:00'), 'end': Timestamp('2024-10-13 16:00:00'), 'location': 'The Woz', 'description': 'Need help deciding what courses to take next semester? HKN, IEEE, CSM, AWE, and SWE are holding a course planning workshop with experienced students in all different areas of EECS to give advice on signing up for classes. Come to the Woz on Sun. October 13th at 1-4pm. There will be food! Bring your friends!', 'location address': '1860 Le Roy Ave, Berkeley, CA 94720', 'target_audience': 'open to all, targeting CS/EECS majors', 'budget': '0'}, {'title': 'Info-Session w/ TSMC', 'start': Timestamp('2024-10-07 17:30:00'), 'end': Timestamp('2024-10-07 19:00:00'), 'location': 'The Woz', 'description': 'TSMC will be on campus on TONIGHT (Monday, October 7) to hold an information session (light meal served) from 5:30-7:00pm at The Wozniak Lounge. We hope to see you there!\\n\\nStudents of all majors, including EE, CS, Chemistry/Chemical Engineering, Physics, Mechanical Engineering, Industrial Engineering, and non-STEM students, are invited to attend our info session to learn more about the company, our innovative work, and career opportunities we provide in our global locations.', 'location address': '1860 Le Roy Ave, Berkeley, CA 94720', 'target_audience': 'open to all', 'budget': '0'}, {'title': 'EECS Colloquium | Disruptive Innovation and Collaboration to Sustain the AI Revolution', 'start': Timestamp('2024-10-16 14:00:00'), 'end': Timestamp('2024-10-16 15:00:00'), 'location': 'Banatao Auditorium', 'description': 'Steady advancement in microelectronics technology over the past six decades have had transformative impact on life in modern society, as they have enabled exponential growth in information collection and processing, ushering in the age of artificial intelligence. Challenges for sustaining the AI revolution will require disruptive innovation and collaboration to overcome. This talk will give some examples of such opportunities to drive continued progress in our increasingly technology-dependent world.\\n\\nTsu-Jae King Liu is Dean and Roy W. Carlson Professor of Engineering at UC Berkeley, where she has conducted research and taught courses on semiconductor devices and technology since 1996. She is a Fellow of the Institute for Electrical and Electronic Engineers (IEEE) and the National Academy of Inventors, as well as an elected member of the U.S. National Academy of Engineering. She also serves on the Board of Directors for Intel Corp. and MaxLinear Inc. Her awards include the DARPA Significant Technical Achievement Award for development of the FinFET (the transistor design used in all leading-edge computer chips today), and the IEEE Founders Medal for leadership in the advancement and commercialization of nanometer semiconductor technologies and the promotion of microelectronics workforce development.\\n', 'location address': '310 Sutardja Dai Hall Berkeley, CA 94720', 'target_audience': 'All EECS faculty and students', 'budget': '0'}, {'title': 'New Silicon Initiative: Women in Hardware Technologies Speaker Series', 'start': Timestamp('2024-10-10 15:00:00'), 'end': Timestamp('2024-10-10 16:00:00'), 'location': 'Online', 'description': 'You’re invited to a special guest lecture with Jennifer Donnelly, senior director of design verification for Apple’s silicon engineering team. Learn about Jennifer’s career journey and what it’s like to be at the forefront of innovation at Apple.', 'location address': 'Online', 'target_audience': 'All EECS students, open to all', 'budget': '0'}, {'title': '[HKN] Zip Infosession', 'start': Timestamp('2024-10-10 17:00:00'), 'end': Timestamp('2024-10-10 18:00:00'), 'location': 'Banatao Auditorium', 'description': 'Tech talk, recruiting, free food! Come to Banatao Auditorium on this Thursday, 10/10 at 5pm for free food + a fireside chat with Zip (fintech unicorn startup)! Hear stories from Zip engineers and Berkeley alumni talking about growth, go-to-market, engineering challenges, and their career journeys! Free food--', 'location address': '310 Sutardja Dai Hall Berkeley, CA 94720', 'target_audience': 'Open to all', 'budget': '0'}, {'title': '[HKN] Hardware Career Fair', 'start': Timestamp('2024-10-15 12:00:00'), 'end': Timestamp('2024-10-15 16:00:00'), 'location': 'East Pauley Ballroom', 'description': 'Looking to jumpstart your career in hardware engineering or explore new opportunities in the field? Join us at the Hardware Career Fair on October 15 in East Pauley Ballroom, where top hardware companies will be recruiting for both intern and new grad talent. Bring your resume and take the next step in your hardware career journey!\\n', 'location address': '2495 Bancroft Way, Berkeley, CA 94720', 'target_audience': 'Hardware engineering students', 'budget': '0'}, {'title': '[HKN] Build Your Own Boba', 'start': Timestamp('2024-10-10 14:00:00'), 'end': Timestamp('2024-10-10 16:00:00'), 'location': 'Wozniak Terrace', 'description': \"Get ready for a DIY boba event open to all students! Join HKN and other students on Thursday, October 10 from 2-4 PM at the Wozniak Terrace to enjoy some free delicious bubble tea. It's a laid-back event where you can socialize with others or just get some work done while enjoying a refreshing beverage. Hope to see you there!\", 'location address': '1860 Le Roy Ave, Berkeley, CA 94720', 'target_audience': 'Open to all', 'budget': '0'}, {'title': 'Codeium Tech Talk', 'start': Timestamp('2024-10-07 20:00:00'), 'end': Timestamp('2024-10-07 22:00:00'), 'location': 'VLSB Room 2050', 'description': 'Codeium is hosting an upcoming tech talk / recruiting event next Monday, October 7, from 8-10PM in Valley Life Sciences Building 2050! There will be free food, free merch, and a chance to network with Codeium engineers.\\n\\nCodeium is building one of the leading AI code completion tools. As of August, it became one of Silicon Valley’s most recent unicorns by raising $150 million Series C funding at a valuation of $1.25 billion. Get to know the team, learn about the technical challenges they face in their day-to-day work, and find out what they’re looking for in this recruiting cycle!\\n\\nIf you’re interested in attending, please fill out our RSVP form and resume drop. Feel free to forward this to anyone you think might enjoy the event.\\n\\nWe look forward to seeing you there!', 'location address': 'Harmon Way, Berkeley, CA 94720', 'target_audience': 'Open to all', 'budget': '0'}, {'title': 'UC Berkeley MA Statistics Program Overview', 'start': Timestamp('2024-10-08 16:00:00'), 'end': Timestamp('2024-10-08 18:00:00'), 'location': 'Evans Hall Room 60', 'description': \"Are you an undergraduate student at UC Berkeley considering a future in statistics and data science? Maybe you are a PhD student looking to add the MA Statistics degree? Join us for an informative session on the MA Statistics program at UC Berkeley! This event is designed to provide an in-depth look at the program, including its curriculum, admission requirements, and the diverse career opportunities it offers. Hear from current students and faculty, get your questions answered, and network with like-minded peers. Light refreshments will be provided. Don't miss this opportunity to explore the next step in your academic journey!\\n\", 'location address': 'University Dr, Berkeley, CA 94720', 'target_audience': 'All interested in MA Statistics program', 'budget': '0'}, {'title': '10/11 Career Fair - Berkeley Space Symposium', 'start': Timestamp('2024-10-11 11:00:00'), 'end': Timestamp('2024-10-11 17:30:00'), 'location': 'Pauley Ballroom', 'description': 'The 2024 Berkeley Space Symposium is taking place on Friday, October 11th! Hosted by NewSpace@Berkeley and sponsored by ADDMAN, Blue Origin, and Redwire, this exciting event will be held at Pauley Ballroom from 11 AM - 5:30 PM. Whether you’re passionate about space or looking for internships and full-time opportunities related to EE and/or CS, this is a fantastic event for you. With a keynote address by Will Marshall, CEO and Founder of Planet, and 15+ companies attending to recruit students, including Varda, Vast, NASA Ames, Planet, and more, there are plenty of chances to connect with industry professionals.\\n\\nIn addition to the career fair, we’re offering limited speed mentoring sessions where you can receive valuable insights from prominent figures in the space community and exclusively network with them before the event officially begins. If you are interested, please write \"MUSKMELON\" in the promo code section on the eventbrite when registering. Berkeley’s aerospace clubs will also be showcasing their groundbreaking projects.\\n\\nPlus, we’ll be hosting a special drawing with amazing space-themed prizes! The top prizes are a FREE pair of AirPods Max, The Milky Way Galaxy Lego Set, and The Original Astronaut Pen alongside other exciting items such as space pens, posters, and more. Make sure to RSVP on Handshake and don\\'t miss this incredible opportunity to network, explore careers in space, and win great prizes!', 'location address': '2495 Bancroft Way, Berkeley, CA 94720', 'target_audience': 'Open to all', 'budget': '0'}, {'title': 'The Berkeley Project', 'start': Timestamp('2024-10-11 08:00:00'), 'end': Timestamp('2024-10-11 15:00:00'), 'location': 'Upper Sproul Plaza', 'description': 'Every semester, The Berkeley Project hosts the largest volunteer event on campus that aims to forge a closer relationship between the campus and the Berkeley community. Led by their site leaders, volunteers go to sites throughout Berkeley to volunteer on Berkeley Project Day. This semester, we will be hosting Berkeley Project Day on Saturday, November 2nd! If you have any questions, please reach out to our Volunteer Committee at volunteer@berkeleyproject.org.\\n\\n IMPORTANT Deadlines:\\nSite Leader (SL) – Friday, October 4th\\nVolunteer – Friday, October 11th\\nOrganization Sign Up – Friday, October 11th', 'location address': 'Martin Luther King Jr Student Union Asuc, 2495 Bancroft Way, Berkeley, CA 94720', 'target_audience': 'Open to all', 'budget': '0'}, {'title': 'Niki at The Greek Theatre', 'start': Timestamp('2024-10-03 17:50:00'), 'end': Timestamp('2024-10-03 21:00:00'), 'location': 'The Greek Theatre ', 'description': 'This time, she ain\\'t keeping this lowkey! Just in, one of the world\\'s biggest rising singer-songwriters just announced her biggest tour yet - visiting over 40 countries in a headlining global trek. NIKI is set to celebrate the release of her upcoming new album \"Buzz\" coming out on August 9th. After getting us feelin\\' like it\\'s every summertime, she\\'s set to dazzle listeners with an album teased to be her most ambitious yet. The album comes two years since the release of her sophomore LP \"Nicole\". It will feature her folk-rock lead single \"Too Much Of A Good Thing\". Part of the \"High School in Jakarta\" singer\\'s BUZZ WORLD TOUR is a special stop at Greek Theatre Berkeley on Thursday, October 3. As the 88rising artist makes headlines once again, her new album is expected to usher in a new NIKI vibe, driven by her teased folk-rock inspired album, Buzz. For now, we\\'ve got Too Much Of A Good Thing, so book those tickets now!', 'location address': 'Hearst Greek Theatre, 2001 Gayley Rd, Berkeley, CA 94720', 'target_audience': 'Open to all', 'budget': '70'}, {'title': 'Cal Climbing x B-Side ', 'start': Timestamp('2024-10-19 19:00:00'), 'end': Timestamp('2024-10-19 23:59:00'), 'location': '2205 Blake St', 'description': 'Boom💥Cal Climbing x B-Side band night\\n\\nMark your calendars for October 19th. Featuring sets from @pleaselaughband, @amidnightmirage, @thirddwheel, + @stantonnn\\n\\n$5 cover. Drinks provided 🍻\\n\\nPull up to 2205 Blake St for THE band night of the semester. \\U0001faf5 You won’t want to miss it', 'location address': '2205 Blake St, Berkeley, CA', 'target_audience': 'open to all', 'budget': '5'}, {'title': '2024 Fall ASUC Startup Fair', 'start': Timestamp('2024-10-23 14:00:00'), 'end': Timestamp('2024-10-23 18:00:00'), 'location': 'Senate Chamber, Eshleman Hall', 'description': \"Welcome to the 2024 Fall ASUC Startup Fair!\\n\\nThe event is primarily open to UC Berkeley students, scholars, and entrepreneurs around UC Berkeley campus including local businesses and alumni. It mainly focuses on providing opportunities for attending startups to increase their exposures on campus, test their products with potential customer groups, recruit students to accelerate their development, and explore investment opportunities from various campus resources (Incubators, VCs, etc.). There will be no charges for all people who are interested to participate in this fair.\\n\\n📅Date & Time: Oct 23, 2-6PM (please make sure that your company can attend for at least 2 consecutive hours)\\n📍Location: Senate Chamber, Eshleman Hall (2465 Bancroft Way)\\n❤️Eligibility: We would require the startup to at least have a MVP ready to put into beta testing. We would also kindly encourage you to imply the stage of your company so that we can optimize your fair experience!\\n🍱Catering: We provide charcuterie, snacks, and water (you can also find them around the building).\\n🏮Cultural Inclusivity: As a strong advocate for multiculturalism, we warmly welcome all cultural groups and entrepreneurs from all cultural backgrounds to join our event.\\nFor more information, please follow us on Instagram @senator.annabelwang\\nStartup Sign-up: https://forms.gle/eboRiuz9ATTqMwcP8\\nStudent / Bay Area Scholar Sign-up: https://forms.gle/ChtGTHnAZTt5EiZq8\\nInvestor / Alumni: Sign up directly through Eventbrite.\\nIf you're joining us from around the Bay Area, please fill out this form so we can reimburse your parking fee.\\n\", 'location address': '2465 Bancroft Way Berkeley, CA 94704', 'target_audience': 'Open to all', 'budget': '0'}, {'title': 'EE/CS Course Planning Workshop', 'start': Timestamp('2024-10-13 13:00:00'), 'end': Timestamp('2024-10-13 16:00:00'), 'location': 'The Woz', 'description': 'Need help deciding what courses to take next semester? HKN, CSM, IEEE, AWE, and SWE are holding a course planning workshop with experienced students in all different areas of EECS to give advice on signing up for classes. Come to the Woz on Sunday 10/13 at 1-4pm. There will be food! Bring your friends!\\n', 'location address': '1860 Le Roy Ave, Berkeley, CA 94720', 'target_audience': 'Open to all', 'budget': '0'}, {'title': \"The GodFathers Present Five Nights at Freddy's\", 'start': Timestamp('2024-10-31 22:00:00'), 'end': Timestamp('2024-11-01 02:00:00'), 'location': '2539 Benvenue Ave, Berkeley, CA', 'description': 'BACK BY POPULAR DEMAND‼️The Godfathers present: FIVE NIGHTS AT FREDDYS HALLOWEEN RAGER🎉OCTOBER 31st.\\n2539 Benvenue Ave, Berkeley, CA.\\nPresale tickets on sale now! Link in BIO!\\nPresale: $5\\nDay of: $10\\nIn collaboration with @poppincal\\n… Trick or Drink .. or you’re fucking scared‼️🧟\\u200d♂️\\nPC: @nicholesarchives', 'location address': '2539 Benvenue Ave, Berkeley, CA', 'target_audience': 'Black & Latinx Community, Open to All', 'budget': '10'}, {'title': 'Votechella concert Featuring the Dare & DJ Mandy', 'start': Timestamp('2024-10-11 17:00:00'), 'end': Timestamp('2024-10-11 19:00:00'), 'location': 'Lower Sproul', 'description': '🎵 💚 SEND THEM TO THE DARE, YEAH, I THINK HE’S WITH IT💚 🎵\\n\\nGet ready! BRAT Summer may be over, but BRAT FALL is just starting and we’re serving up something MAJOR 😏💅. The Dare is pulling up for an exclusive live performance @ Lower Sproul on October 11th…and it’s giving BRAT. 🎤✨\\n\\nAND, we have our very own DJ MANDY as the opener😼We know y’all been waiting for this collab🔥SO TAP IN!\\n\\nBrought to you in collaboration with @asuceavp , where we’re not just turning up—we’re turning OUT! Don’t forget to vote this upcoming election, brats. 🗳️💖\\n\\nGrab your Cal ID, bring your best vibes, and let’s light up Lower Sproul like the legends we are. 🔥✨\\n\\n💬 In the comments, tell us what ur fit is about to look like 👀🔥 See you there…💚\\n\\n🎨 @scaaamlikely\\n\\nEVENT DETAILZ:\\nFriday, October 11th\\n5-7PM\\nLower Sproul\\nFREE W/ CAL ID', 'location address': 'Martin Luther King Jr Student Union Asuc, 2495 Bancroft Way, Berkeley, CA 94720', 'target_audience': 'Berkeley Students', 'budget': '0'}, {'title': 'Shannon and the Clams Concert', 'start': Timestamp('2024-10-19 20:00:00'), 'end': Timestamp('2024-10-19 23:00:00'), 'location': 'Fox Theater', 'description': 'Shannon and the Clams are coming to the Fox Theater at 8PM! Known for their unique blend of retro rock ‘n’ roll, garage punk, and soulful vibes, this Oakland-based band always brings an unforgettable show', 'location address': '1807 Telegraph Ave, Oakland, CA 94612', 'target_audience': 'Open to all', 'budget': '50'}, {'title': 'John Summit Concert', 'start': Timestamp('2024-10-19 20:00:00'), 'end': Timestamp('2024-10-19 23:59:00'), 'location': 'Cow Palace', 'description': 'Chicago native John Summit\\'s rise to prominence is a testament to the power of hard work and creative passion – but what truly sets him apart is his infectious energy and boundless enthusiasm. Whether he’s playing a sold-out festival or an intimate club, John Summit is always the life of the party, bringing his signature brand of high-octane spirit to every set.\\n\\nWith over 500 million global streams on Spotify alone, John has garnered a massive following of 7 million+ monthly listeners and a dedicated fanbase. And yet, behind the larger-than-life persona lies a relatable, down-to-earth artist who once worked as a CPA by day and taught YouTube music production tutorials by night. This duality is reflected in his music, which manages to be both accessible yet complex.\\n\\nJohn Summit\\'s desire for artistic freedom led him to launch his own record label and events brand, Experts Only. The label\\'s ethos of \"music without limits\" reflects John’s refusal to be pigeonholed and his willingness to experiment with a variety of sounds and styles. Through Experts Only, John is set to throw one-of-a-kind events in unique locations worldwide creating a community of like-minded artists and fans, united by their love of boundary-pushing dance music and unforgettable live event experiences.', 'location address': '2600 Geneva Ave, Daly City, CA 94014', 'target_audience': 'Open to all', 'budget': '100'}, {'title': 'Royel Otis Concert', 'start': Timestamp('2024-10-18 20:00:00'), 'end': Timestamp('2024-10-18 23:00:00'), 'location': 'Fox Theater', 'description': 'The Australian indie duo, Royel Otis, is coming to @foxoakland!! Take a break from studying and leave CAMPUS for a bit to hear their debut album, PRITTS & PRATTS live 🎸🎸 ', 'location address': '1807 Telegraph Ave, Oakland, CA 94612', 'target_audience': 'Open to all', 'budget': '50'}, {'title': 'Trick or Trivia', 'start': Timestamp('2024-10-28 19:00:00'), 'end': Timestamp('2024-10-28 21:00:00'), 'location': 'Cornerstone', 'description': 'TRICK OR TRIVIA - SUPERB BAR TRIVIA @ Cornerstone', 'location address': '2367 Shattuck Ave., Berkeley, CA 94704', 'target_audience': 'Berkeley Students', 'budget': '0'}, {'title': 'October Open Mic - Tiny Dorm', 'start': Timestamp('2024-10-16 20:00:00'), 'end': Timestamp('2024-10-16 22:00:00'), 'location': 'The Metropolitan, 2nd Floor', 'description': 'MUSIC LOVERS! Tiny Dorms’s October Open Mic is here! 🤯 Get ready to sing your hearts out and finally prove to your friends that you can actually play guitar and didn’t just learn two chords after watching a YouTube cover at 2am. 🎸\\n\\nTickets are in the link in bio, slots fill fast!!! RSVP to secure your spot. DM us for any other questions!!! See you there!!!', 'location address': '2301 Durant Ave, Berkeley, CA 9470', 'target_audience': 'Open to all, Berkeley Students', 'budget': '0'}, {'title': 'Cap Club - Fall 2024 Premiere', 'start': Timestamp('2024-10-12 17:30:00'), 'end': Timestamp('2024-10-12 20:30:00'), 'location': 'Dwinelle 155', 'description': 'Our first premiere for FALL 2024 is coming soon! Come and watch incredible short films made by UC Berkeley students!\\n\\nAdmission is free and open to the public!\\n\\nSaturday, October 12th\\nDoors open @ 5PM\\nScreenings start @ 5:30PM', 'location address': 'South Dr, Berkeley, CA 94720', 'target_audience': 'Open to all', 'budget': '0'}, {'title': 'BKAA x KASA Career Panel', 'start': Timestamp('2024-10-18 17:00:00'), 'end': Timestamp('2024-10-18 19:00:00'), 'location': 'Dwinelle 105', 'description': 'it’s time for our annual career panel with @bkaa_official !! come out to this amazing opportunity to meet with accomplished alumni and other students! make sure to fill out the RSVP form (tinyurl.com/kasaxbkaa) and we’ll see you there :)\\n—\\n📆 October 18th (Friday) @ 5-7pm\\n📍 Dwinelle 105\\n👔 Business casual\\n✅ tinyurl.com/kasaxbkaa', 'location address': 'South Dr, Berkeley, CA 94720', 'target_audience': 'Open to all, Berkeley Students, Korean-American Community ', 'budget': '0'}, {'title': 'Bizerkeley Vegan Food Festival', 'start': Timestamp('2024-10-22 12:00:00'), 'end': Timestamp('2024-10-22 20:00:00'), 'location': 'Civic Center Park', 'description': 'This vegan festival celebrates plant-based cuisine with over 100 vendors showcasing food, beverages, and cruelty-free products. It also features live entertainment and games for the entire family.', 'location address': '2151 Martin Luther King Jr. Way, Berkeley, CA 94704', 'target_audience': 'Open to all, Berkeley Students, Vegans, vegetarians, foodies, health-conscious individuals, families', 'budget': '0'}, {'title': 'Berkeley Harvest Festival', 'start': Timestamp('2024-10-23 12:00:00'), 'end': Timestamp('2024-10-23 12:00:00'), 'location': 'Cedar Rose Park', 'description': 'A fall celebration featuring a food contest, live music, and community activities. This event highlights local produce, sustainable food practices, and family-friendly fun.', 'location address': '1300 Rose St, Berkeley, CA 94702', 'target_audience': 'Open to all, Foodies, Families, Berkeley Students', 'budget': '0'}, {'title': 'East Asian Night Market', 'start': Timestamp('2024-11-13 18:00:00'), 'end': Timestamp('2024-11-13 21:00:00'), 'location': 'Upper Sproul Plaza', 'description': \"Picture this: sizzling dumplings, bubble tea that's as sweet as your wildest dreams, and ramen that'll warm your soul. But it’s not just about the food—expect jaw-dropping performances, games, and all the cultural vibes that will make you feel like you’ve stepped into a bustling street market in Tokyo or Taipei. 🍜🎶🎉\", 'location address': '2030 Addison Street Berkeley, California 94704', 'target_audience': 'Open to all, Foodies, Berkeley Students', 'budget': '0'}, {'title': 'Dosas and Mimosas', 'start': Timestamp('2024-04-17 19:00:00'), 'end': Timestamp('2024-04-17 22:00:00'), 'location': 'Krutch Theatre', 'description': 'Seen the news lately? You’ll want to know what the rest of the ton is talking about…Dosas & Mimosas! Our latest event is this Wednesday, April 17th from 7-10 PM at Krutch Theatre! Featuring performances from Maya, z, deewani, natya, raas, naach, laya, and dilse. So get your tickets now for a night of delectable food, drinks, and more.', 'location address': '2601 Warring St, Berkeley, CA 94720', 'target_audience': 'Open to all', 'budget': '$10'}], 'eventRecommendations': [], 'messageHistory': []}\n",
            "food node recommendations:  Based on your budget range of $15-30 and the diverse culinary scene in Berkeley and the surrounding Bay Area, here are three recommended events that align with your interests:\n",
            "\n",
            "1. **Bizerkeley Vegan Food Festival**\n",
            "   - **Date & Time:** October 22, 2024, from 12:00 PM to 8:00 PM\n",
            "   - **Location:** Civic Center Park, 2151 Martin Luther King Jr. Way, Berkeley, CA 94704\n",
            "   - **Description:** This festival celebrates plant-based cuisine with over 100 vendors showcasing food, beverages, and cruelty-free products. It also features live entertainment and games for the entire family. This event is perfect for exploring a variety of vegan and vegetarian options, and it's free to attend, allowing you to spend your budget on trying different foods.\n",
            "   - **Budget:** Free entry, food purchases within your budget.\n",
            "\n",
            "2. **East Asian Night Market**\n",
            "   - **Date & Time:** November 13, 2024, from 6:00 PM to 9:00 PM\n",
            "   - **Location:** Upper Sproul Plaza, 2030 Addison Street, Berkeley, CA 94704\n",
            "   - **Description:** Experience a vibrant night market with sizzling dumplings, bubble tea, and ramen. The event also includes cultural performances and games, offering a taste of East Asian street market vibes. This is a great opportunity to explore diverse Asian cuisines within your budget.\n",
            "   - **Budget:** Free entry, food purchases within your budget.\n",
            "\n",
            "3. **Berkeley Harvest Festival**\n",
            "   - **Date & Time:** October 23, 2024, starting at 12:00 PM\n",
            "   - **Location:** Cedar Rose Park, 1300 Rose St, Berkeley, CA 94702\n",
            "   - **Description:** A fall celebration featuring a food contest, live music, and community activities. This event highlights local produce and sustainable food practices, making it a great choice for foodies interested in local and sustainable options. The festival is free to attend, allowing you to allocate your budget to enjoy the food offerings.\n",
            "   - **Budget:** Free entry, food purchases within your budget.\n",
            "\n",
            "These events offer a variety of food experiences and align with your budget, providing opportunities to explore different cuisines and enjoy the local food scene.\n",
            "foodie node event recommendations:  []\n",
            "foodie node state:  {'user_persona': UserPersona(uuid='1', name='Jane Doe', username='jane_doe', schoolyear='School Year', major='Data Science', event_preferences=['Foodies', ' Concerts'], free_vs_paid_events='Occasional Paid', preferred_day='Weekends', preferred_time_of_day='Evenings', location_preference='Walking distance', hobbies=['Cooking', ' Art', ' Music Festivals'], message_history=None, foodie_budget='$15-30', concert_budget='$20-50', favoriteCuisines=None, musicGenres=None), 'agentsToInvoke': ['foodie', 'concerts'], 'available_events': [{'title': 'Data4All Undergraduate Teaching', 'start': Timestamp('2024-10-11 15:00:00'), 'end': Timestamp('2024-10-12 16:00:00'), 'location': 'Soda Hall Room 510', 'description': 'DataCookies (October Edition): Data4All Undergraduate Teaching. Are you interested in undergraduate teaching? Do you identify as a minority in EECS/Computer Science and/or a junior transfer student? Join us on Friday October 11th (3-4pm)  for a panel on How to get involved in undergraduate teaching.\\nWe invite students enrolled in computer systems classes (CS61C, CS162, CS186, CS161, CS152, CS168) to attend the next DataCookies event! Meet up with like minded students and find out more about what undergraduate teaching is like at Berkeley. You’ll hear from sophomores, juniors and seniors about when and how they got involved. It is never too early.\\nThe event will take place in Soda 510. Refreshments will be provided.  There will be a period of mingling followed by a panel. The event is meant to be informal. There are no stupid questions!\\nData4All is a new initiative led by Lisa Yan and Natacha Crooks targeted towards increasing participation, retention, and engagement of URM students in Systems at UC Berkeley. If you’d like to sign up for our announcement list, please register here: https://eecs.link/data4all.\\nDataCookies events will feature invited speakers/panels once a month on Fridays, 3-4 PM.\\nDataCookies 1:  Speed Study Meetups (Sept 4th)\\nDataCookies 2:  How to get involved in undergraduate teaching (Oct 11th)\\nDataCookies 3:  Startup Founder (Date TBD)', 'location address': '2551 Hearst Ave, Berkeley, CA 94709', 'target_audience': 'minority in EECS/Computer Science, junior transfer student, enrolled in CS 61C, CS162, CS186, CS161, CS152, CS168)', 'budget': '0'}, {'title': '8 Miami Hurricanes v California Golden Bears', 'start': Timestamp('2024-10-12 19:30:00'), 'end': Timestamp('2024-10-12 22:30:00'), 'location': 'Memorial Stadium', 'description': 'Football Game', 'location address': '210 Stadium Rim Way, Berkeley, CA 94720', 'target_audience': 'Open to all', 'budget': '40'}, {'title': '[HKN] Course Planning Workshop', 'start': Timestamp('2024-10-13 13:00:00'), 'end': Timestamp('2024-10-13 16:00:00'), 'location': 'The Woz', 'description': 'Need help deciding what courses to take next semester? HKN, IEEE, CSM, AWE, and SWE are holding a course planning workshop with experienced students in all different areas of EECS to give advice on signing up for classes. Come to the Woz on Sun. October 13th at 1-4pm. There will be food! Bring your friends!', 'location address': '1860 Le Roy Ave, Berkeley, CA 94720', 'target_audience': 'open to all, targeting CS/EECS majors', 'budget': '0'}, {'title': 'Info-Session w/ TSMC', 'start': Timestamp('2024-10-07 17:30:00'), 'end': Timestamp('2024-10-07 19:00:00'), 'location': 'The Woz', 'description': 'TSMC will be on campus on TONIGHT (Monday, October 7) to hold an information session (light meal served) from 5:30-7:00pm at The Wozniak Lounge. We hope to see you there!\\n\\nStudents of all majors, including EE, CS, Chemistry/Chemical Engineering, Physics, Mechanical Engineering, Industrial Engineering, and non-STEM students, are invited to attend our info session to learn more about the company, our innovative work, and career opportunities we provide in our global locations.', 'location address': '1860 Le Roy Ave, Berkeley, CA 94720', 'target_audience': 'open to all', 'budget': '0'}, {'title': 'EECS Colloquium | Disruptive Innovation and Collaboration to Sustain the AI Revolution', 'start': Timestamp('2024-10-16 14:00:00'), 'end': Timestamp('2024-10-16 15:00:00'), 'location': 'Banatao Auditorium', 'description': 'Steady advancement in microelectronics technology over the past six decades have had transformative impact on life in modern society, as they have enabled exponential growth in information collection and processing, ushering in the age of artificial intelligence. Challenges for sustaining the AI revolution will require disruptive innovation and collaboration to overcome. This talk will give some examples of such opportunities to drive continued progress in our increasingly technology-dependent world.\\n\\nTsu-Jae King Liu is Dean and Roy W. Carlson Professor of Engineering at UC Berkeley, where she has conducted research and taught courses on semiconductor devices and technology since 1996. She is a Fellow of the Institute for Electrical and Electronic Engineers (IEEE) and the National Academy of Inventors, as well as an elected member of the U.S. National Academy of Engineering. She also serves on the Board of Directors for Intel Corp. and MaxLinear Inc. Her awards include the DARPA Significant Technical Achievement Award for development of the FinFET (the transistor design used in all leading-edge computer chips today), and the IEEE Founders Medal for leadership in the advancement and commercialization of nanometer semiconductor technologies and the promotion of microelectronics workforce development.\\n', 'location address': '310 Sutardja Dai Hall Berkeley, CA 94720', 'target_audience': 'All EECS faculty and students', 'budget': '0'}, {'title': 'New Silicon Initiative: Women in Hardware Technologies Speaker Series', 'start': Timestamp('2024-10-10 15:00:00'), 'end': Timestamp('2024-10-10 16:00:00'), 'location': 'Online', 'description': 'You’re invited to a special guest lecture with Jennifer Donnelly, senior director of design verification for Apple’s silicon engineering team. Learn about Jennifer’s career journey and what it’s like to be at the forefront of innovation at Apple.', 'location address': 'Online', 'target_audience': 'All EECS students, open to all', 'budget': '0'}, {'title': '[HKN] Zip Infosession', 'start': Timestamp('2024-10-10 17:00:00'), 'end': Timestamp('2024-10-10 18:00:00'), 'location': 'Banatao Auditorium', 'description': 'Tech talk, recruiting, free food! Come to Banatao Auditorium on this Thursday, 10/10 at 5pm for free food + a fireside chat with Zip (fintech unicorn startup)! Hear stories from Zip engineers and Berkeley alumni talking about growth, go-to-market, engineering challenges, and their career journeys! Free food--', 'location address': '310 Sutardja Dai Hall Berkeley, CA 94720', 'target_audience': 'Open to all', 'budget': '0'}, {'title': '[HKN] Hardware Career Fair', 'start': Timestamp('2024-10-15 12:00:00'), 'end': Timestamp('2024-10-15 16:00:00'), 'location': 'East Pauley Ballroom', 'description': 'Looking to jumpstart your career in hardware engineering or explore new opportunities in the field? Join us at the Hardware Career Fair on October 15 in East Pauley Ballroom, where top hardware companies will be recruiting for both intern and new grad talent. Bring your resume and take the next step in your hardware career journey!\\n', 'location address': '2495 Bancroft Way, Berkeley, CA 94720', 'target_audience': 'Hardware engineering students', 'budget': '0'}, {'title': '[HKN] Build Your Own Boba', 'start': Timestamp('2024-10-10 14:00:00'), 'end': Timestamp('2024-10-10 16:00:00'), 'location': 'Wozniak Terrace', 'description': \"Get ready for a DIY boba event open to all students! Join HKN and other students on Thursday, October 10 from 2-4 PM at the Wozniak Terrace to enjoy some free delicious bubble tea. It's a laid-back event where you can socialize with others or just get some work done while enjoying a refreshing beverage. Hope to see you there!\", 'location address': '1860 Le Roy Ave, Berkeley, CA 94720', 'target_audience': 'Open to all', 'budget': '0'}, {'title': 'Codeium Tech Talk', 'start': Timestamp('2024-10-07 20:00:00'), 'end': Timestamp('2024-10-07 22:00:00'), 'location': 'VLSB Room 2050', 'description': 'Codeium is hosting an upcoming tech talk / recruiting event next Monday, October 7, from 8-10PM in Valley Life Sciences Building 2050! There will be free food, free merch, and a chance to network with Codeium engineers.\\n\\nCodeium is building one of the leading AI code completion tools. As of August, it became one of Silicon Valley’s most recent unicorns by raising $150 million Series C funding at a valuation of $1.25 billion. Get to know the team, learn about the technical challenges they face in their day-to-day work, and find out what they’re looking for in this recruiting cycle!\\n\\nIf you’re interested in attending, please fill out our RSVP form and resume drop. Feel free to forward this to anyone you think might enjoy the event.\\n\\nWe look forward to seeing you there!', 'location address': 'Harmon Way, Berkeley, CA 94720', 'target_audience': 'Open to all', 'budget': '0'}, {'title': 'UC Berkeley MA Statistics Program Overview', 'start': Timestamp('2024-10-08 16:00:00'), 'end': Timestamp('2024-10-08 18:00:00'), 'location': 'Evans Hall Room 60', 'description': \"Are you an undergraduate student at UC Berkeley considering a future in statistics and data science? Maybe you are a PhD student looking to add the MA Statistics degree? Join us for an informative session on the MA Statistics program at UC Berkeley! This event is designed to provide an in-depth look at the program, including its curriculum, admission requirements, and the diverse career opportunities it offers. Hear from current students and faculty, get your questions answered, and network with like-minded peers. Light refreshments will be provided. Don't miss this opportunity to explore the next step in your academic journey!\\n\", 'location address': 'University Dr, Berkeley, CA 94720', 'target_audience': 'All interested in MA Statistics program', 'budget': '0'}, {'title': '10/11 Career Fair - Berkeley Space Symposium', 'start': Timestamp('2024-10-11 11:00:00'), 'end': Timestamp('2024-10-11 17:30:00'), 'location': 'Pauley Ballroom', 'description': 'The 2024 Berkeley Space Symposium is taking place on Friday, October 11th! Hosted by NewSpace@Berkeley and sponsored by ADDMAN, Blue Origin, and Redwire, this exciting event will be held at Pauley Ballroom from 11 AM - 5:30 PM. Whether you’re passionate about space or looking for internships and full-time opportunities related to EE and/or CS, this is a fantastic event for you. With a keynote address by Will Marshall, CEO and Founder of Planet, and 15+ companies attending to recruit students, including Varda, Vast, NASA Ames, Planet, and more, there are plenty of chances to connect with industry professionals.\\n\\nIn addition to the career fair, we’re offering limited speed mentoring sessions where you can receive valuable insights from prominent figures in the space community and exclusively network with them before the event officially begins. If you are interested, please write \"MUSKMELON\" in the promo code section on the eventbrite when registering. Berkeley’s aerospace clubs will also be showcasing their groundbreaking projects.\\n\\nPlus, we’ll be hosting a special drawing with amazing space-themed prizes! The top prizes are a FREE pair of AirPods Max, The Milky Way Galaxy Lego Set, and The Original Astronaut Pen alongside other exciting items such as space pens, posters, and more. Make sure to RSVP on Handshake and don\\'t miss this incredible opportunity to network, explore careers in space, and win great prizes!', 'location address': '2495 Bancroft Way, Berkeley, CA 94720', 'target_audience': 'Open to all', 'budget': '0'}, {'title': 'The Berkeley Project', 'start': Timestamp('2024-10-11 08:00:00'), 'end': Timestamp('2024-10-11 15:00:00'), 'location': 'Upper Sproul Plaza', 'description': 'Every semester, The Berkeley Project hosts the largest volunteer event on campus that aims to forge a closer relationship between the campus and the Berkeley community. Led by their site leaders, volunteers go to sites throughout Berkeley to volunteer on Berkeley Project Day. This semester, we will be hosting Berkeley Project Day on Saturday, November 2nd! If you have any questions, please reach out to our Volunteer Committee at volunteer@berkeleyproject.org.\\n\\n IMPORTANT Deadlines:\\nSite Leader (SL) – Friday, October 4th\\nVolunteer – Friday, October 11th\\nOrganization Sign Up – Friday, October 11th', 'location address': 'Martin Luther King Jr Student Union Asuc, 2495 Bancroft Way, Berkeley, CA 94720', 'target_audience': 'Open to all', 'budget': '0'}, {'title': 'Niki at The Greek Theatre', 'start': Timestamp('2024-10-03 17:50:00'), 'end': Timestamp('2024-10-03 21:00:00'), 'location': 'The Greek Theatre ', 'description': 'This time, she ain\\'t keeping this lowkey! Just in, one of the world\\'s biggest rising singer-songwriters just announced her biggest tour yet - visiting over 40 countries in a headlining global trek. NIKI is set to celebrate the release of her upcoming new album \"Buzz\" coming out on August 9th. After getting us feelin\\' like it\\'s every summertime, she\\'s set to dazzle listeners with an album teased to be her most ambitious yet. The album comes two years since the release of her sophomore LP \"Nicole\". It will feature her folk-rock lead single \"Too Much Of A Good Thing\". Part of the \"High School in Jakarta\" singer\\'s BUZZ WORLD TOUR is a special stop at Greek Theatre Berkeley on Thursday, October 3. As the 88rising artist makes headlines once again, her new album is expected to usher in a new NIKI vibe, driven by her teased folk-rock inspired album, Buzz. For now, we\\'ve got Too Much Of A Good Thing, so book those tickets now!', 'location address': 'Hearst Greek Theatre, 2001 Gayley Rd, Berkeley, CA 94720', 'target_audience': 'Open to all', 'budget': '70'}, {'title': 'Cal Climbing x B-Side ', 'start': Timestamp('2024-10-19 19:00:00'), 'end': Timestamp('2024-10-19 23:59:00'), 'location': '2205 Blake St', 'description': 'Boom💥Cal Climbing x B-Side band night\\n\\nMark your calendars for October 19th. Featuring sets from @pleaselaughband, @amidnightmirage, @thirddwheel, + @stantonnn\\n\\n$5 cover. Drinks provided 🍻\\n\\nPull up to 2205 Blake St for THE band night of the semester. \\U0001faf5 You won’t want to miss it', 'location address': '2205 Blake St, Berkeley, CA', 'target_audience': 'open to all', 'budget': '5'}, {'title': '2024 Fall ASUC Startup Fair', 'start': Timestamp('2024-10-23 14:00:00'), 'end': Timestamp('2024-10-23 18:00:00'), 'location': 'Senate Chamber, Eshleman Hall', 'description': \"Welcome to the 2024 Fall ASUC Startup Fair!\\n\\nThe event is primarily open to UC Berkeley students, scholars, and entrepreneurs around UC Berkeley campus including local businesses and alumni. It mainly focuses on providing opportunities for attending startups to increase their exposures on campus, test their products with potential customer groups, recruit students to accelerate their development, and explore investment opportunities from various campus resources (Incubators, VCs, etc.). There will be no charges for all people who are interested to participate in this fair.\\n\\n📅Date & Time: Oct 23, 2-6PM (please make sure that your company can attend for at least 2 consecutive hours)\\n📍Location: Senate Chamber, Eshleman Hall (2465 Bancroft Way)\\n❤️Eligibility: We would require the startup to at least have a MVP ready to put into beta testing. We would also kindly encourage you to imply the stage of your company so that we can optimize your fair experience!\\n🍱Catering: We provide charcuterie, snacks, and water (you can also find them around the building).\\n🏮Cultural Inclusivity: As a strong advocate for multiculturalism, we warmly welcome all cultural groups and entrepreneurs from all cultural backgrounds to join our event.\\nFor more information, please follow us on Instagram @senator.annabelwang\\nStartup Sign-up: https://forms.gle/eboRiuz9ATTqMwcP8\\nStudent / Bay Area Scholar Sign-up: https://forms.gle/ChtGTHnAZTt5EiZq8\\nInvestor / Alumni: Sign up directly through Eventbrite.\\nIf you're joining us from around the Bay Area, please fill out this form so we can reimburse your parking fee.\\n\", 'location address': '2465 Bancroft Way Berkeley, CA 94704', 'target_audience': 'Open to all', 'budget': '0'}, {'title': 'EE/CS Course Planning Workshop', 'start': Timestamp('2024-10-13 13:00:00'), 'end': Timestamp('2024-10-13 16:00:00'), 'location': 'The Woz', 'description': 'Need help deciding what courses to take next semester? HKN, CSM, IEEE, AWE, and SWE are holding a course planning workshop with experienced students in all different areas of EECS to give advice on signing up for classes. Come to the Woz on Sunday 10/13 at 1-4pm. There will be food! Bring your friends!\\n', 'location address': '1860 Le Roy Ave, Berkeley, CA 94720', 'target_audience': 'Open to all', 'budget': '0'}, {'title': \"The GodFathers Present Five Nights at Freddy's\", 'start': Timestamp('2024-10-31 22:00:00'), 'end': Timestamp('2024-11-01 02:00:00'), 'location': '2539 Benvenue Ave, Berkeley, CA', 'description': 'BACK BY POPULAR DEMAND‼️The Godfathers present: FIVE NIGHTS AT FREDDYS HALLOWEEN RAGER🎉OCTOBER 31st.\\n2539 Benvenue Ave, Berkeley, CA.\\nPresale tickets on sale now! Link in BIO!\\nPresale: $5\\nDay of: $10\\nIn collaboration with @poppincal\\n… Trick or Drink .. or you’re fucking scared‼️🧟\\u200d♂️\\nPC: @nicholesarchives', 'location address': '2539 Benvenue Ave, Berkeley, CA', 'target_audience': 'Black & Latinx Community, Open to All', 'budget': '10'}, {'title': 'Votechella concert Featuring the Dare & DJ Mandy', 'start': Timestamp('2024-10-11 17:00:00'), 'end': Timestamp('2024-10-11 19:00:00'), 'location': 'Lower Sproul', 'description': '🎵 💚 SEND THEM TO THE DARE, YEAH, I THINK HE’S WITH IT💚 🎵\\n\\nGet ready! BRAT Summer may be over, but BRAT FALL is just starting and we’re serving up something MAJOR 😏💅. The Dare is pulling up for an exclusive live performance @ Lower Sproul on October 11th…and it’s giving BRAT. 🎤✨\\n\\nAND, we have our very own DJ MANDY as the opener😼We know y’all been waiting for this collab🔥SO TAP IN!\\n\\nBrought to you in collaboration with @asuceavp , where we’re not just turning up—we’re turning OUT! Don’t forget to vote this upcoming election, brats. 🗳️💖\\n\\nGrab your Cal ID, bring your best vibes, and let’s light up Lower Sproul like the legends we are. 🔥✨\\n\\n💬 In the comments, tell us what ur fit is about to look like 👀🔥 See you there…💚\\n\\n🎨 @scaaamlikely\\n\\nEVENT DETAILZ:\\nFriday, October 11th\\n5-7PM\\nLower Sproul\\nFREE W/ CAL ID', 'location address': 'Martin Luther King Jr Student Union Asuc, 2495 Bancroft Way, Berkeley, CA 94720', 'target_audience': 'Berkeley Students', 'budget': '0'}, {'title': 'Shannon and the Clams Concert', 'start': Timestamp('2024-10-19 20:00:00'), 'end': Timestamp('2024-10-19 23:00:00'), 'location': 'Fox Theater', 'description': 'Shannon and the Clams are coming to the Fox Theater at 8PM! Known for their unique blend of retro rock ‘n’ roll, garage punk, and soulful vibes, this Oakland-based band always brings an unforgettable show', 'location address': '1807 Telegraph Ave, Oakland, CA 94612', 'target_audience': 'Open to all', 'budget': '50'}, {'title': 'John Summit Concert', 'start': Timestamp('2024-10-19 20:00:00'), 'end': Timestamp('2024-10-19 23:59:00'), 'location': 'Cow Palace', 'description': 'Chicago native John Summit\\'s rise to prominence is a testament to the power of hard work and creative passion – but what truly sets him apart is his infectious energy and boundless enthusiasm. Whether he’s playing a sold-out festival or an intimate club, John Summit is always the life of the party, bringing his signature brand of high-octane spirit to every set.\\n\\nWith over 500 million global streams on Spotify alone, John has garnered a massive following of 7 million+ monthly listeners and a dedicated fanbase. And yet, behind the larger-than-life persona lies a relatable, down-to-earth artist who once worked as a CPA by day and taught YouTube music production tutorials by night. This duality is reflected in his music, which manages to be both accessible yet complex.\\n\\nJohn Summit\\'s desire for artistic freedom led him to launch his own record label and events brand, Experts Only. The label\\'s ethos of \"music without limits\" reflects John’s refusal to be pigeonholed and his willingness to experiment with a variety of sounds and styles. Through Experts Only, John is set to throw one-of-a-kind events in unique locations worldwide creating a community of like-minded artists and fans, united by their love of boundary-pushing dance music and unforgettable live event experiences.', 'location address': '2600 Geneva Ave, Daly City, CA 94014', 'target_audience': 'Open to all', 'budget': '100'}, {'title': 'Royel Otis Concert', 'start': Timestamp('2024-10-18 20:00:00'), 'end': Timestamp('2024-10-18 23:00:00'), 'location': 'Fox Theater', 'description': 'The Australian indie duo, Royel Otis, is coming to @foxoakland!! Take a break from studying and leave CAMPUS for a bit to hear their debut album, PRITTS & PRATTS live 🎸🎸 ', 'location address': '1807 Telegraph Ave, Oakland, CA 94612', 'target_audience': 'Open to all', 'budget': '50'}, {'title': 'Trick or Trivia', 'start': Timestamp('2024-10-28 19:00:00'), 'end': Timestamp('2024-10-28 21:00:00'), 'location': 'Cornerstone', 'description': 'TRICK OR TRIVIA - SUPERB BAR TRIVIA @ Cornerstone', 'location address': '2367 Shattuck Ave., Berkeley, CA 94704', 'target_audience': 'Berkeley Students', 'budget': '0'}, {'title': 'October Open Mic - Tiny Dorm', 'start': Timestamp('2024-10-16 20:00:00'), 'end': Timestamp('2024-10-16 22:00:00'), 'location': 'The Metropolitan, 2nd Floor', 'description': 'MUSIC LOVERS! Tiny Dorms’s October Open Mic is here! 🤯 Get ready to sing your hearts out and finally prove to your friends that you can actually play guitar and didn’t just learn two chords after watching a YouTube cover at 2am. 🎸\\n\\nTickets are in the link in bio, slots fill fast!!! RSVP to secure your spot. DM us for any other questions!!! See you there!!!', 'location address': '2301 Durant Ave, Berkeley, CA 9470', 'target_audience': 'Open to all, Berkeley Students', 'budget': '0'}, {'title': 'Cap Club - Fall 2024 Premiere', 'start': Timestamp('2024-10-12 17:30:00'), 'end': Timestamp('2024-10-12 20:30:00'), 'location': 'Dwinelle 155', 'description': 'Our first premiere for FALL 2024 is coming soon! Come and watch incredible short films made by UC Berkeley students!\\n\\nAdmission is free and open to the public!\\n\\nSaturday, October 12th\\nDoors open @ 5PM\\nScreenings start @ 5:30PM', 'location address': 'South Dr, Berkeley, CA 94720', 'target_audience': 'Open to all', 'budget': '0'}, {'title': 'BKAA x KASA Career Panel', 'start': Timestamp('2024-10-18 17:00:00'), 'end': Timestamp('2024-10-18 19:00:00'), 'location': 'Dwinelle 105', 'description': 'it’s time for our annual career panel with @bkaa_official !! come out to this amazing opportunity to meet with accomplished alumni and other students! make sure to fill out the RSVP form (tinyurl.com/kasaxbkaa) and we’ll see you there :)\\n—\\n📆 October 18th (Friday) @ 5-7pm\\n📍 Dwinelle 105\\n👔 Business casual\\n✅ tinyurl.com/kasaxbkaa', 'location address': 'South Dr, Berkeley, CA 94720', 'target_audience': 'Open to all, Berkeley Students, Korean-American Community ', 'budget': '0'}, {'title': 'Bizerkeley Vegan Food Festival', 'start': Timestamp('2024-10-22 12:00:00'), 'end': Timestamp('2024-10-22 20:00:00'), 'location': 'Civic Center Park', 'description': 'This vegan festival celebrates plant-based cuisine with over 100 vendors showcasing food, beverages, and cruelty-free products. It also features live entertainment and games for the entire family.', 'location address': '2151 Martin Luther King Jr. Way, Berkeley, CA 94704', 'target_audience': 'Open to all, Berkeley Students, Vegans, vegetarians, foodies, health-conscious individuals, families', 'budget': '0'}, {'title': 'Berkeley Harvest Festival', 'start': Timestamp('2024-10-23 12:00:00'), 'end': Timestamp('2024-10-23 12:00:00'), 'location': 'Cedar Rose Park', 'description': 'A fall celebration featuring a food contest, live music, and community activities. This event highlights local produce, sustainable food practices, and family-friendly fun.', 'location address': '1300 Rose St, Berkeley, CA 94702', 'target_audience': 'Open to all, Foodies, Families, Berkeley Students', 'budget': '0'}, {'title': 'East Asian Night Market', 'start': Timestamp('2024-11-13 18:00:00'), 'end': Timestamp('2024-11-13 21:00:00'), 'location': 'Upper Sproul Plaza', 'description': \"Picture this: sizzling dumplings, bubble tea that's as sweet as your wildest dreams, and ramen that'll warm your soul. But it’s not just about the food—expect jaw-dropping performances, games, and all the cultural vibes that will make you feel like you’ve stepped into a bustling street market in Tokyo or Taipei. 🍜🎶🎉\", 'location address': '2030 Addison Street Berkeley, California 94704', 'target_audience': 'Open to all, Foodies, Berkeley Students', 'budget': '0'}, {'title': 'Dosas and Mimosas', 'start': Timestamp('2024-04-17 19:00:00'), 'end': Timestamp('2024-04-17 22:00:00'), 'location': 'Krutch Theatre', 'description': 'Seen the news lately? You’ll want to know what the rest of the ton is talking about…Dosas & Mimosas! Our latest event is this Wednesday, April 17th from 7-10 PM at Krutch Theatre! Featuring performances from Maya, z, deewani, natya, raas, naach, laya, and dilse. So get your tickets now for a night of delectable food, drinks, and more.', 'location address': '2601 Warring St, Berkeley, CA 94720', 'target_audience': 'Open to all', 'budget': '$10'}], 'eventRecommendations': [], 'messageHistory': []}\n",
            "1 in curator Node\n",
            "in curator Node\n",
            "curator agent response:  Based on Jane Doe's user profile and preferences, here are the top 3 event recommendations that align with her interests and budget:\n",
            "\n",
            "1. **Cal Climbing x B-Side Band Night**\n",
            "   - **Date & Time:** October 19, 2024, 7:00 PM - 11:59 PM\n",
            "   - **Location:** 2205 Blake St, Berkeley, CA\n",
            "   - **Description:** This event offers a casual and fun atmosphere with sets from various bands. With a $5 cover charge and drinks provided, it's an affordable and enjoyable night out. This event is within walking distance and fits Jane's concert budget, making it a great choice for a music festival enthusiast.\n",
            "\n",
            "2. **Bizerkeley Vegan Food Festival**\n",
            "   - **Date & Time:** October 22, 2024, from 12:00 PM to 8:00 PM\n",
            "   - **Location:** Civic Center Park, 2151 Martin Luther King Jr. Way, Berkeley, CA 94704\n",
            "   - **Description:** Celebrating plant-based cuisine with over 100 vendors, this festival is perfect for exploring a variety of vegan and vegetarian options. It's free to attend, allowing Jane to spend her budget on trying different foods. This event aligns with her foodie interests and is within walking distance.\n",
            "\n",
            "3. **Berkeley Harvest Festival**\n",
            "   - **Date & Time:** October 23, 2024, starting at 12:00 PM\n",
            "   - **Location:** Cedar Rose Park, 1300 Rose St, Berkeley, CA 94702\n",
            "   - **Description:** A fall celebration featuring a food contest, live music, and community activities. This event highlights local produce and sustainable food practices, making it a great choice for foodies interested in local and sustainable options. The festival is free to attend, allowing Jane to allocate her budget to enjoy the food offerings. It's also within walking distance and aligns with her interests in food and music.\n",
            "\n",
            "These events are selected based on Jane's preferences for food and concerts, her budget, and her location preference for events within walking distance.\n",
            "curator recommendations:  Based on Jane Doe's user profile and preferences, here are the top 3 event recommendations that align with her interests and budget:\n",
            "\n",
            "1. **Cal Climbing x B-Side Band Night**\n",
            "   - **Date & Time:** October 19, 2024, 7:00 PM - 11:59 PM\n",
            "   - **Location:** 2205 Blake St, Berkeley, CA\n",
            "   - **Description:** This event offers a casual and fun atmosphere with sets from various bands. With a $5 cover charge and drinks provided, it's an affordable and enjoyable night out. This event is within walking distance and fits Jane's concert budget, making it a great choice for a music festival enthusiast.\n",
            "\n",
            "2. **Bizerkeley Vegan Food Festival**\n",
            "   - **Date & Time:** October 22, 2024, from 12:00 PM to 8:00 PM\n",
            "   - **Location:** Civic Center Park, 2151 Martin Luther King Jr. Way, Berkeley, CA 94704\n",
            "   - **Description:** Celebrating plant-based cuisine with over 100 vendors, this festival is perfect for exploring a variety of vegan and vegetarian options. It's free to attend, allowing Jane to spend her budget on trying different foods. This event aligns with her foodie interests and is within walking distance.\n",
            "\n",
            "3. **Berkeley Harvest Festival**\n",
            "   - **Date & Time:** October 23, 2024, starting at 12:00 PM\n",
            "   - **Location:** Cedar Rose Park, 1300 Rose St, Berkeley, CA 94702\n",
            "   - **Description:** A fall celebration featuring a food contest, live music, and community activities. This event highlights local produce and sustainable food practices, making it a great choice for foodies interested in local and sustainable options. The festival is free to attend, allowing Jane to allocate her budget to enjoy the food offerings. It's also within walking distance and aligns with her interests in food and music.\n",
            "\n",
            "These events are selected based on Jane's preferences for food and concerts, her budget, and her location preference for events within walking distance.\n",
            "Final Event recommendations:  Hey Jane! 🎉 Get ready to fill your weekends with some amazing events that are just a short stroll away from your doorstep. Here are some exciting happenings that perfectly match your love for food and music:\n",
            "\n",
            "1. **Cal Climbing x B-Side Band Night**\n",
            "   - **Date & Time:** October 19, 2024, 7:00 PM - 11:59 PM\n",
            "   - **Location:** 2205 Blake St, Berkeley, CA\n",
            "   - **Why You’ll Love It:** Imagine a night filled with electrifying music from various bands, all in a laid-back and fun setting. With just a $5 cover charge and drinks available, this event is a steal and fits right into your concert budget. It's the perfect opportunity for a music festival enthusiast like you to unwind and enjoy some great tunes without breaking the bank. Plus, it's just a walk away!\n",
            "\n",
            "2. **Bizerkeley Vegan Food Festival**\n",
            "   - **Date & Time:** October 22, 2024, from 12:00 PM to 8:00 PM\n",
            "   - **Location:** Civic Center Park, 2151 Martin Luther King Jr. Way, Berkeley, CA 94704\n",
            "   - **Why You’ll Love It:** Dive into a world of plant-based delights with over 100 vendors showcasing the best in vegan and vegetarian cuisine. This festival is a paradise for foodies like you, offering a chance to explore new flavors without any entry fee. You can use your foodie budget to sample a variety of dishes, all within walking distance. It's a delicious adventure waiting to happen!\n",
            "\n",
            "3. **Berkeley Harvest Festival**\n",
            "   - **Date & Time:** October 23, 2024, starting at 12:00 PM\n",
            "   - **Location:** Cedar Rose Park, 1300 Rose St, Berkeley, CA 94702\n",
            "   - **Why You’ll Love It:** Celebrate the fall season with a festival that brings together food contests, live music, and community activities. This event is a fantastic way to enjoy local produce and sustainable food practices, aligning perfectly with your foodie interests. It's free to attend, so you can focus your budget on savoring the delightful food offerings. Plus, the live music adds a vibrant touch to the day, making it a must-visit for someone who loves both food and music.\n",
            "\n",
            "These events are tailored to your preferences, ensuring you have a fantastic time without straying far from home. Enjoy your weekends filled with flavors and rhythms! 🎶🍴\n"
          ]
        }
      ],
      "source": [
        "graph_response = graph.invoke(\n",
        "    dict(user_persona=jane_persona, agentsToInvoke = workerAgentsList, available_events = available_events), config=graph_config)"
      ]
    },
    {
      "cell_type": "markdown",
      "metadata": {
        "id": "hX5AGXUrlKvx"
      },
      "source": [
        "# Using Gradio"
      ]
    },
    {
      "cell_type": "code",
      "execution_count": null,
      "metadata": {
        "id": "tEnQ8YgCIiUg"
      },
      "outputs": [],
      "source": [
        "%%capture --no-stderr\n",
        "%pip install --no-cache-dir gradio"
      ]
    },
    {
      "cell_type": "code",
      "execution_count": null,
      "metadata": {
        "id": "ZhjY5LyY_g6G"
      },
      "outputs": [],
      "source": [
        "import gradio as gr\n",
        "from typing import List, Dict\n",
        "from datetime import datetime\n",
        "import pandas as pd\n",
        "from pydantic import BaseModel, Field\n",
        "\n",
        "# Assuming all the necessary classes and functions from your code are already defined\n",
        "# (UserPersona, EventData, ReflectionState, dispatcherAgentNode, foodieNode, concertNode, etc.)\n",
        "\n",
        "# Load the datasets\n",
        "cal_events = pd.read_csv('/content/drive/MyDrive/student-2024-fall-ucal/Databases/cal_events.csv')\n",
        "user_persona = pd.read_csv('/content/drive/MyDrive/student-2024-fall-ucal/Databases/user_persona.csv')\n",
        "\n",
        "# Initialize the matcher\n",
        "matcher = CalendarMatcher(cal_events)\n",
        "\n",
        "def foodieNode(state: ReflectionState, config: RunnableConfig) -> ReflectionState:\n",
        "    \"\"\"\n",
        "    This node is responsible for taking in events and fields from a userPersona to generate specific event recommendations for food\n",
        "    \"\"\"\n",
        "    agent = config[\"configurable\"][\"agents\"][\"foodie\"]\n",
        "    userPersona = state.user_persona\n",
        "\n",
        "    if state.feedback != \"\":\n",
        "        print(\"Reviewing feedback...\")\n",
        "        prompt = dict(\n",
        "            favoriteCuisines = userPersona.favoriteCuisines,\n",
        "            foodie_budget = userPersona.foodie_budget,\n",
        "            event_data = state.available_events,\n",
        "            feedback = state.feedback,\n",
        "            message_history = state.messageHistory\n",
        "        )\n",
        "    else:\n",
        "        print(\"Prompting agent for foodie event recommendations\")\n",
        "        prompt = dict(\n",
        "            favoriteCuisines = userPersona.favoriteCuisines,\n",
        "            foodie_budget = userPersona.foodie_budget,\n",
        "            event_data = state.available_events,\n",
        "            feedback = state.feedback,\n",
        "            message_history = state.messageHistory\n",
        "        )\n",
        "\n",
        "    response = agent.invoke(prompt)\n",
        "    print(response.content)\n",
        "    state.messageHistory.append(response.content)\n",
        "    print(\"foodie recommendations: \", response.content)\n",
        "    return state\n",
        "\n",
        "# Function to process user input and generate recommendations\n",
        "def process_input(message: str, history: List[List[str]]) -> str:\n",
        "    # For simplicity, we'll use Jane Doe's persona\n",
        "    jane_doe_data = next((item for item in json_user_data if item['Name'] == 'Jane Doe'), None)\n",
        "    jane_persona = deserialize_user_persona(jane_doe_data)\n",
        "\n",
        "    # Get available events\n",
        "    availability = CalendarAvailability.from_calendar_data(\"student123\", sample_calendar_data1)\n",
        "    available_events = matcher.find_available_events(availability)\n",
        "\n",
        "    # Initialize state\n",
        "    state = ReflectionState(\n",
        "        user_persona=jane_persona,\n",
        "        agentsToInvoke=[],\n",
        "        available_events=available_events,\n",
        "        messageHistory=history,\n",
        "        feedback=message\n",
        "    )\n",
        "\n",
        "    # Run the dispatcher agent\n",
        "    state = dispatcherAgentNode(state, {\"configurable\": {\"agents\": {\"dispatcher\": dispatcher_agent}}})\n",
        "\n",
        "    # Run the appropriate worker agents\n",
        "    for agent in state.agentsToInvoke:\n",
        "        if agent == \"foodie\":\n",
        "            state = foodieNode(state, {\"configurable\": {\"agents\": {\"foodie\": foodie_agent}}})\n",
        "        elif agent == \"concerts\":\n",
        "            state = concertNode(state, {\"configurable\": {\"agents\": {\"concerts\": concert_agent}}})\n",
        "\n",
        "    # Return the last message in the message history\n",
        "    return state.messageHistory[-1]\n",
        "\n",
        "# Create the Gradio interface\n",
        "iface = gr.ChatInterface(\n",
        "    process_input,\n",
        "    title=\"UC Berkeley Event Recommender\",\n",
        "    description=\"Ask for event recommendations or provide feedback on previous suggestions.\",\n",
        "    examples=[\n",
        "        \"What food events do you recommend?\",\n",
        "        \"Any concert recommendations?\",\n",
        "        \"I prefer cheaper events.\",\n",
        "        \"Can you suggest more diverse options?\"\n",
        "    ],\n",
        ")\n",
        "\n",
        "# Launch the interface\n",
        "iface.launch(debug=True)"
      ]
    },
    {
      "cell_type": "code",
      "execution_count": null,
      "metadata": {
        "id": "0u6-vcwRH_V1"
      },
      "outputs": [],
      "source": []
    },
    {
      "cell_type": "code",
      "execution_count": null,
      "metadata": {
        "id": "jg92AJnl5nC6"
      },
      "outputs": [],
      "source": []
    }
  ],
  "metadata": {
    "colab": {
      "collapsed_sections": [
        "FBoomARL_cz9",
        "sx-Toiyp_n94",
        "adrZatLoCLbt",
        "7VGEindQJm4y",
        "hX5AGXUrlKvx"
      ],
      "provenance": []
    },
    "kernelspec": {
      "display_name": "Python 3",
      "name": "python3"
    },
    "language_info": {
      "name": "python"
    }
  },
  "nbformat": 4,
  "nbformat_minor": 0
}
